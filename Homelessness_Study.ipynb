{
 "cells": [
  {
   "cell_type": "code",
   "execution_count": 2,
   "id": "003a25d3-b477-4b7b-b139-e66239c9cba6",
   "metadata": {},
   "outputs": [],
   "source": [
    "import pandas as pd\n",
    "import numpy as np\n",
    "import matplotlib.pyplot as plt\n",
    "import seaborn as sns\n",
    "import plotly.express as px"
   ]
  },
  {
   "cell_type": "code",
   "execution_count": 3,
   "id": "87fdcadc-f159-48af-9e9c-8e4b98467984",
   "metadata": {},
   "outputs": [],
   "source": [
    "file_path = \"C:/Users/nicks/OneDrive/DATA ANALYST/CAPSTONE/HUD Exchange/2018-2022 Housing Inventory Count by Coc/\"\n",
    "file_names = [\n",
    "    \"2018-HIC-Raw-File\",\n",
    "    \"2019-HIC-Raw-File\",\n",
    "    \"2020-HIC-Raw-File\",\n",
    "    \"2021-HIC-Raw-File\",\n",
    "    \"2022-HIC-Raw-File\"\n",
    "]\n",
    "\n",
    "dataframes = [pd.read_csv(file_path + file_name + \".csv\", low_memory=False) for file_name in file_names]\n",
    "\n",
    "# Merge the DataFrames\n",
    "merged_df = pd.concat(dataframes, ignore_index=True)\n",
    "remove_states = ['GU', 'PR', 'VI', 'MP']\n",
    "mask = ~merged_df['CocState'].isin(remove_states)\n",
    "merged_df = merged_df[mask]\n",
    "\n",
    "# Save the merged DataFrame as a new CSV file\n",
    "merged_df.to_csv(file_path + \"Merged-Housing-Inventory-Counts.csv\", index=False)"
   ]
  },
  {
   "cell_type": "code",
   "execution_count": 5,
   "id": "cf372e66-e2b4-41c7-8cc5-b8fc2d2f5940",
   "metadata": {},
   "outputs": [
    {
     "name": "stdout",
     "output_type": "stream",
     "text": [
      "<class 'pandas.core.frame.DataFrame'>\n",
      "Int64Index: 131311 entries, 0 to 132136\n",
      "Columns: 116 entries, Row # to HOPWAMedAssistedLivingFac\n",
      "dtypes: float64(63), int64(25), object(28)\n",
      "memory usage: 117.2+ MB\n"
     ]
    }
   ],
   "source": [
    "merged_df.info()"
   ]
  },
  {
   "cell_type": "code",
   "execution_count": 6,
   "id": "5418afa6-45d5-4e8b-8c98-7de40efb8ea5",
   "metadata": {},
   "outputs": [
    {
     "data": {
      "text/html": [
       "<div>\n",
       "<style scoped>\n",
       "    .dataframe tbody tr th:only-of-type {\n",
       "        vertical-align: middle;\n",
       "    }\n",
       "\n",
       "    .dataframe tbody tr th {\n",
       "        vertical-align: top;\n",
       "    }\n",
       "\n",
       "    .dataframe thead th {\n",
       "        text-align: right;\n",
       "    }\n",
       "</style>\n",
       "<table border=\"1\" class=\"dataframe\">\n",
       "  <thead>\n",
       "    <tr style=\"text-align: right;\">\n",
       "      <th></th>\n",
       "      <th>Row #</th>\n",
       "      <th>Coc\\ID</th>\n",
       "      <th>year</th>\n",
       "      <th>Organization ID</th>\n",
       "      <th>Project ID</th>\n",
       "      <th>Geo Code</th>\n",
       "      <th>beginsOperationsWithinYear</th>\n",
       "      <th>Mc Kinney-Vento</th>\n",
       "      <th>mcKinneyVentoEsg</th>\n",
       "      <th>mcKinneyVentoEsgEs</th>\n",
       "      <th>...</th>\n",
       "      <th>mcKinneyVentoEsgRrhCov</th>\n",
       "      <th>Total Population</th>\n",
       "      <th>County Population</th>\n",
       "      <th>mcKinneyVentoYhdp</th>\n",
       "      <th>mcKinneyVentoYhdpRenewals</th>\n",
       "      <th>federalFundingHopwaCovid</th>\n",
       "      <th>federalFundingHome</th>\n",
       "      <th>federalFundingHomeArp</th>\n",
       "      <th>federalFundingIndianEhv</th>\n",
       "      <th>HOPWAMedAssistedLivingFac</th>\n",
       "    </tr>\n",
       "  </thead>\n",
       "  <tbody>\n",
       "    <tr>\n",
       "      <th>count</th>\n",
       "      <td>131311.000000</td>\n",
       "      <td>131311.000000</td>\n",
       "      <td>131311.000000</td>\n",
       "      <td>131311.000000</td>\n",
       "      <td>131311.000000</td>\n",
       "      <td>131310.000000</td>\n",
       "      <td>2035.000000</td>\n",
       "      <td>49427.000000</td>\n",
       "      <td>131311.000000</td>\n",
       "      <td>15641.000000</td>\n",
       "      <td>...</td>\n",
       "      <td>6043.000000</td>\n",
       "      <td>5.100000e+01</td>\n",
       "      <td>2.700000e+01</td>\n",
       "      <td>29323.000000</td>\n",
       "      <td>29323.000000</td>\n",
       "      <td>239.000000</td>\n",
       "      <td>29323.000000</td>\n",
       "      <td>29323.000000</td>\n",
       "      <td>29323.000000</td>\n",
       "      <td>3939.000000</td>\n",
       "    </tr>\n",
       "    <tr>\n",
       "      <th>mean</th>\n",
       "      <td>441405.621578</td>\n",
       "      <td>1205.853577</td>\n",
       "      <td>2020.093054</td>\n",
       "      <td>15558.589478</td>\n",
       "      <td>82268.040530</td>\n",
       "      <td>280811.612307</td>\n",
       "      <td>0.930713</td>\n",
       "      <td>0.403909</td>\n",
       "      <td>0.119084</td>\n",
       "      <td>0.626367</td>\n",
       "      <td>...</td>\n",
       "      <td>0.384908</td>\n",
       "      <td>6.535050e+06</td>\n",
       "      <td>8.075175e+05</td>\n",
       "      <td>0.004092</td>\n",
       "      <td>0.003785</td>\n",
       "      <td>0.016736</td>\n",
       "      <td>0.003649</td>\n",
       "      <td>0.001159</td>\n",
       "      <td>0.017597</td>\n",
       "      <td>1.969535</td>\n",
       "    </tr>\n",
       "    <tr>\n",
       "      <th>std</th>\n",
       "      <td>81202.048428</td>\n",
       "      <td>140.922096</td>\n",
       "      <td>1.424526</td>\n",
       "      <td>14728.331352</td>\n",
       "      <td>49101.065259</td>\n",
       "      <td>158718.589149</td>\n",
       "      <td>0.254005</td>\n",
       "      <td>0.490685</td>\n",
       "      <td>0.323888</td>\n",
       "      <td>0.483783</td>\n",
       "      <td>...</td>\n",
       "      <td>0.486614</td>\n",
       "      <td>7.423508e+06</td>\n",
       "      <td>7.014780e+05</td>\n",
       "      <td>0.063842</td>\n",
       "      <td>0.061410</td>\n",
       "      <td>0.128551</td>\n",
       "      <td>0.060298</td>\n",
       "      <td>0.034032</td>\n",
       "      <td>0.131484</td>\n",
       "      <td>0.243944</td>\n",
       "    </tr>\n",
       "    <tr>\n",
       "      <th>min</th>\n",
       "      <td>314144.000000</td>\n",
       "      <td>951.000000</td>\n",
       "      <td>2018.000000</td>\n",
       "      <td>1.000000</td>\n",
       "      <td>4.000000</td>\n",
       "      <td>10072.000000</td>\n",
       "      <td>0.000000</td>\n",
       "      <td>0.000000</td>\n",
       "      <td>0.000000</td>\n",
       "      <td>0.000000</td>\n",
       "      <td>...</td>\n",
       "      <td>0.000000</td>\n",
       "      <td>5.813810e+05</td>\n",
       "      <td>8.580800e+04</td>\n",
       "      <td>0.000000</td>\n",
       "      <td>0.000000</td>\n",
       "      <td>0.000000</td>\n",
       "      <td>0.000000</td>\n",
       "      <td>0.000000</td>\n",
       "      <td>0.000000</td>\n",
       "      <td>0.000000</td>\n",
       "    </tr>\n",
       "    <tr>\n",
       "      <th>25%</th>\n",
       "      <td>362445.500000</td>\n",
       "      <td>1070.000000</td>\n",
       "      <td>2019.000000</td>\n",
       "      <td>4389.000000</td>\n",
       "      <td>29058.000000</td>\n",
       "      <td>129033.000000</td>\n",
       "      <td>1.000000</td>\n",
       "      <td>0.000000</td>\n",
       "      <td>0.000000</td>\n",
       "      <td>0.000000</td>\n",
       "      <td>...</td>\n",
       "      <td>0.000000</td>\n",
       "      <td>1.857094e+06</td>\n",
       "      <td>3.003740e+05</td>\n",
       "      <td>0.000000</td>\n",
       "      <td>0.000000</td>\n",
       "      <td>0.000000</td>\n",
       "      <td>0.000000</td>\n",
       "      <td>0.000000</td>\n",
       "      <td>0.000000</td>\n",
       "      <td>2.000000</td>\n",
       "    </tr>\n",
       "    <tr>\n",
       "      <th>50%</th>\n",
       "      <td>445787.000000</td>\n",
       "      <td>1213.000000</td>\n",
       "      <td>2020.000000</td>\n",
       "      <td>9064.000000</td>\n",
       "      <td>99248.000000</td>\n",
       "      <td>279003.000000</td>\n",
       "      <td>1.000000</td>\n",
       "      <td>0.000000</td>\n",
       "      <td>0.000000</td>\n",
       "      <td>1.000000</td>\n",
       "      <td>...</td>\n",
       "      <td>0.000000</td>\n",
       "      <td>4.512310e+06</td>\n",
       "      <td>6.255840e+05</td>\n",
       "      <td>0.000000</td>\n",
       "      <td>0.000000</td>\n",
       "      <td>0.000000</td>\n",
       "      <td>0.000000</td>\n",
       "      <td>0.000000</td>\n",
       "      <td>0.000000</td>\n",
       "      <td>2.000000</td>\n",
       "    </tr>\n",
       "    <tr>\n",
       "      <th>75%</th>\n",
       "      <td>515097.500000</td>\n",
       "      <td>1336.000000</td>\n",
       "      <td>2021.000000</td>\n",
       "      <td>24439.000000</td>\n",
       "      <td>117972.000000</td>\n",
       "      <td>409115.000000</td>\n",
       "      <td>1.000000</td>\n",
       "      <td>1.000000</td>\n",
       "      <td>0.000000</td>\n",
       "      <td>1.000000</td>\n",
       "      <td>...</td>\n",
       "      <td>1.000000</td>\n",
       "      <td>7.572492e+06</td>\n",
       "      <td>9.406075e+05</td>\n",
       "      <td>0.000000</td>\n",
       "      <td>0.000000</td>\n",
       "      <td>0.000000</td>\n",
       "      <td>0.000000</td>\n",
       "      <td>0.000000</td>\n",
       "      <td>0.000000</td>\n",
       "      <td>2.000000</td>\n",
       "    </tr>\n",
       "    <tr>\n",
       "      <th>max</th>\n",
       "      <td>601191.000000</td>\n",
       "      <td>1511.000000</td>\n",
       "      <td>2022.000000</td>\n",
       "      <td>46385.000000</td>\n",
       "      <td>163506.000000</td>\n",
       "      <td>569041.000000</td>\n",
       "      <td>1.000000</td>\n",
       "      <td>1.000000</td>\n",
       "      <td>1.000000</td>\n",
       "      <td>1.000000</td>\n",
       "      <td>...</td>\n",
       "      <td>1.000000</td>\n",
       "      <td>3.902934e+07</td>\n",
       "      <td>2.763366e+06</td>\n",
       "      <td>1.000000</td>\n",
       "      <td>1.000000</td>\n",
       "      <td>1.000000</td>\n",
       "      <td>1.000000</td>\n",
       "      <td>1.000000</td>\n",
       "      <td>1.000000</td>\n",
       "      <td>2.000000</td>\n",
       "    </tr>\n",
       "  </tbody>\n",
       "</table>\n",
       "<p>8 rows × 88 columns</p>\n",
       "</div>"
      ],
      "text/plain": [
       "               Row #         Coc\\ID           year  Organization ID  \\\n",
       "count  131311.000000  131311.000000  131311.000000    131311.000000   \n",
       "mean   441405.621578    1205.853577    2020.093054     15558.589478   \n",
       "std     81202.048428     140.922096       1.424526     14728.331352   \n",
       "min    314144.000000     951.000000    2018.000000         1.000000   \n",
       "25%    362445.500000    1070.000000    2019.000000      4389.000000   \n",
       "50%    445787.000000    1213.000000    2020.000000      9064.000000   \n",
       "75%    515097.500000    1336.000000    2021.000000     24439.000000   \n",
       "max    601191.000000    1511.000000    2022.000000     46385.000000   \n",
       "\n",
       "          Project ID       Geo Code  beginsOperationsWithinYear  \\\n",
       "count  131311.000000  131310.000000                 2035.000000   \n",
       "mean    82268.040530  280811.612307                    0.930713   \n",
       "std     49101.065259  158718.589149                    0.254005   \n",
       "min         4.000000   10072.000000                    0.000000   \n",
       "25%     29058.000000  129033.000000                    1.000000   \n",
       "50%     99248.000000  279003.000000                    1.000000   \n",
       "75%    117972.000000  409115.000000                    1.000000   \n",
       "max    163506.000000  569041.000000                    1.000000   \n",
       "\n",
       "       Mc Kinney-Vento  mcKinneyVentoEsg  mcKinneyVentoEsgEs  ...  \\\n",
       "count     49427.000000     131311.000000        15641.000000  ...   \n",
       "mean          0.403909          0.119084            0.626367  ...   \n",
       "std           0.490685          0.323888            0.483783  ...   \n",
       "min           0.000000          0.000000            0.000000  ...   \n",
       "25%           0.000000          0.000000            0.000000  ...   \n",
       "50%           0.000000          0.000000            1.000000  ...   \n",
       "75%           1.000000          0.000000            1.000000  ...   \n",
       "max           1.000000          1.000000            1.000000  ...   \n",
       "\n",
       "       mcKinneyVentoEsgRrhCov  Total Population  County Population  \\\n",
       "count             6043.000000      5.100000e+01       2.700000e+01   \n",
       "mean                 0.384908      6.535050e+06       8.075175e+05   \n",
       "std                  0.486614      7.423508e+06       7.014780e+05   \n",
       "min                  0.000000      5.813810e+05       8.580800e+04   \n",
       "25%                  0.000000      1.857094e+06       3.003740e+05   \n",
       "50%                  0.000000      4.512310e+06       6.255840e+05   \n",
       "75%                  1.000000      7.572492e+06       9.406075e+05   \n",
       "max                  1.000000      3.902934e+07       2.763366e+06   \n",
       "\n",
       "       mcKinneyVentoYhdp  mcKinneyVentoYhdpRenewals  federalFundingHopwaCovid  \\\n",
       "count       29323.000000               29323.000000                239.000000   \n",
       "mean            0.004092                   0.003785                  0.016736   \n",
       "std             0.063842                   0.061410                  0.128551   \n",
       "min             0.000000                   0.000000                  0.000000   \n",
       "25%             0.000000                   0.000000                  0.000000   \n",
       "50%             0.000000                   0.000000                  0.000000   \n",
       "75%             0.000000                   0.000000                  0.000000   \n",
       "max             1.000000                   1.000000                  1.000000   \n",
       "\n",
       "       federalFundingHome  federalFundingHomeArp  federalFundingIndianEhv  \\\n",
       "count        29323.000000           29323.000000             29323.000000   \n",
       "mean             0.003649               0.001159                 0.017597   \n",
       "std              0.060298               0.034032                 0.131484   \n",
       "min              0.000000               0.000000                 0.000000   \n",
       "25%              0.000000               0.000000                 0.000000   \n",
       "50%              0.000000               0.000000                 0.000000   \n",
       "75%              0.000000               0.000000                 0.000000   \n",
       "max              1.000000               1.000000                 1.000000   \n",
       "\n",
       "       HOPWAMedAssistedLivingFac  \n",
       "count                3939.000000  \n",
       "mean                    1.969535  \n",
       "std                     0.243944  \n",
       "min                     0.000000  \n",
       "25%                     2.000000  \n",
       "50%                     2.000000  \n",
       "75%                     2.000000  \n",
       "max                     2.000000  \n",
       "\n",
       "[8 rows x 88 columns]"
      ]
     },
     "execution_count": 6,
     "metadata": {},
     "output_type": "execute_result"
    }
   ],
   "source": [
    "merged_df.describe()"
   ]
  },
  {
   "cell_type": "code",
   "execution_count": 155,
   "id": "bc50e70c-6397-4a16-bfc7-a87b8c003545",
   "metadata": {},
   "outputs": [],
   "source": [
    "subset_df = merged_df[['CocState', 'CoC', 'year', 'Project Name', 'Project Type', 'Project ID', 'Geo Code', 'Total Population', 'County Population', 'PIT Count', 'Total Beds']]\n"
   ]
  },
  {
   "cell_type": "markdown",
   "id": "addcf953-ffe1-4e75-91b1-f9f0563c7353",
   "metadata": {},
   "source": [
    "### How many housing programs are there per state and do they increase or decrease year over year?"
   ]
  },
  {
   "cell_type": "code",
   "execution_count": 116,
   "id": "6e50f8f2-2042-4370-b6f7-a287628bc516",
   "metadata": {},
   "outputs": [],
   "source": [
    "orgs_per_state_per_year_df = subset_df.groupby(['CocState', 'year']).agg({\n",
    "    'Project ID': 'nunique'\n",
    "}).reset_index()    \n"
   ]
  },
  {
   "cell_type": "code",
   "execution_count": 117,
   "id": "5dc18f50-75f8-4894-b2d6-599815fd95f4",
   "metadata": {},
   "outputs": [
    {
     "data": {
      "image/png": "[encoded data removed]",
      "text/plain": [
       "<Figure size 1200x800 with 1 Axes>"
      ]
     },
     "metadata": {},
     "output_type": "display_data"
    }
   ],
   "source": [
    "pivot_orgs_pspy_df = orgs_per_state_per_year_df.pivot_table(values='Project ID', index='CocState', columns='year', fill_value=0)\n",
    "ax = pivot_orgs_pspy_df.plot.bar(stacked=True, figsize=(12, 8))\n",
    "plt.title(\"Housing Programs per State 2018-2022\")\n",
    "plt.xlabel(\"State\")\n",
    "plt.ylabel(\"Number of Housing Programs\")\n",
    "plt.legend(title='Year', loc='upper right')\n",
    "plt.show()"
   ]
  },
  {
   "cell_type": "code",
   "execution_count": 118,
   "id": "97cbca84-1a0c-4cdf-8204-6bd5f9e62541",
   "metadata": {},
   "outputs": [],
   "source": [
    "filtered_proj_table = orgs_per_state_per_year_df[orgs_per_state_per_year_df['year'].isin([2018, 2022])]\n",
    "comparison_table = filtered_proj_table.pivot_table(values='Project ID', index='CocState', columns='year', fill_value=0)\n"
   ]
  },
  {
   "cell_type": "code",
   "execution_count": 135,
   "id": "f2fc3461-f998-4f03-a658-11e12be912c7",
   "metadata": {},
   "outputs": [],
   "source": [
    "comparison_table['Difference'] = comparison_table[2022] - comparison_table[2018]\n",
    "comparison_table['Percent Change'] = ((comparison_table[2022] - comparison_table[2018]) / comparison_table[2018]) * 100\n",
    "comparison_table['Percent Change'] = comparison_table['Percent Change'].round(1)\n",
    "comparison_table = comparison_table.sort_values(by='Percent Change', ascending=False)"
   ]
  },
  {
   "cell_type": "code",
   "execution_count": 136,
   "id": "f84775bc-bf44-4bdb-99e7-557b5bc6c411",
   "metadata": {},
   "outputs": [
    {
     "data": {
      "text/html": [
       "<div>\n",
       "<style scoped>\n",
       "    .dataframe tbody tr th:only-of-type {\n",
       "        vertical-align: middle;\n",
       "    }\n",
       "\n",
       "    .dataframe tbody tr th {\n",
       "        vertical-align: top;\n",
       "    }\n",
       "\n",
       "    .dataframe thead th {\n",
       "        text-align: right;\n",
       "    }\n",
       "</style>\n",
       "<table border=\"1\" class=\"dataframe\">\n",
       "  <thead>\n",
       "    <tr style=\"text-align: right;\">\n",
       "      <th>year</th>\n",
       "      <th>2018</th>\n",
       "      <th>2022</th>\n",
       "      <th>Difference</th>\n",
       "      <th>Percent Change</th>\n",
       "    </tr>\n",
       "    <tr>\n",
       "      <th>CocState</th>\n",
       "      <th></th>\n",
       "      <th></th>\n",
       "      <th></th>\n",
       "      <th></th>\n",
       "    </tr>\n",
       "  </thead>\n",
       "  <tbody>\n",
       "    <tr>\n",
       "      <th>CO</th>\n",
       "      <td>263</td>\n",
       "      <td>475</td>\n",
       "      <td>212</td>\n",
       "      <td>80.6</td>\n",
       "    </tr>\n",
       "    <tr>\n",
       "      <th>DC</th>\n",
       "      <td>210</td>\n",
       "      <td>360</td>\n",
       "      <td>150</td>\n",
       "      <td>71.4</td>\n",
       "    </tr>\n",
       "    <tr>\n",
       "      <th>ND</th>\n",
       "      <td>56</td>\n",
       "      <td>91</td>\n",
       "      <td>35</td>\n",
       "      <td>62.5</td>\n",
       "    </tr>\n",
       "    <tr>\n",
       "      <th>WY</th>\n",
       "      <td>47</td>\n",
       "      <td>76</td>\n",
       "      <td>29</td>\n",
       "      <td>61.7</td>\n",
       "    </tr>\n",
       "    <tr>\n",
       "      <th>CA</th>\n",
       "      <td>2929</td>\n",
       "      <td>4663</td>\n",
       "      <td>1734</td>\n",
       "      <td>59.2</td>\n",
       "    </tr>\n",
       "    <tr>\n",
       "      <th>MN</th>\n",
       "      <td>804</td>\n",
       "      <td>1213</td>\n",
       "      <td>409</td>\n",
       "      <td>50.9</td>\n",
       "    </tr>\n",
       "    <tr>\n",
       "      <th>VT</th>\n",
       "      <td>154</td>\n",
       "      <td>227</td>\n",
       "      <td>73</td>\n",
       "      <td>47.4</td>\n",
       "    </tr>\n",
       "    <tr>\n",
       "      <th>TX</th>\n",
       "      <td>707</td>\n",
       "      <td>1015</td>\n",
       "      <td>308</td>\n",
       "      <td>43.6</td>\n",
       "    </tr>\n",
       "    <tr>\n",
       "      <th>AK</th>\n",
       "      <td>109</td>\n",
       "      <td>156</td>\n",
       "      <td>47</td>\n",
       "      <td>43.1</td>\n",
       "    </tr>\n",
       "    <tr>\n",
       "      <th>NC</th>\n",
       "      <td>516</td>\n",
       "      <td>731</td>\n",
       "      <td>215</td>\n",
       "      <td>41.7</td>\n",
       "    </tr>\n",
       "    <tr>\n",
       "      <th>NM</th>\n",
       "      <td>147</td>\n",
       "      <td>200</td>\n",
       "      <td>53</td>\n",
       "      <td>36.1</td>\n",
       "    </tr>\n",
       "    <tr>\n",
       "      <th>NE</th>\n",
       "      <td>155</td>\n",
       "      <td>211</td>\n",
       "      <td>56</td>\n",
       "      <td>36.1</td>\n",
       "    </tr>\n",
       "    <tr>\n",
       "      <th>NV</th>\n",
       "      <td>154</td>\n",
       "      <td>206</td>\n",
       "      <td>52</td>\n",
       "      <td>33.8</td>\n",
       "    </tr>\n",
       "    <tr>\n",
       "      <th>OR</th>\n",
       "      <td>644</td>\n",
       "      <td>819</td>\n",
       "      <td>175</td>\n",
       "      <td>27.2</td>\n",
       "    </tr>\n",
       "    <tr>\n",
       "      <th>VA</th>\n",
       "      <td>499</td>\n",
       "      <td>630</td>\n",
       "      <td>131</td>\n",
       "      <td>26.3</td>\n",
       "    </tr>\n",
       "    <tr>\n",
       "      <th>KY</th>\n",
       "      <td>268</td>\n",
       "      <td>336</td>\n",
       "      <td>68</td>\n",
       "      <td>25.4</td>\n",
       "    </tr>\n",
       "    <tr>\n",
       "      <th>MO</th>\n",
       "      <td>455</td>\n",
       "      <td>565</td>\n",
       "      <td>110</td>\n",
       "      <td>24.2</td>\n",
       "    </tr>\n",
       "    <tr>\n",
       "      <th>ID</th>\n",
       "      <td>93</td>\n",
       "      <td>115</td>\n",
       "      <td>22</td>\n",
       "      <td>23.7</td>\n",
       "    </tr>\n",
       "    <tr>\n",
       "      <th>UT</th>\n",
       "      <td>162</td>\n",
       "      <td>199</td>\n",
       "      <td>37</td>\n",
       "      <td>22.8</td>\n",
       "    </tr>\n",
       "    <tr>\n",
       "      <th>SD</th>\n",
       "      <td>71</td>\n",
       "      <td>87</td>\n",
       "      <td>16</td>\n",
       "      <td>22.5</td>\n",
       "    </tr>\n",
       "    <tr>\n",
       "      <th>AZ</th>\n",
       "      <td>346</td>\n",
       "      <td>409</td>\n",
       "      <td>63</td>\n",
       "      <td>18.2</td>\n",
       "    </tr>\n",
       "    <tr>\n",
       "      <th>WA</th>\n",
       "      <td>1319</td>\n",
       "      <td>1557</td>\n",
       "      <td>238</td>\n",
       "      <td>18.0</td>\n",
       "    </tr>\n",
       "    <tr>\n",
       "      <th>NY</th>\n",
       "      <td>2022</td>\n",
       "      <td>2374</td>\n",
       "      <td>352</td>\n",
       "      <td>17.4</td>\n",
       "    </tr>\n",
       "    <tr>\n",
       "      <th>SC</th>\n",
       "      <td>197</td>\n",
       "      <td>230</td>\n",
       "      <td>33</td>\n",
       "      <td>16.8</td>\n",
       "    </tr>\n",
       "    <tr>\n",
       "      <th>NJ</th>\n",
       "      <td>692</td>\n",
       "      <td>798</td>\n",
       "      <td>106</td>\n",
       "      <td>15.3</td>\n",
       "    </tr>\n",
       "    <tr>\n",
       "      <th>ME</th>\n",
       "      <td>220</td>\n",
       "      <td>252</td>\n",
       "      <td>32</td>\n",
       "      <td>14.5</td>\n",
       "    </tr>\n",
       "    <tr>\n",
       "      <th>IA</th>\n",
       "      <td>220</td>\n",
       "      <td>251</td>\n",
       "      <td>31</td>\n",
       "      <td>14.1</td>\n",
       "    </tr>\n",
       "    <tr>\n",
       "      <th>FL</th>\n",
       "      <td>1103</td>\n",
       "      <td>1254</td>\n",
       "      <td>151</td>\n",
       "      <td>13.7</td>\n",
       "    </tr>\n",
       "    <tr>\n",
       "      <th>HI</th>\n",
       "      <td>151</td>\n",
       "      <td>169</td>\n",
       "      <td>18</td>\n",
       "      <td>11.9</td>\n",
       "    </tr>\n",
       "    <tr>\n",
       "      <th>CT</th>\n",
       "      <td>471</td>\n",
       "      <td>525</td>\n",
       "      <td>54</td>\n",
       "      <td>11.5</td>\n",
       "    </tr>\n",
       "    <tr>\n",
       "      <th>OH</th>\n",
       "      <td>815</td>\n",
       "      <td>907</td>\n",
       "      <td>92</td>\n",
       "      <td>11.3</td>\n",
       "    </tr>\n",
       "    <tr>\n",
       "      <th>IN</th>\n",
       "      <td>349</td>\n",
       "      <td>388</td>\n",
       "      <td>39</td>\n",
       "      <td>11.2</td>\n",
       "    </tr>\n",
       "    <tr>\n",
       "      <th>NH</th>\n",
       "      <td>170</td>\n",
       "      <td>186</td>\n",
       "      <td>16</td>\n",
       "      <td>9.4</td>\n",
       "    </tr>\n",
       "    <tr>\n",
       "      <th>IL</th>\n",
       "      <td>800</td>\n",
       "      <td>869</td>\n",
       "      <td>69</td>\n",
       "      <td>8.6</td>\n",
       "    </tr>\n",
       "    <tr>\n",
       "      <th>KS</th>\n",
       "      <td>151</td>\n",
       "      <td>161</td>\n",
       "      <td>10</td>\n",
       "      <td>6.6</td>\n",
       "    </tr>\n",
       "    <tr>\n",
       "      <th>TN</th>\n",
       "      <td>365</td>\n",
       "      <td>387</td>\n",
       "      <td>22</td>\n",
       "      <td>6.0</td>\n",
       "    </tr>\n",
       "    <tr>\n",
       "      <th>MT</th>\n",
       "      <td>100</td>\n",
       "      <td>106</td>\n",
       "      <td>6</td>\n",
       "      <td>6.0</td>\n",
       "    </tr>\n",
       "    <tr>\n",
       "      <th>WV</th>\n",
       "      <td>159</td>\n",
       "      <td>168</td>\n",
       "      <td>9</td>\n",
       "      <td>5.7</td>\n",
       "    </tr>\n",
       "    <tr>\n",
       "      <th>MD</th>\n",
       "      <td>431</td>\n",
       "      <td>454</td>\n",
       "      <td>23</td>\n",
       "      <td>5.3</td>\n",
       "    </tr>\n",
       "    <tr>\n",
       "      <th>MI</th>\n",
       "      <td>923</td>\n",
       "      <td>954</td>\n",
       "      <td>31</td>\n",
       "      <td>3.4</td>\n",
       "    </tr>\n",
       "    <tr>\n",
       "      <th>GA</th>\n",
       "      <td>627</td>\n",
       "      <td>644</td>\n",
       "      <td>17</td>\n",
       "      <td>2.7</td>\n",
       "    </tr>\n",
       "    <tr>\n",
       "      <th>LA</th>\n",
       "      <td>299</td>\n",
       "      <td>306</td>\n",
       "      <td>7</td>\n",
       "      <td>2.3</td>\n",
       "    </tr>\n",
       "    <tr>\n",
       "      <th>WI</th>\n",
       "      <td>489</td>\n",
       "      <td>497</td>\n",
       "      <td>8</td>\n",
       "      <td>1.6</td>\n",
       "    </tr>\n",
       "    <tr>\n",
       "      <th>PA</th>\n",
       "      <td>1214</td>\n",
       "      <td>1226</td>\n",
       "      <td>12</td>\n",
       "      <td>1.0</td>\n",
       "    </tr>\n",
       "    <tr>\n",
       "      <th>DE</th>\n",
       "      <td>113</td>\n",
       "      <td>109</td>\n",
       "      <td>-4</td>\n",
       "      <td>-3.5</td>\n",
       "    </tr>\n",
       "    <tr>\n",
       "      <th>OK</th>\n",
       "      <td>214</td>\n",
       "      <td>205</td>\n",
       "      <td>-9</td>\n",
       "      <td>-4.2</td>\n",
       "    </tr>\n",
       "    <tr>\n",
       "      <th>MS</th>\n",
       "      <td>106</td>\n",
       "      <td>101</td>\n",
       "      <td>-5</td>\n",
       "      <td>-4.7</td>\n",
       "    </tr>\n",
       "    <tr>\n",
       "      <th>MA</th>\n",
       "      <td>1103</td>\n",
       "      <td>1004</td>\n",
       "      <td>-99</td>\n",
       "      <td>-9.0</td>\n",
       "    </tr>\n",
       "    <tr>\n",
       "      <th>RI</th>\n",
       "      <td>159</td>\n",
       "      <td>141</td>\n",
       "      <td>-18</td>\n",
       "      <td>-11.3</td>\n",
       "    </tr>\n",
       "    <tr>\n",
       "      <th>AR</th>\n",
       "      <td>115</td>\n",
       "      <td>100</td>\n",
       "      <td>-15</td>\n",
       "      <td>-13.0</td>\n",
       "    </tr>\n",
       "    <tr>\n",
       "      <th>AL</th>\n",
       "      <td>238</td>\n",
       "      <td>203</td>\n",
       "      <td>-35</td>\n",
       "      <td>-14.7</td>\n",
       "    </tr>\n",
       "  </tbody>\n",
       "</table>\n",
       "</div>"
      ],
      "text/plain": [
       "year      2018  2022  Difference  Percent Change\n",
       "CocState                                        \n",
       "CO         263   475         212            80.6\n",
       "DC         210   360         150            71.4\n",
       "ND          56    91          35            62.5\n",
       "WY          47    76          29            61.7\n",
       "CA        2929  4663        1734            59.2\n",
       "MN         804  1213         409            50.9\n",
       "VT         154   227          73            47.4\n",
       "TX         707  1015         308            43.6\n",
       "AK         109   156          47            43.1\n",
       "NC         516   731         215            41.7\n",
       "NM         147   200          53            36.1\n",
       "NE         155   211          56            36.1\n",
       "NV         154   206          52            33.8\n",
       "OR         644   819         175            27.2\n",
       "VA         499   630         131            26.3\n",
       "KY         268   336          68            25.4\n",
       "MO         455   565         110            24.2\n",
       "ID          93   115          22            23.7\n",
       "UT         162   199          37            22.8\n",
       "SD          71    87          16            22.5\n",
       "AZ         346   409          63            18.2\n",
       "WA        1319  1557         238            18.0\n",
       "NY        2022  2374         352            17.4\n",
       "SC         197   230          33            16.8\n",
       "NJ         692   798         106            15.3\n",
       "ME         220   252          32            14.5\n",
       "IA         220   251          31            14.1\n",
       "FL        1103  1254         151            13.7\n",
       "HI         151   169          18            11.9\n",
       "CT         471   525          54            11.5\n",
       "OH         815   907          92            11.3\n",
       "IN         349   388          39            11.2\n",
       "NH         170   186          16             9.4\n",
       "IL         800   869          69             8.6\n",
       "KS         151   161          10             6.6\n",
       "TN         365   387          22             6.0\n",
       "MT         100   106           6             6.0\n",
       "WV         159   168           9             5.7\n",
       "MD         431   454          23             5.3\n",
       "MI         923   954          31             3.4\n",
       "GA         627   644          17             2.7\n",
       "LA         299   306           7             2.3\n",
       "WI         489   497           8             1.6\n",
       "PA        1214  1226          12             1.0\n",
       "DE         113   109          -4            -3.5\n",
       "OK         214   205          -9            -4.2\n",
       "MS         106   101          -5            -4.7\n",
       "MA        1103  1004         -99            -9.0\n",
       "RI         159   141         -18           -11.3\n",
       "AR         115   100         -15           -13.0\n",
       "AL         238   203         -35           -14.7"
      ]
     },
     "execution_count": 136,
     "metadata": {},
     "output_type": "execute_result"
    }
   ],
   "source": [
    "comparison_table"
   ]
  },
  {
   "cell_type": "code",
   "execution_count": null,
   "id": "c78fc1b7-4a1b-4b23-83a7-61fad1178d95",
   "metadata": {},
   "outputs": [],
   "source": [
    "# Comparing 2018 to 2022 Colorado has the highest percentage increase in the amount of programs to help the homeless with shelters/housing, Florida was below the median at a 13.7 increase in programs and\n",
    "# Alabama was at the bottom with a negative 14.7 percent reducing from 238 to 203 programs for the state."
   ]
  },
  {
   "cell_type": "code",
   "execution_count": 137,
   "id": "39fca6ae-f64e-4514-903d-f99fc98d8b69",
   "metadata": {},
   "outputs": [
    {
     "data": {
      "image/png": "[encoded data removed]",
      "text/plain": [
       "<Figure size 1500x800 with 1 Axes>"
      ]
     },
     "metadata": {},
     "output_type": "display_data"
    }
   ],
   "source": [
    "fig, ax = plt.subplots(figsize=(15, 8))\n",
    "num_states = len(comparison_table.index)\n",
    "ind = np.arange(0, num_states * 2, 2)  # the x locations for the groups\n",
    "bar_width = 0.8  # the width of the bars\n",
    "\n",
    "# Create the side-by-side bar chart\n",
    "bars_2018 = ax.bar(ind - bar_width / 2, comparison_table[2018], bar_width, label='2018')\n",
    "bars_2022 = ax.bar(ind + bar_width / 2, comparison_table[2022], bar_width, label='2022')\n",
    "\n",
    "# Add labels and title\n",
    "ax.set_xlabel('State')\n",
    "ax.set_ylabel('Number of Housing Programs')\n",
    "ax.set_title('Comparison of Housing Programs by State Between 2018 and 2022')\n",
    "ax.set_xticks(ind)\n",
    "ax.set_xticklabels(comparison_table.index, rotation=90)\n",
    "\n",
    "# Add a legend\n",
    "ax.legend()\n",
    "\n",
    "plt.show()\n"
   ]
  },
  {
   "cell_type": "markdown",
   "id": "f6a34f88-9471-43fe-b41b-ed12ac802236",
   "metadata": {},
   "source": [
    "### How many available beds are there compared to how many homeless people are using them per state per year?"
   ]
  },
  {
   "cell_type": "code",
   "execution_count": 122,
   "id": "acc6e3e1-57a6-4eac-a3e7-0c5041f3c998",
   "metadata": {},
   "outputs": [],
   "source": [
    "grouped_table = subset_df.groupby(['CocState', 'year']).agg({\n",
    "    'CoC': 'count',\n",
    "    'Project Name': 'count',\n",
    "    'Project Type': 'count',\n",
    "    'Project ID': 'count',\n",
    "    'Geo Code': 'count',\n",
    "    'PIT Count': 'sum',\n",
    "    'Total Beds': 'sum'\n",
    "}).reset_index()\n"
   ]
  },
  {
   "cell_type": "code",
   "execution_count": 142,
   "id": "c538de62-92b4-4d81-9095-93daa0bcfe75",
   "metadata": {},
   "outputs": [
    {
     "data": {
      "image/png": "[encoded data removed]",
      "text/plain": [
       "<Figure size 1200x800 with 1 Axes>"
      ]
     },
     "metadata": {},
     "output_type": "display_data"
    }
   ],
   "source": [
    "# Pivot the table for stacked bar chart\n",
    "pivot_table = grouped_table.pivot_table(values='PIT Count', index='CocState', columns='year', fill_value=0)\n",
    "\n",
    "# Create the stacked bar chart\n",
    "ax = pivot_table.plot.bar(stacked=True, figsize=(12, 8))\n",
    "plt.title(\"Homeless Count per State Across Years\")\n",
    "plt.xlabel(\"State\")\n",
    "plt.ylabel(\"Homeless Count\")\n",
    "plt.legend(title='Year', loc='upper right')\n",
    "plt.show()\n"
   ]
  },
  {
   "cell_type": "code",
   "execution_count": 124,
   "id": "0427b845-a0eb-4980-9b57-0127c6485b3f",
   "metadata": {},
   "outputs": [
    {
     "data": {
      "text/html": [
       "<div>\n",
       "<style scoped>\n",
       "    .dataframe tbody tr th:only-of-type {\n",
       "        vertical-align: middle;\n",
       "    }\n",
       "\n",
       "    .dataframe tbody tr th {\n",
       "        vertical-align: top;\n",
       "    }\n",
       "\n",
       "    .dataframe thead th {\n",
       "        text-align: right;\n",
       "    }\n",
       "</style>\n",
       "<table border=\"1\" class=\"dataframe\">\n",
       "  <thead>\n",
       "    <tr style=\"text-align: right;\">\n",
       "      <th></th>\n",
       "      <th>CocState</th>\n",
       "      <th>Total Beds</th>\n",
       "      <th>PIT Count</th>\n",
       "      <th>Difference</th>\n",
       "    </tr>\n",
       "  </thead>\n",
       "  <tbody>\n",
       "    <tr>\n",
       "      <th>0</th>\n",
       "      <td>AK</td>\n",
       "      <td>4992</td>\n",
       "      <td>3375</td>\n",
       "      <td>1617.0</td>\n",
       "    </tr>\n",
       "    <tr>\n",
       "      <th>1</th>\n",
       "      <td>AL</td>\n",
       "      <td>5876</td>\n",
       "      <td>4973</td>\n",
       "      <td>903.0</td>\n",
       "    </tr>\n",
       "    <tr>\n",
       "      <th>2</th>\n",
       "      <td>AR</td>\n",
       "      <td>3554</td>\n",
       "      <td>2029</td>\n",
       "      <td>1525.0</td>\n",
       "    </tr>\n",
       "    <tr>\n",
       "      <th>3</th>\n",
       "      <td>AZ</td>\n",
       "      <td>18661</td>\n",
       "      <td>16346</td>\n",
       "      <td>2315.0</td>\n",
       "    </tr>\n",
       "    <tr>\n",
       "      <th>4</th>\n",
       "      <td>CA</td>\n",
       "      <td>201685</td>\n",
       "      <td>163091</td>\n",
       "      <td>38594.0</td>\n",
       "    </tr>\n",
       "    <tr>\n",
       "      <th>5</th>\n",
       "      <td>CO</td>\n",
       "      <td>22015</td>\n",
       "      <td>16796</td>\n",
       "      <td>5219.0</td>\n",
       "    </tr>\n",
       "    <tr>\n",
       "      <th>6</th>\n",
       "      <td>CT</td>\n",
       "      <td>12543</td>\n",
       "      <td>11231</td>\n",
       "      <td>1312.0</td>\n",
       "    </tr>\n",
       "    <tr>\n",
       "      <th>7</th>\n",
       "      <td>DC</td>\n",
       "      <td>36145</td>\n",
       "      <td>22461</td>\n",
       "      <td>13684.0</td>\n",
       "    </tr>\n",
       "    <tr>\n",
       "      <th>8</th>\n",
       "      <td>DE</td>\n",
       "      <td>3745</td>\n",
       "      <td>3174</td>\n",
       "      <td>571.0</td>\n",
       "    </tr>\n",
       "    <tr>\n",
       "      <th>9</th>\n",
       "      <td>FL</td>\n",
       "      <td>49562</td>\n",
       "      <td>40865</td>\n",
       "      <td>8697.0</td>\n",
       "    </tr>\n",
       "    <tr>\n",
       "      <th>10</th>\n",
       "      <td>GA</td>\n",
       "      <td>19935</td>\n",
       "      <td>15629</td>\n",
       "      <td>4306.0</td>\n",
       "    </tr>\n",
       "    <tr>\n",
       "      <th>11</th>\n",
       "      <td>HI</td>\n",
       "      <td>8109</td>\n",
       "      <td>6492</td>\n",
       "      <td>1617.0</td>\n",
       "    </tr>\n",
       "    <tr>\n",
       "      <th>12</th>\n",
       "      <td>IA</td>\n",
       "      <td>5978</td>\n",
       "      <td>4658</td>\n",
       "      <td>1320.0</td>\n",
       "    </tr>\n",
       "    <tr>\n",
       "      <th>13</th>\n",
       "      <td>ID</td>\n",
       "      <td>3588</td>\n",
       "      <td>2643</td>\n",
       "      <td>945.0</td>\n",
       "    </tr>\n",
       "    <tr>\n",
       "      <th>14</th>\n",
       "      <td>IL</td>\n",
       "      <td>30730</td>\n",
       "      <td>24104</td>\n",
       "      <td>6626.0</td>\n",
       "    </tr>\n",
       "    <tr>\n",
       "      <th>15</th>\n",
       "      <td>IN</td>\n",
       "      <td>14704</td>\n",
       "      <td>10963</td>\n",
       "      <td>3741.0</td>\n",
       "    </tr>\n",
       "    <tr>\n",
       "      <th>16</th>\n",
       "      <td>KS</td>\n",
       "      <td>4789</td>\n",
       "      <td>3699</td>\n",
       "      <td>1090.0</td>\n",
       "    </tr>\n",
       "    <tr>\n",
       "      <th>17</th>\n",
       "      <td>KY</td>\n",
       "      <td>10583</td>\n",
       "      <td>8860</td>\n",
       "      <td>1723.0</td>\n",
       "    </tr>\n",
       "    <tr>\n",
       "      <th>18</th>\n",
       "      <td>LA</td>\n",
       "      <td>15754</td>\n",
       "      <td>13651</td>\n",
       "      <td>2103.0</td>\n",
       "    </tr>\n",
       "    <tr>\n",
       "      <th>19</th>\n",
       "      <td>MA</td>\n",
       "      <td>39186</td>\n",
       "      <td>32629</td>\n",
       "      <td>6557.0</td>\n",
       "    </tr>\n",
       "    <tr>\n",
       "      <th>20</th>\n",
       "      <td>MD</td>\n",
       "      <td>18908</td>\n",
       "      <td>15828</td>\n",
       "      <td>3080.0</td>\n",
       "    </tr>\n",
       "    <tr>\n",
       "      <th>21</th>\n",
       "      <td>ME</td>\n",
       "      <td>8206</td>\n",
       "      <td>7180</td>\n",
       "      <td>1026.0</td>\n",
       "    </tr>\n",
       "    <tr>\n",
       "      <th>22</th>\n",
       "      <td>MI</td>\n",
       "      <td>23856</td>\n",
       "      <td>21050</td>\n",
       "      <td>2806.0</td>\n",
       "    </tr>\n",
       "    <tr>\n",
       "      <th>23</th>\n",
       "      <td>MN</td>\n",
       "      <td>29663</td>\n",
       "      <td>23674</td>\n",
       "      <td>5989.0</td>\n",
       "    </tr>\n",
       "    <tr>\n",
       "      <th>24</th>\n",
       "      <td>MO</td>\n",
       "      <td>15761</td>\n",
       "      <td>12581</td>\n",
       "      <td>3180.0</td>\n",
       "    </tr>\n",
       "    <tr>\n",
       "      <th>25</th>\n",
       "      <td>MS</td>\n",
       "      <td>2601</td>\n",
       "      <td>2202</td>\n",
       "      <td>399.0</td>\n",
       "    </tr>\n",
       "    <tr>\n",
       "      <th>26</th>\n",
       "      <td>MT</td>\n",
       "      <td>3563</td>\n",
       "      <td>2588</td>\n",
       "      <td>975.0</td>\n",
       "    </tr>\n",
       "    <tr>\n",
       "      <th>27</th>\n",
       "      <td>NC</td>\n",
       "      <td>20218</td>\n",
       "      <td>16660</td>\n",
       "      <td>3558.0</td>\n",
       "    </tr>\n",
       "    <tr>\n",
       "      <th>28</th>\n",
       "      <td>ND</td>\n",
       "      <td>1647</td>\n",
       "      <td>1165</td>\n",
       "      <td>482.0</td>\n",
       "    </tr>\n",
       "    <tr>\n",
       "      <th>29</th>\n",
       "      <td>NE</td>\n",
       "      <td>5548</td>\n",
       "      <td>4408</td>\n",
       "      <td>1140.0</td>\n",
       "    </tr>\n",
       "    <tr>\n",
       "      <th>30</th>\n",
       "      <td>NH</td>\n",
       "      <td>4075</td>\n",
       "      <td>3062</td>\n",
       "      <td>1013.0</td>\n",
       "    </tr>\n",
       "    <tr>\n",
       "      <th>31</th>\n",
       "      <td>NJ</td>\n",
       "      <td>21239</td>\n",
       "      <td>18721</td>\n",
       "      <td>2518.0</td>\n",
       "    </tr>\n",
       "    <tr>\n",
       "      <th>32</th>\n",
       "      <td>NM</td>\n",
       "      <td>6759</td>\n",
       "      <td>5499</td>\n",
       "      <td>1260.0</td>\n",
       "    </tr>\n",
       "    <tr>\n",
       "      <th>33</th>\n",
       "      <td>NV</td>\n",
       "      <td>9153</td>\n",
       "      <td>8229</td>\n",
       "      <td>924.0</td>\n",
       "    </tr>\n",
       "    <tr>\n",
       "      <th>34</th>\n",
       "      <td>NY</td>\n",
       "      <td>138484</td>\n",
       "      <td>123980</td>\n",
       "      <td>14504.0</td>\n",
       "    </tr>\n",
       "    <tr>\n",
       "      <th>35</th>\n",
       "      <td>OH</td>\n",
       "      <td>35570</td>\n",
       "      <td>31238</td>\n",
       "      <td>4332.0</td>\n",
       "    </tr>\n",
       "    <tr>\n",
       "      <th>36</th>\n",
       "      <td>OK</td>\n",
       "      <td>6712</td>\n",
       "      <td>5512</td>\n",
       "      <td>1200.0</td>\n",
       "    </tr>\n",
       "    <tr>\n",
       "      <th>37</th>\n",
       "      <td>OR</td>\n",
       "      <td>22210</td>\n",
       "      <td>18993</td>\n",
       "      <td>3217.0</td>\n",
       "    </tr>\n",
       "    <tr>\n",
       "      <th>38</th>\n",
       "      <td>PA</td>\n",
       "      <td>34965</td>\n",
       "      <td>30313</td>\n",
       "      <td>4652.0</td>\n",
       "    </tr>\n",
       "    <tr>\n",
       "      <th>39</th>\n",
       "      <td>RI</td>\n",
       "      <td>4387</td>\n",
       "      <td>3746</td>\n",
       "      <td>641.0</td>\n",
       "    </tr>\n",
       "    <tr>\n",
       "      <th>40</th>\n",
       "      <td>SC</td>\n",
       "      <td>7054</td>\n",
       "      <td>5649</td>\n",
       "      <td>1405.0</td>\n",
       "    </tr>\n",
       "    <tr>\n",
       "      <th>41</th>\n",
       "      <td>SD</td>\n",
       "      <td>2346</td>\n",
       "      <td>1939</td>\n",
       "      <td>407.0</td>\n",
       "    </tr>\n",
       "    <tr>\n",
       "      <th>42</th>\n",
       "      <td>TN</td>\n",
       "      <td>13795</td>\n",
       "      <td>11281</td>\n",
       "      <td>2514.0</td>\n",
       "    </tr>\n",
       "    <tr>\n",
       "      <th>43</th>\n",
       "      <td>TX</td>\n",
       "      <td>53646</td>\n",
       "      <td>41498</td>\n",
       "      <td>12148.0</td>\n",
       "    </tr>\n",
       "    <tr>\n",
       "      <th>44</th>\n",
       "      <td>UT</td>\n",
       "      <td>8147</td>\n",
       "      <td>7250</td>\n",
       "      <td>897.0</td>\n",
       "    </tr>\n",
       "    <tr>\n",
       "      <th>45</th>\n",
       "      <td>VA</td>\n",
       "      <td>16745</td>\n",
       "      <td>14926</td>\n",
       "      <td>1819.0</td>\n",
       "    </tr>\n",
       "    <tr>\n",
       "      <th>46</th>\n",
       "      <td>VT</td>\n",
       "      <td>4800</td>\n",
       "      <td>4211</td>\n",
       "      <td>589.0</td>\n",
       "    </tr>\n",
       "    <tr>\n",
       "      <th>47</th>\n",
       "      <td>WA</td>\n",
       "      <td>45280</td>\n",
       "      <td>36462</td>\n",
       "      <td>8818.0</td>\n",
       "    </tr>\n",
       "    <tr>\n",
       "      <th>48</th>\n",
       "      <td>WI</td>\n",
       "      <td>13316</td>\n",
       "      <td>11375</td>\n",
       "      <td>1941.0</td>\n",
       "    </tr>\n",
       "    <tr>\n",
       "      <th>49</th>\n",
       "      <td>WV</td>\n",
       "      <td>3833</td>\n",
       "      <td>2879</td>\n",
       "      <td>954.0</td>\n",
       "    </tr>\n",
       "    <tr>\n",
       "      <th>50</th>\n",
       "      <td>WY</td>\n",
       "      <td>1366</td>\n",
       "      <td>1032</td>\n",
       "      <td>334.0</td>\n",
       "    </tr>\n",
       "  </tbody>\n",
       "</table>\n",
       "</div>"
      ],
      "text/plain": [
       "   CocState  Total Beds  PIT Count  Difference\n",
       "0        AK        4992       3375      1617.0\n",
       "1        AL        5876       4973       903.0\n",
       "2        AR        3554       2029      1525.0\n",
       "3        AZ       18661      16346      2315.0\n",
       "4        CA      201685     163091     38594.0\n",
       "5        CO       22015      16796      5219.0\n",
       "6        CT       12543      11231      1312.0\n",
       "7        DC       36145      22461     13684.0\n",
       "8        DE        3745       3174       571.0\n",
       "9        FL       49562      40865      8697.0\n",
       "10       GA       19935      15629      4306.0\n",
       "11       HI        8109       6492      1617.0\n",
       "12       IA        5978       4658      1320.0\n",
       "13       ID        3588       2643       945.0\n",
       "14       IL       30730      24104      6626.0\n",
       "15       IN       14704      10963      3741.0\n",
       "16       KS        4789       3699      1090.0\n",
       "17       KY       10583       8860      1723.0\n",
       "18       LA       15754      13651      2103.0\n",
       "19       MA       39186      32629      6557.0\n",
       "20       MD       18908      15828      3080.0\n",
       "21       ME        8206       7180      1026.0\n",
       "22       MI       23856      21050      2806.0\n",
       "23       MN       29663      23674      5989.0\n",
       "24       MO       15761      12581      3180.0\n",
       "25       MS        2601       2202       399.0\n",
       "26       MT        3563       2588       975.0\n",
       "27       NC       20218      16660      3558.0\n",
       "28       ND        1647       1165       482.0\n",
       "29       NE        5548       4408      1140.0\n",
       "30       NH        4075       3062      1013.0\n",
       "31       NJ       21239      18721      2518.0\n",
       "32       NM        6759       5499      1260.0\n",
       "33       NV        9153       8229       924.0\n",
       "34       NY      138484     123980     14504.0\n",
       "35       OH       35570      31238      4332.0\n",
       "36       OK        6712       5512      1200.0\n",
       "37       OR       22210      18993      3217.0\n",
       "38       PA       34965      30313      4652.0\n",
       "39       RI        4387       3746       641.0\n",
       "40       SC        7054       5649      1405.0\n",
       "41       SD        2346       1939       407.0\n",
       "42       TN       13795      11281      2514.0\n",
       "43       TX       53646      41498     12148.0\n",
       "44       UT        8147       7250       897.0\n",
       "45       VA       16745      14926      1819.0\n",
       "46       VT        4800       4211       589.0\n",
       "47       WA       45280      36462      8818.0\n",
       "48       WI       13316      11375      1941.0\n",
       "49       WV        3833       2879       954.0\n",
       "50       WY        1366       1032       334.0"
      ]
     },
     "metadata": {},
     "output_type": "display_data"
    }
   ],
   "source": [
    "from IPython.display import display\n",
    "\n",
    "# Filter the dataset for the year 2022\n",
    "data_2022 = merged_df[merged_df['year'] == 2022]\n",
    "\n",
    "# Group by 'CocState' and aggregate 'Total Beds' and 'PIT Count'\n",
    "total_beds_pit_table = data_2022.groupby('CocState').agg({'Total Beds': 'sum', 'PIT Count': 'sum'}).reset_index()\n",
    "\n",
    "total_beds_pit_table['Difference'] = total_beds_pit_table['Total Beds'] - total_beds_pit_table['PIT Count']\n",
    "\n",
    "total_beds_pit_table['PIT Count'] = total_beds_pit_table['PIT Count'].astype(int)\n",
    "\n",
    "display(total_beds_pit_table)\n"
   ]
  },
  {
   "cell_type": "code",
   "execution_count": null,
   "id": "a78ed506-ca80-41c9-8350-db83bd54ab63",
   "metadata": {},
   "outputs": [],
   "source": [
    "# These results show that for each state in 2022 there were more beds than homeless accounted for.  The data does not show the types of housing the beds are located, only \n",
    "# showing that there is room to house them.  Types of housing include: Permanent Supportive, Emergency Shelter, Rapid Rehousing, Transitional Housing, Other Permanent Housing & Safe Haven."
   ]
  },
  {
   "cell_type": "code",
   "execution_count": 125,
   "id": "f2d4d795-a7ba-494c-9c9b-746e9504f419",
   "metadata": {},
   "outputs": [
    {
     "data": {
      "application/vnd.plotly.v1+json": {
       "config": {
        "plotlyServerURL": "https://plot.ly"
       },
       "data": [
        {
         "coloraxis": "coloraxis",
         "geo": "geo",
         "hovertemplate": "CocState=%{location}<br>Difference=%{z}<extra></extra>",
         "locationmode": "USA-states",
         "locations": [
          "AK",
          "AL",
          "AR",
          "AZ",
          "CA",
          "CO",
          "CT",
          "DC",
          "DE",
          "FL",
          "GA",
          "HI",
          "IA",
          "ID",
          "IL",
          "IN",
          "KS",
          "KY",
          "LA",
          "MA",
          "MD",
          "ME",
          "MI",
          "MN",
          "MO",
          "MS",
          "MT",
          "NC",
          "ND",
          "NE",
          "NH",
          "NJ",
          "NM",
          "NV",
          "NY",
          "OH",
          "OK",
          "OR",
          "PA",
          "RI",
          "SC",
          "SD",
          "TN",
          "TX",
          "UT",
          "VA",
          "VT",
          "WA",
          "WI",
          "WV",
          "WY"
         ],
         "name": "",
         "type": "choropleth",
         "z": [
          1617,
          903,
          1525,
          2315,
          38594,
          5219,
          1312,
          13684,
          571,
          8697,
          4306,
          1617,
          1320,
          945,
          6626,
          3741,
          1090,
          1723,
          2103,
          6557,
          3080,
          1026,
          2806,
          5989,
          3180,
          399,
          975,
          3558,
          482,
          1140,
          1013,
          2518,
          1260,
          924,
          14504,
          4332,
          1200,
          3217,
          4652,
          641,
          1405,
          407,
          2514,
          12148,
          897,
          1819,
          589,
          8818,
          1941,
          954,
          334
         ]
        }
       ],
       "layout": {
        "autosize": true,
        "coloraxis": {
         "colorbar": {
          "title": {
           "text": "Difference"
          }
         },
         "colorscale": [
          [
           0,
           "#0d0887"
          ],
          [
           0.1111111111111111,
           "#46039f"
          ],
          [
           0.2222222222222222,
           "#7201a8"
          ],
          [
           0.3333333333333333,
           "#9c179e"
          ],
          [
           0.4444444444444444,
           "#bd3786"
          ],
          [
           0.5555555555555556,
           "#d8576b"
          ],
          [
           0.6666666666666666,
           "#ed7953"
          ],
          [
           0.7777777777777778,
           "#fb9f3a"
          ],
          [
           0.8888888888888888,
           "#fdca26"
          ],
          [
           1,
           "#f0f921"
          ]
         ]
        },
        "geo": {
         "center": {
          "lat": 38.16305294510528,
          "lon": -97.85524413082733
         },
         "domain": {
          "x": [
           0,
           1
          ],
          "y": [
           0,
           1
          ]
         },
         "projection": {
          "scale": 1.0000000000000007
         },
         "scope": "usa"
        },
        "legend": {
         "tracegroupgap": 0
        },
        "template": {
         "data": {
          "bar": [
           {
            "error_x": {
             "color": "#2a3f5f"
            },
            "error_y": {
             "color": "#2a3f5f"
            },
            "marker": {
             "line": {
              "color": "#E5ECF6",
              "width": 0.5
             },
             "pattern": {
              "fillmode": "overlay",
              "size": 10,
              "solidity": 0.2
             }
            },
            "type": "bar"
           }
          ],
          "barpolar": [
           {
            "marker": {
             "line": {
              "color": "#E5ECF6",
              "width": 0.5
             },
             "pattern": {
              "fillmode": "overlay",
              "size": 10,
              "solidity": 0.2
             }
            },
            "type": "barpolar"
           }
          ],
          "carpet": [
           {
            "aaxis": {
             "endlinecolor": "#2a3f5f",
             "gridcolor": "white",
             "linecolor": "white",
             "minorgridcolor": "white",
             "startlinecolor": "#2a3f5f"
            },
            "baxis": {
             "endlinecolor": "#2a3f5f",
             "gridcolor": "white",
             "linecolor": "white",
             "minorgridcolor": "white",
             "startlinecolor": "#2a3f5f"
            },
            "type": "carpet"
           }
          ],
          "choropleth": [
           {
            "colorbar": {
             "outlinewidth": 0,
             "ticks": ""
            },
            "type": "choropleth"
           }
          ],
          "contour": [
           {
            "colorbar": {
             "outlinewidth": 0,
             "ticks": ""
            },
            "colorscale": [
             [
              0,
              "#0d0887"
             ],
             [
              0.1111111111111111,
              "#46039f"
             ],
             [
              0.2222222222222222,
              "#7201a8"
             ],
             [
              0.3333333333333333,
              "#9c179e"
             ],
             [
              0.4444444444444444,
              "#bd3786"
             ],
             [
              0.5555555555555556,
              "#d8576b"
             ],
             [
              0.6666666666666666,
              "#ed7953"
             ],
             [
              0.7777777777777778,
              "#fb9f3a"
             ],
             [
              0.8888888888888888,
              "#fdca26"
             ],
             [
              1,
              "#f0f921"
             ]
            ],
            "type": "contour"
           }
          ],
          "contourcarpet": [
           {
            "colorbar": {
             "outlinewidth": 0,
             "ticks": ""
            },
            "type": "contourcarpet"
           }
          ],
          "heatmap": [
           {
            "colorbar": {
             "outlinewidth": 0,
             "ticks": ""
            },
            "colorscale": [
             [
              0,
              "#0d0887"
             ],
             [
              0.1111111111111111,
              "#46039f"
             ],
             [
              0.2222222222222222,
              "#7201a8"
             ],
             [
              0.3333333333333333,
              "#9c179e"
             ],
             [
              0.4444444444444444,
              "#bd3786"
             ],
             [
              0.5555555555555556,
              "#d8576b"
             ],
             [
              0.6666666666666666,
              "#ed7953"
             ],
             [
              0.7777777777777778,
              "#fb9f3a"
             ],
             [
              0.8888888888888888,
              "#fdca26"
             ],
             [
              1,
              "#f0f921"
             ]
            ],
            "type": "heatmap"
           }
          ],
          "heatmapgl": [
           {
            "colorbar": {
             "outlinewidth": 0,
             "ticks": ""
            },
            "colorscale": [
             [
              0,
              "#0d0887"
             ],
             [
              0.1111111111111111,
              "#46039f"
             ],
             [
              0.2222222222222222,
              "#7201a8"
             ],
             [
              0.3333333333333333,
              "#9c179e"
             ],
             [
              0.4444444444444444,
              "#bd3786"
             ],
             [
              0.5555555555555556,
              "#d8576b"
             ],
             [
              0.6666666666666666,
              "#ed7953"
             ],
             [
              0.7777777777777778,
              "#fb9f3a"
             ],
             [
              0.8888888888888888,
              "#fdca26"
             ],
             [
              1,
              "#f0f921"
             ]
            ],
            "type": "heatmapgl"
           }
          ],
          "histogram": [
           {
            "marker": {
             "pattern": {
              "fillmode": "overlay",
              "size": 10,
              "solidity": 0.2
             }
            },
            "type": "histogram"
           }
          ],
          "histogram2d": [
           {
            "colorbar": {
             "outlinewidth": 0,
             "ticks": ""
            },
            "colorscale": [
             [
              0,
              "#0d0887"
             ],
             [
              0.1111111111111111,
              "#46039f"
             ],
             [
              0.2222222222222222,
              "#7201a8"
             ],
             [
              0.3333333333333333,
              "#9c179e"
             ],
             [
              0.4444444444444444,
              "#bd3786"
             ],
             [
              0.5555555555555556,
              "#d8576b"
             ],
             [
              0.6666666666666666,
              "#ed7953"
             ],
             [
              0.7777777777777778,
              "#fb9f3a"
             ],
             [
              0.8888888888888888,
              "#fdca26"
             ],
             [
              1,
              "#f0f921"
             ]
            ],
            "type": "histogram2d"
           }
          ],
          "histogram2dcontour": [
           {
            "colorbar": {
             "outlinewidth": 0,
             "ticks": ""
            },
            "colorscale": [
             [
              0,
              "#0d0887"
             ],
             [
              0.1111111111111111,
              "#46039f"
             ],
             [
              0.2222222222222222,
              "#7201a8"
             ],
             [
              0.3333333333333333,
              "#9c179e"
             ],
             [
              0.4444444444444444,
              "#bd3786"
             ],
             [
              0.5555555555555556,
              "#d8576b"
             ],
             [
              0.6666666666666666,
              "#ed7953"
             ],
             [
              0.7777777777777778,
              "#fb9f3a"
             ],
             [
              0.8888888888888888,
              "#fdca26"
             ],
             [
              1,
              "#f0f921"
             ]
            ],
            "type": "histogram2dcontour"
           }
          ],
          "mesh3d": [
           {
            "colorbar": {
             "outlinewidth": 0,
             "ticks": ""
            },
            "type": "mesh3d"
           }
          ],
          "parcoords": [
           {
            "line": {
             "colorbar": {
              "outlinewidth": 0,
              "ticks": ""
             }
            },
            "type": "parcoords"
           }
          ],
          "pie": [
           {
            "automargin": true,
            "type": "pie"
           }
          ],
          "scatter": [
           {
            "fillpattern": {
             "fillmode": "overlay",
             "size": 10,
             "solidity": 0.2
            },
            "type": "scatter"
           }
          ],
          "scatter3d": [
           {
            "line": {
             "colorbar": {
              "outlinewidth": 0,
              "ticks": ""
             }
            },
            "marker": {
             "colorbar": {
              "outlinewidth": 0,
              "ticks": ""
             }
            },
            "type": "scatter3d"
           }
          ],
          "scattercarpet": [
           {
            "marker": {
             "colorbar": {
              "outlinewidth": 0,
              "ticks": ""
             }
            },
            "type": "scattercarpet"
           }
          ],
          "scattergeo": [
           {
            "marker": {
             "colorbar": {
              "outlinewidth": 0,
              "ticks": ""
             }
            },
            "type": "scattergeo"
           }
          ],
          "scattergl": [
           {
            "marker": {
             "colorbar": {
              "outlinewidth": 0,
              "ticks": ""
             }
            },
            "type": "scattergl"
           }
          ],
          "scattermapbox": [
           {
            "marker": {
             "colorbar": {
              "outlinewidth": 0,
              "ticks": ""
             }
            },
            "type": "scattermapbox"
           }
          ],
          "scatterpolar": [
           {
            "marker": {
             "colorbar": {
              "outlinewidth": 0,
              "ticks": ""
             }
            },
            "type": "scatterpolar"
           }
          ],
          "scatterpolargl": [
           {
            "marker": {
             "colorbar": {
              "outlinewidth": 0,
              "ticks": ""
             }
            },
            "type": "scatterpolargl"
           }
          ],
          "scatterternary": [
           {
            "marker": {
             "colorbar": {
              "outlinewidth": 0,
              "ticks": ""
             }
            },
            "type": "scatterternary"
           }
          ],
          "surface": [
           {
            "colorbar": {
             "outlinewidth": 0,
             "ticks": ""
            },
            "colorscale": [
             [
              0,
              "#0d0887"
             ],
             [
              0.1111111111111111,
              "#46039f"
             ],
             [
              0.2222222222222222,
              "#7201a8"
             ],
             [
              0.3333333333333333,
              "#9c179e"
             ],
             [
              0.4444444444444444,
              "#bd3786"
             ],
             [
              0.5555555555555556,
              "#d8576b"
             ],
             [
              0.6666666666666666,
              "#ed7953"
             ],
             [
              0.7777777777777778,
              "#fb9f3a"
             ],
             [
              0.8888888888888888,
              "#fdca26"
             ],
             [
              1,
              "#f0f921"
             ]
            ],
            "type": "surface"
           }
          ],
          "table": [
           {
            "cells": {
             "fill": {
              "color": "#EBF0F8"
             },
             "line": {
              "color": "white"
             }
            },
            "header": {
             "fill": {
              "color": "#C8D4E3"
             },
             "line": {
              "color": "white"
             }
            },
            "type": "table"
           }
          ]
         },
         "layout": {
          "annotationdefaults": {
           "arrowcolor": "#2a3f5f",
           "arrowhead": 0,
           "arrowwidth": 1
          },
          "autotypenumbers": "strict",
          "coloraxis": {
           "colorbar": {
            "outlinewidth": 0,
            "ticks": ""
           }
          },
          "colorscale": {
           "diverging": [
            [
             0,
             "#8e0152"
            ],
            [
             0.1,
             "#c51b7d"
            ],
            [
             0.2,
             "#de77ae"
            ],
            [
             0.3,
             "#f1b6da"
            ],
            [
             0.4,
             "#fde0ef"
            ],
            [
             0.5,
             "#f7f7f7"
            ],
            [
             0.6,
             "#e6f5d0"
            ],
            [
             0.7,
             "#b8e186"
            ],
            [
             0.8,
             "#7fbc41"
            ],
            [
             0.9,
             "#4d9221"
            ],
            [
             1,
             "#276419"
            ]
           ],
           "sequential": [
            [
             0,
             "#0d0887"
            ],
            [
             0.1111111111111111,
             "#46039f"
            ],
            [
             0.2222222222222222,
             "#7201a8"
            ],
            [
             0.3333333333333333,
             "#9c179e"
            ],
            [
             0.4444444444444444,
             "#bd3786"
            ],
            [
             0.5555555555555556,
             "#d8576b"
            ],
            [
             0.6666666666666666,
             "#ed7953"
            ],
            [
             0.7777777777777778,
             "#fb9f3a"
            ],
            [
             0.8888888888888888,
             "#fdca26"
            ],
            [
             1,
             "#f0f921"
            ]
           ],
           "sequentialminus": [
            [
             0,
             "#0d0887"
            ],
            [
             0.1111111111111111,
             "#46039f"
            ],
            [
             0.2222222222222222,
             "#7201a8"
            ],
            [
             0.3333333333333333,
             "#9c179e"
            ],
            [
             0.4444444444444444,
             "#bd3786"
            ],
            [
             0.5555555555555556,
             "#d8576b"
            ],
            [
             0.6666666666666666,
             "#ed7953"
            ],
            [
             0.7777777777777778,
             "#fb9f3a"
            ],
            [
             0.8888888888888888,
             "#fdca26"
            ],
            [
             1,
             "#f0f921"
            ]
           ]
          },
          "colorway": [
           "#636efa",
           "#EF553B",
           "#00cc96",
           "#ab63fa",
           "#FFA15A",
           "#19d3f3",
           "#FF6692",
           "#B6E880",
           "#FF97FF",
           "#FECB52"
          ],
          "font": {
           "color": "#2a3f5f"
          },
          "geo": {
           "bgcolor": "white",
           "lakecolor": "white",
           "landcolor": "#E5ECF6",
           "showlakes": true,
           "showland": true,
           "subunitcolor": "white"
          },
          "hoverlabel": {
           "align": "left"
          },
          "hovermode": "closest",
          "mapbox": {
           "style": "light"
          },
          "paper_bgcolor": "white",
          "plot_bgcolor": "#E5ECF6",
          "polar": {
           "angularaxis": {
            "gridcolor": "white",
            "linecolor": "white",
            "ticks": ""
           },
           "bgcolor": "#E5ECF6",
           "radialaxis": {
            "gridcolor": "white",
            "linecolor": "white",
            "ticks": ""
           }
          },
          "scene": {
           "xaxis": {
            "backgroundcolor": "#E5ECF6",
            "gridcolor": "white",
            "gridwidth": 2,
            "linecolor": "white",
            "showbackground": true,
            "ticks": "",
            "zerolinecolor": "white"
           },
           "yaxis": {
            "backgroundcolor": "#E5ECF6",
            "gridcolor": "white",
            "gridwidth": 2,
            "linecolor": "white",
            "showbackground": true,
            "ticks": "",
            "zerolinecolor": "white"
           },
           "zaxis": {
            "backgroundcolor": "#E5ECF6",
            "gridcolor": "white",
            "gridwidth": 2,
            "linecolor": "white",
            "showbackground": true,
            "ticks": "",
            "zerolinecolor": "white"
           }
          },
          "shapedefaults": {
           "line": {
            "color": "#2a3f5f"
           }
          },
          "ternary": {
           "aaxis": {
            "gridcolor": "white",
            "linecolor": "white",
            "ticks": ""
           },
           "baxis": {
            "gridcolor": "white",
            "linecolor": "white",
            "ticks": ""
           },
           "bgcolor": "#E5ECF6",
           "caxis": {
            "gridcolor": "white",
            "linecolor": "white",
            "ticks": ""
           }
          },
          "title": {
           "x": 0.05
          },
          "xaxis": {
           "automargin": true,
           "gridcolor": "white",
           "linecolor": "white",
           "ticks": "",
           "title": {
            "standoff": 15
           },
           "zerolinecolor": "white",
           "zerolinewidth": 2
          },
          "yaxis": {
           "automargin": true,
           "gridcolor": "white",
           "linecolor": "white",
           "ticks": "",
           "title": {
            "standoff": 15
           },
           "zerolinecolor": "white",
           "zerolinewidth": 2
          }
         }
        },
        "title": {
         "text": "Difference Between Available Beds and Homeless Count by State (2022)",
         "x": 0.5
        }
       }
      },
      "image/png": "[encoded data removed]",
      "text/html": [
       "<div>                            <div id=\"160ce671-0513-450a-a799-b490f36296ba\" class=\"plotly-graph-div\" style=\"height:525px; width:100%;\"></div>            <script type=\"text/javascript\">                require([\"plotly\"], function(Plotly) {                    window.PLOTLYENV=window.PLOTLYENV || {};                                    if (document.getElementById(\"160ce671-0513-450a-a799-b490f36296ba\")) {                    Plotly.newPlot(                        \"160ce671-0513-450a-a799-b490f36296ba\",                        [{\"coloraxis\":\"coloraxis\",\"geo\":\"geo\",\"hovertemplate\":\"CocState=%{location}<br>Difference=%{z}<extra></extra>\",\"locationmode\":\"USA-states\",\"locations\":[\"AK\",\"AL\",\"AR\",\"AZ\",\"CA\",\"CO\",\"CT\",\"DC\",\"DE\",\"FL\",\"GA\",\"HI\",\"IA\",\"ID\",\"IL\",\"IN\",\"KS\",\"KY\",\"LA\",\"MA\",\"MD\",\"ME\",\"MI\",\"MN\",\"MO\",\"MS\",\"MT\",\"NC\",\"ND\",\"NE\",\"NH\",\"NJ\",\"NM\",\"NV\",\"NY\",\"OH\",\"OK\",\"OR\",\"PA\",\"RI\",\"SC\",\"SD\",\"TN\",\"TX\",\"UT\",\"VA\",\"VT\",\"WA\",\"WI\",\"WV\",\"WY\"],\"name\":\"\",\"z\":[1617.0,903.0,1525.0,2315.0,38594.0,5219.0,1312.0,13684.0,571.0,8697.0,4306.0,1617.0,1320.0,945.0,6626.0,3741.0,1090.0,1723.0,2103.0,6557.0,3080.0,1026.0,2806.0,5989.0,3180.0,399.0,975.0,3558.0,482.0,1140.0,1013.0,2518.0,1260.0,924.0,14504.0,4332.0,1200.0,3217.0,4652.0,641.0,1405.0,407.0,2514.0,12148.0,897.0,1819.0,589.0,8818.0,1941.0,954.0,334.0],\"type\":\"choropleth\"}],                        {\"template\":{\"data\":{\"histogram2dcontour\":[{\"type\":\"histogram2dcontour\",\"colorbar\":{\"outlinewidth\":0,\"ticks\":\"\"},\"colorscale\":[[0.0,\"#0d0887\"],[0.1111111111111111,\"#46039f\"],[0.2222222222222222,\"#7201a8\"],[0.3333333333333333,\"#9c179e\"],[0.4444444444444444,\"#bd3786\"],[0.5555555555555556,\"#d8576b\"],[0.6666666666666666,\"#ed7953\"],[0.7777777777777778,\"#fb9f3a\"],[0.8888888888888888,\"#fdca26\"],[1.0,\"#f0f921\"]]}],\"choropleth\":[{\"type\":\"choropleth\",\"colorbar\":{\"outlinewidth\":0,\"ticks\":\"\"}}],\"histogram2d\":[{\"type\":\"histogram2d\",\"colorbar\":{\"outlinewidth\":0,\"ticks\":\"\"},\"colorscale\":[[0.0,\"#0d0887\"],[0.1111111111111111,\"#46039f\"],[0.2222222222222222,\"#7201a8\"],[0.3333333333333333,\"#9c179e\"],[0.4444444444444444,\"#bd3786\"],[0.5555555555555556,\"#d8576b\"],[0.6666666666666666,\"#ed7953\"],[0.7777777777777778,\"#fb9f3a\"],[0.8888888888888888,\"#fdca26\"],[1.0,\"#f0f921\"]]}],\"heatmap\":[{\"type\":\"heatmap\",\"colorbar\":{\"outlinewidth\":0,\"ticks\":\"\"},\"colorscale\":[[0.0,\"#0d0887\"],[0.1111111111111111,\"#46039f\"],[0.2222222222222222,\"#7201a8\"],[0.3333333333333333,\"#9c179e\"],[0.4444444444444444,\"#bd3786\"],[0.5555555555555556,\"#d8576b\"],[0.6666666666666666,\"#ed7953\"],[0.7777777777777778,\"#fb9f3a\"],[0.8888888888888888,\"#fdca26\"],[1.0,\"#f0f921\"]]}],\"heatmapgl\":[{\"type\":\"heatmapgl\",\"colorbar\":{\"outlinewidth\":0,\"ticks\":\"\"},\"colorscale\":[[0.0,\"#0d0887\"],[0.1111111111111111,\"#46039f\"],[0.2222222222222222,\"#7201a8\"],[0.3333333333333333,\"#9c179e\"],[0.4444444444444444,\"#bd3786\"],[0.5555555555555556,\"#d8576b\"],[0.6666666666666666,\"#ed7953\"],[0.7777777777777778,\"#fb9f3a\"],[0.8888888888888888,\"#fdca26\"],[1.0,\"#f0f921\"]]}],\"contourcarpet\":[{\"type\":\"contourcarpet\",\"colorbar\":{\"outlinewidth\":0,\"ticks\":\"\"}}],\"contour\":[{\"type\":\"contour\",\"colorbar\":{\"outlinewidth\":0,\"ticks\":\"\"},\"colorscale\":[[0.0,\"#0d0887\"],[0.1111111111111111,\"#46039f\"],[0.2222222222222222,\"#7201a8\"],[0.3333333333333333,\"#9c179e\"],[0.4444444444444444,\"#bd3786\"],[0.5555555555555556,\"#d8576b\"],[0.6666666666666666,\"#ed7953\"],[0.7777777777777778,\"#fb9f3a\"],[0.8888888888888888,\"#fdca26\"],[1.0,\"#f0f921\"]]}],\"surface\":[{\"type\":\"surface\",\"colorbar\":{\"outlinewidth\":0,\"ticks\":\"\"},\"colorscale\":[[0.0,\"#0d0887\"],[0.1111111111111111,\"#46039f\"],[0.2222222222222222,\"#7201a8\"],[0.3333333333333333,\"#9c179e\"],[0.4444444444444444,\"#bd3786\"],[0.5555555555555556,\"#d8576b\"],[0.6666666666666666,\"#ed7953\"],[0.7777777777777778,\"#fb9f3a\"],[0.8888888888888888,\"#fdca26\"],[1.0,\"#f0f921\"]]}],\"mesh3d\":[{\"type\":\"mesh3d\",\"colorbar\":{\"outlinewidth\":0,\"ticks\":\"\"}}],\"scatter\":[{\"fillpattern\":{\"fillmode\":\"overlay\",\"size\":10,\"solidity\":0.2},\"type\":\"scatter\"}],\"parcoords\":[{\"type\":\"parcoords\",\"line\":{\"colorbar\":{\"outlinewidth\":0,\"ticks\":\"\"}}}],\"scatterpolargl\":[{\"type\":\"scatterpolargl\",\"marker\":{\"colorbar\":{\"outlinewidth\":0,\"ticks\":\"\"}}}],\"bar\":[{\"error_x\":{\"color\":\"#2a3f5f\"},\"error_y\":{\"color\":\"#2a3f5f\"},\"marker\":{\"line\":{\"color\":\"#E5ECF6\",\"width\":0.5},\"pattern\":{\"fillmode\":\"overlay\",\"size\":10,\"solidity\":0.2}},\"type\":\"bar\"}],\"scattergeo\":[{\"type\":\"scattergeo\",\"marker\":{\"colorbar\":{\"outlinewidth\":0,\"ticks\":\"\"}}}],\"scatterpolar\":[{\"type\":\"scatterpolar\",\"marker\":{\"colorbar\":{\"outlinewidth\":0,\"ticks\":\"\"}}}],\"histogram\":[{\"marker\":{\"pattern\":{\"fillmode\":\"overlay\",\"size\":10,\"solidity\":0.2}},\"type\":\"histogram\"}],\"scattergl\":[{\"type\":\"scattergl\",\"marker\":{\"colorbar\":{\"outlinewidth\":0,\"ticks\":\"\"}}}],\"scatter3d\":[{\"type\":\"scatter3d\",\"line\":{\"colorbar\":{\"outlinewidth\":0,\"ticks\":\"\"}},\"marker\":{\"colorbar\":{\"outlinewidth\":0,\"ticks\":\"\"}}}],\"scattermapbox\":[{\"type\":\"scattermapbox\",\"marker\":{\"colorbar\":{\"outlinewidth\":0,\"ticks\":\"\"}}}],\"scatterternary\":[{\"type\":\"scatterternary\",\"marker\":{\"colorbar\":{\"outlinewidth\":0,\"ticks\":\"\"}}}],\"scattercarpet\":[{\"type\":\"scattercarpet\",\"marker\":{\"colorbar\":{\"outlinewidth\":0,\"ticks\":\"\"}}}],\"carpet\":[{\"aaxis\":{\"endlinecolor\":\"#2a3f5f\",\"gridcolor\":\"white\",\"linecolor\":\"white\",\"minorgridcolor\":\"white\",\"startlinecolor\":\"#2a3f5f\"},\"baxis\":{\"endlinecolor\":\"#2a3f5f\",\"gridcolor\":\"white\",\"linecolor\":\"white\",\"minorgridcolor\":\"white\",\"startlinecolor\":\"#2a3f5f\"},\"type\":\"carpet\"}],\"table\":[{\"cells\":{\"fill\":{\"color\":\"#EBF0F8\"},\"line\":{\"color\":\"white\"}},\"header\":{\"fill\":{\"color\":\"#C8D4E3\"},\"line\":{\"color\":\"white\"}},\"type\":\"table\"}],\"barpolar\":[{\"marker\":{\"line\":{\"color\":\"#E5ECF6\",\"width\":0.5},\"pattern\":{\"fillmode\":\"overlay\",\"size\":10,\"solidity\":0.2}},\"type\":\"barpolar\"}],\"pie\":[{\"automargin\":true,\"type\":\"pie\"}]},\"layout\":{\"autotypenumbers\":\"strict\",\"colorway\":[\"#636efa\",\"#EF553B\",\"#00cc96\",\"#ab63fa\",\"#FFA15A\",\"#19d3f3\",\"#FF6692\",\"#B6E880\",\"#FF97FF\",\"#FECB52\"],\"font\":{\"color\":\"#2a3f5f\"},\"hovermode\":\"closest\",\"hoverlabel\":{\"align\":\"left\"},\"paper_bgcolor\":\"white\",\"plot_bgcolor\":\"#E5ECF6\",\"polar\":{\"bgcolor\":\"#E5ECF6\",\"angularaxis\":{\"gridcolor\":\"white\",\"linecolor\":\"white\",\"ticks\":\"\"},\"radialaxis\":{\"gridcolor\":\"white\",\"linecolor\":\"white\",\"ticks\":\"\"}},\"ternary\":{\"bgcolor\":\"#E5ECF6\",\"aaxis\":{\"gridcolor\":\"white\",\"linecolor\":\"white\",\"ticks\":\"\"},\"baxis\":{\"gridcolor\":\"white\",\"linecolor\":\"white\",\"ticks\":\"\"},\"caxis\":{\"gridcolor\":\"white\",\"linecolor\":\"white\",\"ticks\":\"\"}},\"coloraxis\":{\"colorbar\":{\"outlinewidth\":0,\"ticks\":\"\"}},\"colorscale\":{\"sequential\":[[0.0,\"#0d0887\"],[0.1111111111111111,\"#46039f\"],[0.2222222222222222,\"#7201a8\"],[0.3333333333333333,\"#9c179e\"],[0.4444444444444444,\"#bd3786\"],[0.5555555555555556,\"#d8576b\"],[0.6666666666666666,\"#ed7953\"],[0.7777777777777778,\"#fb9f3a\"],[0.8888888888888888,\"#fdca26\"],[1.0,\"#f0f921\"]],\"sequentialminus\":[[0.0,\"#0d0887\"],[0.1111111111111111,\"#46039f\"],[0.2222222222222222,\"#7201a8\"],[0.3333333333333333,\"#9c179e\"],[0.4444444444444444,\"#bd3786\"],[0.5555555555555556,\"#d8576b\"],[0.6666666666666666,\"#ed7953\"],[0.7777777777777778,\"#fb9f3a\"],[0.8888888888888888,\"#fdca26\"],[1.0,\"#f0f921\"]],\"diverging\":[[0,\"#8e0152\"],[0.1,\"#c51b7d\"],[0.2,\"#de77ae\"],[0.3,\"#f1b6da\"],[0.4,\"#fde0ef\"],[0.5,\"#f7f7f7\"],[0.6,\"#e6f5d0\"],[0.7,\"#b8e186\"],[0.8,\"#7fbc41\"],[0.9,\"#4d9221\"],[1,\"#276419\"]]},\"xaxis\":{\"gridcolor\":\"white\",\"linecolor\":\"white\",\"ticks\":\"\",\"title\":{\"standoff\":15},\"zerolinecolor\":\"white\",\"automargin\":true,\"zerolinewidth\":2},\"yaxis\":{\"gridcolor\":\"white\",\"linecolor\":\"white\",\"ticks\":\"\",\"title\":{\"standoff\":15},\"zerolinecolor\":\"white\",\"automargin\":true,\"zerolinewidth\":2},\"scene\":{\"xaxis\":{\"backgroundcolor\":\"#E5ECF6\",\"gridcolor\":\"white\",\"linecolor\":\"white\",\"showbackground\":true,\"ticks\":\"\",\"zerolinecolor\":\"white\",\"gridwidth\":2},\"yaxis\":{\"backgroundcolor\":\"#E5ECF6\",\"gridcolor\":\"white\",\"linecolor\":\"white\",\"showbackground\":true,\"ticks\":\"\",\"zerolinecolor\":\"white\",\"gridwidth\":2},\"zaxis\":{\"backgroundcolor\":\"#E5ECF6\",\"gridcolor\":\"white\",\"linecolor\":\"white\",\"showbackground\":true,\"ticks\":\"\",\"zerolinecolor\":\"white\",\"gridwidth\":2}},\"shapedefaults\":{\"line\":{\"color\":\"#2a3f5f\"}},\"annotationdefaults\":{\"arrowcolor\":\"#2a3f5f\",\"arrowhead\":0,\"arrowwidth\":1},\"geo\":{\"bgcolor\":\"white\",\"landcolor\":\"#E5ECF6\",\"subunitcolor\":\"white\",\"showland\":true,\"showlakes\":true,\"lakecolor\":\"white\"},\"title\":{\"x\":0.05},\"mapbox\":{\"style\":\"light\"}}},\"geo\":{\"domain\":{\"x\":[0.0,1.0],\"y\":[0.0,1.0]},\"center\":{},\"scope\":\"usa\"},\"coloraxis\":{\"colorbar\":{\"title\":{\"text\":\"Difference\"}},\"colorscale\":[[0.0,\"#0d0887\"],[0.1111111111111111,\"#46039f\"],[0.2222222222222222,\"#7201a8\"],[0.3333333333333333,\"#9c179e\"],[0.4444444444444444,\"#bd3786\"],[0.5555555555555556,\"#d8576b\"],[0.6666666666666666,\"#ed7953\"],[0.7777777777777778,\"#fb9f3a\"],[0.8888888888888888,\"#fdca26\"],[1.0,\"#f0f921\"]]},\"legend\":{\"tracegroupgap\":0},\"title\":{\"text\":\"Difference Between Available Beds and Homeless Count by State (2022)\",\"x\":0.5}},                        {\"responsive\": true}                    ).then(function(){\n",
       "                            \n",
       "var gd = document.getElementById('160ce671-0513-450a-a799-b490f36296ba');\n",
       "var x = new MutationObserver(function (mutations, observer) {{\n",
       "        var display = window.getComputedStyle(gd).display;\n",
       "        if (!display || display === 'none') {{\n",
       "            console.log([gd, 'removed!']);\n",
       "            Plotly.purge(gd);\n",
       "            observer.disconnect();\n",
       "        }}\n",
       "}});\n",
       "\n",
       "// Listen for the removal of the full notebook cells\n",
       "var notebookContainer = gd.closest('#notebook-container');\n",
       "if (notebookContainer) {{\n",
       "    x.observe(notebookContainer, {childList: true});\n",
       "}}\n",
       "\n",
       "// Listen for the clearing of the current output cell\n",
       "var outputEl = gd.closest('.output');\n",
       "if (outputEl) {{\n",
       "    x.observe(outputEl, {childList: true});\n",
       "}}\n",
       "\n",
       "                        })                };                });            </script>        </div>"
      ]
     },
     "metadata": {},
     "output_type": "display_data"
    }
   ],
   "source": [
    "fig = px.choropleth(\n",
    "    total_beds_pit_table,\n",
    "    locations='CocState',\n",
    "    color='Difference',\n",
    "    locationmode='USA-states',\n",
    "    scope='usa',\n",
    "    color_continuous_scale=px.colors.sequential.Plasma,\n",
    "    title=\"Difference Between Available Beds and Homeless Count by State (2022)\"\n",
    ")\n",
    "fig.update_layout(title_x=0.5)\n",
    "fig.show()"
   ]
  },
  {
   "cell_type": "code",
   "execution_count": 126,
   "id": "6c1f8a54-8b3a-4403-8ba7-fa25b6d08181",
   "metadata": {},
   "outputs": [
    {
     "data": {
      "application/vnd.plotly.v1+json": {
       "config": {
        "plotlyServerURL": "https://plot.ly"
       },
       "data": [
        {
         "marker": {
          "color": "indianred"
         },
         "name": "Total Beds",
         "type": "bar",
         "x": [
          "AK",
          "AL",
          "AR",
          "AZ",
          "CA",
          "CO",
          "CT",
          "DC",
          "DE",
          "FL",
          "GA",
          "HI",
          "IA",
          "ID",
          "IL",
          "IN",
          "KS",
          "KY",
          "LA",
          "MA",
          "MD",
          "ME",
          "MI",
          "MN",
          "MO",
          "MS",
          "MT",
          "NC",
          "ND",
          "NE",
          "NH",
          "NJ",
          "NM",
          "NV",
          "NY",
          "OH",
          "OK",
          "OR",
          "PA",
          "RI",
          "SC",
          "SD",
          "TN",
          "TX",
          "UT",
          "VA",
          "VT",
          "WA",
          "WI",
          "WV",
          "WY"
         ],
         "y": [
          4992,
          5876,
          3554,
          18661,
          201685,
          22015,
          12543,
          36145,
          3745,
          49562,
          19935,
          8109,
          5978,
          3588,
          30730,
          14704,
          4789,
          10583,
          15754,
          39186,
          18908,
          8206,
          23856,
          29663,
          15761,
          2601,
          3563,
          20218,
          1647,
          5548,
          4075,
          21239,
          6759,
          9153,
          138484,
          35570,
          6712,
          22210,
          34965,
          4387,
          7054,
          2346,
          13795,
          53646,
          8147,
          16745,
          4800,
          45280,
          13316,
          3833,
          1366
         ]
        },
        {
         "marker": {
          "color": "lightsalmon"
         },
         "name": "Homeless Count",
         "type": "bar",
         "x": [
          "AK",
          "AL",
          "AR",
          "AZ",
          "CA",
          "CO",
          "CT",
          "DC",
          "DE",
          "FL",
          "GA",
          "HI",
          "IA",
          "ID",
          "IL",
          "IN",
          "KS",
          "KY",
          "LA",
          "MA",
          "MD",
          "ME",
          "MI",
          "MN",
          "MO",
          "MS",
          "MT",
          "NC",
          "ND",
          "NE",
          "NH",
          "NJ",
          "NM",
          "NV",
          "NY",
          "OH",
          "OK",
          "OR",
          "PA",
          "RI",
          "SC",
          "SD",
          "TN",
          "TX",
          "UT",
          "VA",
          "VT",
          "WA",
          "WI",
          "WV",
          "WY"
         ],
         "y": [
          3375,
          4973,
          2029,
          16346,
          163091,
          16796,
          11231,
          22461,
          3174,
          40865,
          15629,
          6492,
          4658,
          2643,
          24104,
          10963,
          3699,
          8860,
          13651,
          32629,
          15828,
          7180,
          21050,
          23674,
          12581,
          2202,
          2588,
          16660,
          1165,
          4408,
          3062,
          18721,
          5499,
          8229,
          123980,
          31238,
          5512,
          18993,
          30313,
          3746,
          5649,
          1939,
          11281,
          41498,
          7250,
          14926,
          4211,
          36462,
          11375,
          2879,
          1032
         ]
        }
       ],
       "layout": {
        "autosize": true,
        "barmode": "group",
        "legend": {
         "title": {
          "text": "Category"
         }
        },
        "template": {
         "data": {
          "bar": [
           {
            "error_x": {
             "color": "#2a3f5f"
            },
            "error_y": {
             "color": "#2a3f5f"
            },
            "marker": {
             "line": {
              "color": "#E5ECF6",
              "width": 0.5
             },
             "pattern": {
              "fillmode": "overlay",
              "size": 10,
              "solidity": 0.2
             }
            },
            "type": "bar"
           }
          ],
          "barpolar": [
           {
            "marker": {
             "line": {
              "color": "#E5ECF6",
              "width": 0.5
             },
             "pattern": {
              "fillmode": "overlay",
              "size": 10,
              "solidity": 0.2
             }
            },
            "type": "barpolar"
           }
          ],
          "carpet": [
           {
            "aaxis": {
             "endlinecolor": "#2a3f5f",
             "gridcolor": "white",
             "linecolor": "white",
             "minorgridcolor": "white",
             "startlinecolor": "#2a3f5f"
            },
            "baxis": {
             "endlinecolor": "#2a3f5f",
             "gridcolor": "white",
             "linecolor": "white",
             "minorgridcolor": "white",
             "startlinecolor": "#2a3f5f"
            },
            "type": "carpet"
           }
          ],
          "choropleth": [
           {
            "colorbar": {
             "outlinewidth": 0,
             "ticks": ""
            },
            "type": "choropleth"
           }
          ],
          "contour": [
           {
            "colorbar": {
             "outlinewidth": 0,
             "ticks": ""
            },
            "colorscale": [
             [
              0,
              "#0d0887"
             ],
             [
              0.1111111111111111,
              "#46039f"
             ],
             [
              0.2222222222222222,
              "#7201a8"
             ],
             [
              0.3333333333333333,
              "#9c179e"
             ],
             [
              0.4444444444444444,
              "#bd3786"
             ],
             [
              0.5555555555555556,
              "#d8576b"
             ],
             [
              0.6666666666666666,
              "#ed7953"
             ],
             [
              0.7777777777777778,
              "#fb9f3a"
             ],
             [
              0.8888888888888888,
              "#fdca26"
             ],
             [
              1,
              "#f0f921"
             ]
            ],
            "type": "contour"
           }
          ],
          "contourcarpet": [
           {
            "colorbar": {
             "outlinewidth": 0,
             "ticks": ""
            },
            "type": "contourcarpet"
           }
          ],
          "heatmap": [
           {
            "colorbar": {
             "outlinewidth": 0,
             "ticks": ""
            },
            "colorscale": [
             [
              0,
              "#0d0887"
             ],
             [
              0.1111111111111111,
              "#46039f"
             ],
             [
              0.2222222222222222,
              "#7201a8"
             ],
             [
              0.3333333333333333,
              "#9c179e"
             ],
             [
              0.4444444444444444,
              "#bd3786"
             ],
             [
              0.5555555555555556,
              "#d8576b"
             ],
             [
              0.6666666666666666,
              "#ed7953"
             ],
             [
              0.7777777777777778,
              "#fb9f3a"
             ],
             [
              0.8888888888888888,
              "#fdca26"
             ],
             [
              1,
              "#f0f921"
             ]
            ],
            "type": "heatmap"
           }
          ],
          "heatmapgl": [
           {
            "colorbar": {
             "outlinewidth": 0,
             "ticks": ""
            },
            "colorscale": [
             [
              0,
              "#0d0887"
             ],
             [
              0.1111111111111111,
              "#46039f"
             ],
             [
              0.2222222222222222,
              "#7201a8"
             ],
             [
              0.3333333333333333,
              "#9c179e"
             ],
             [
              0.4444444444444444,
              "#bd3786"
             ],
             [
              0.5555555555555556,
              "#d8576b"
             ],
             [
              0.6666666666666666,
              "#ed7953"
             ],
             [
              0.7777777777777778,
              "#fb9f3a"
             ],
             [
              0.8888888888888888,
              "#fdca26"
             ],
             [
              1,
              "#f0f921"
             ]
            ],
            "type": "heatmapgl"
           }
          ],
          "histogram": [
           {
            "marker": {
             "pattern": {
              "fillmode": "overlay",
              "size": 10,
              "solidity": 0.2
             }
            },
            "type": "histogram"
           }
          ],
          "histogram2d": [
           {
            "colorbar": {
             "outlinewidth": 0,
             "ticks": ""
            },
            "colorscale": [
             [
              0,
              "#0d0887"
             ],
             [
              0.1111111111111111,
              "#46039f"
             ],
             [
              0.2222222222222222,
              "#7201a8"
             ],
             [
              0.3333333333333333,
              "#9c179e"
             ],
             [
              0.4444444444444444,
              "#bd3786"
             ],
             [
              0.5555555555555556,
              "#d8576b"
             ],
             [
              0.6666666666666666,
              "#ed7953"
             ],
             [
              0.7777777777777778,
              "#fb9f3a"
             ],
             [
              0.8888888888888888,
              "#fdca26"
             ],
             [
              1,
              "#f0f921"
             ]
            ],
            "type": "histogram2d"
           }
          ],
          "histogram2dcontour": [
           {
            "colorbar": {
             "outlinewidth": 0,
             "ticks": ""
            },
            "colorscale": [
             [
              0,
              "#0d0887"
             ],
             [
              0.1111111111111111,
              "#46039f"
             ],
             [
              0.2222222222222222,
              "#7201a8"
             ],
             [
              0.3333333333333333,
              "#9c179e"
             ],
             [
              0.4444444444444444,
              "#bd3786"
             ],
             [
              0.5555555555555556,
              "#d8576b"
             ],
             [
              0.6666666666666666,
              "#ed7953"
             ],
             [
              0.7777777777777778,
              "#fb9f3a"
             ],
             [
              0.8888888888888888,
              "#fdca26"
             ],
             [
              1,
              "#f0f921"
             ]
            ],
            "type": "histogram2dcontour"
           }
          ],
          "mesh3d": [
           {
            "colorbar": {
             "outlinewidth": 0,
             "ticks": ""
            },
            "type": "mesh3d"
           }
          ],
          "parcoords": [
           {
            "line": {
             "colorbar": {
              "outlinewidth": 0,
              "ticks": ""
             }
            },
            "type": "parcoords"
           }
          ],
          "pie": [
           {
            "automargin": true,
            "type": "pie"
           }
          ],
          "scatter": [
           {
            "fillpattern": {
             "fillmode": "overlay",
             "size": 10,
             "solidity": 0.2
            },
            "type": "scatter"
           }
          ],
          "scatter3d": [
           {
            "line": {
             "colorbar": {
              "outlinewidth": 0,
              "ticks": ""
             }
            },
            "marker": {
             "colorbar": {
              "outlinewidth": 0,
              "ticks": ""
             }
            },
            "type": "scatter3d"
           }
          ],
          "scattercarpet": [
           {
            "marker": {
             "colorbar": {
              "outlinewidth": 0,
              "ticks": ""
             }
            },
            "type": "scattercarpet"
           }
          ],
          "scattergeo": [
           {
            "marker": {
             "colorbar": {
              "outlinewidth": 0,
              "ticks": ""
             }
            },
            "type": "scattergeo"
           }
          ],
          "scattergl": [
           {
            "marker": {
             "colorbar": {
              "outlinewidth": 0,
              "ticks": ""
             }
            },
            "type": "scattergl"
           }
          ],
          "scattermapbox": [
           {
            "marker": {
             "colorbar": {
              "outlinewidth": 0,
              "ticks": ""
             }
            },
            "type": "scattermapbox"
           }
          ],
          "scatterpolar": [
           {
            "marker": {
             "colorbar": {
              "outlinewidth": 0,
              "ticks": ""
             }
            },
            "type": "scatterpolar"
           }
          ],
          "scatterpolargl": [
           {
            "marker": {
             "colorbar": {
              "outlinewidth": 0,
              "ticks": ""
             }
            },
            "type": "scatterpolargl"
           }
          ],
          "scatterternary": [
           {
            "marker": {
             "colorbar": {
              "outlinewidth": 0,
              "ticks": ""
             }
            },
            "type": "scatterternary"
           }
          ],
          "surface": [
           {
            "colorbar": {
             "outlinewidth": 0,
             "ticks": ""
            },
            "colorscale": [
             [
              0,
              "#0d0887"
             ],
             [
              0.1111111111111111,
              "#46039f"
             ],
             [
              0.2222222222222222,
              "#7201a8"
             ],
             [
              0.3333333333333333,
              "#9c179e"
             ],
             [
              0.4444444444444444,
              "#bd3786"
             ],
             [
              0.5555555555555556,
              "#d8576b"
             ],
             [
              0.6666666666666666,
              "#ed7953"
             ],
             [
              0.7777777777777778,
              "#fb9f3a"
             ],
             [
              0.8888888888888888,
              "#fdca26"
             ],
             [
              1,
              "#f0f921"
             ]
            ],
            "type": "surface"
           }
          ],
          "table": [
           {
            "cells": {
             "fill": {
              "color": "#EBF0F8"
             },
             "line": {
              "color": "white"
             }
            },
            "header": {
             "fill": {
              "color": "#C8D4E3"
             },
             "line": {
              "color": "white"
             }
            },
            "type": "table"
           }
          ]
         },
         "layout": {
          "annotationdefaults": {
           "arrowcolor": "#2a3f5f",
           "arrowhead": 0,
           "arrowwidth": 1
          },
          "autotypenumbers": "strict",
          "coloraxis": {
           "colorbar": {
            "outlinewidth": 0,
            "ticks": ""
           }
          },
          "colorscale": {
           "diverging": [
            [
             0,
             "#8e0152"
            ],
            [
             0.1,
             "#c51b7d"
            ],
            [
             0.2,
             "#de77ae"
            ],
            [
             0.3,
             "#f1b6da"
            ],
            [
             0.4,
             "#fde0ef"
            ],
            [
             0.5,
             "#f7f7f7"
            ],
            [
             0.6,
             "#e6f5d0"
            ],
            [
             0.7,
             "#b8e186"
            ],
            [
             0.8,
             "#7fbc41"
            ],
            [
             0.9,
             "#4d9221"
            ],
            [
             1,
             "#276419"
            ]
           ],
           "sequential": [
            [
             0,
             "#0d0887"
            ],
            [
             0.1111111111111111,
             "#46039f"
            ],
            [
             0.2222222222222222,
             "#7201a8"
            ],
            [
             0.3333333333333333,
             "#9c179e"
            ],
            [
             0.4444444444444444,
             "#bd3786"
            ],
            [
             0.5555555555555556,
             "#d8576b"
            ],
            [
             0.6666666666666666,
             "#ed7953"
            ],
            [
             0.7777777777777778,
             "#fb9f3a"
            ],
            [
             0.8888888888888888,
             "#fdca26"
            ],
            [
             1,
             "#f0f921"
            ]
           ],
           "sequentialminus": [
            [
             0,
             "#0d0887"
            ],
            [
             0.1111111111111111,
             "#46039f"
            ],
            [
             0.2222222222222222,
             "#7201a8"
            ],
            [
             0.3333333333333333,
             "#9c179e"
            ],
            [
             0.4444444444444444,
             "#bd3786"
            ],
            [
             0.5555555555555556,
             "#d8576b"
            ],
            [
             0.6666666666666666,
             "#ed7953"
            ],
            [
             0.7777777777777778,
             "#fb9f3a"
            ],
            [
             0.8888888888888888,
             "#fdca26"
            ],
            [
             1,
             "#f0f921"
            ]
           ]
          },
          "colorway": [
           "#636efa",
           "#EF553B",
           "#00cc96",
           "#ab63fa",
           "#FFA15A",
           "#19d3f3",
           "#FF6692",
           "#B6E880",
           "#FF97FF",
           "#FECB52"
          ],
          "font": {
           "color": "#2a3f5f"
          },
          "geo": {
           "bgcolor": "white",
           "lakecolor": "white",
           "landcolor": "#E5ECF6",
           "showlakes": true,
           "showland": true,
           "subunitcolor": "white"
          },
          "hoverlabel": {
           "align": "left"
          },
          "hovermode": "closest",
          "mapbox": {
           "style": "light"
          },
          "paper_bgcolor": "white",
          "plot_bgcolor": "#E5ECF6",
          "polar": {
           "angularaxis": {
            "gridcolor": "white",
            "linecolor": "white",
            "ticks": ""
           },
           "bgcolor": "#E5ECF6",
           "radialaxis": {
            "gridcolor": "white",
            "linecolor": "white",
            "ticks": ""
           }
          },
          "scene": {
           "xaxis": {
            "backgroundcolor": "#E5ECF6",
            "gridcolor": "white",
            "gridwidth": 2,
            "linecolor": "white",
            "showbackground": true,
            "ticks": "",
            "zerolinecolor": "white"
           },
           "yaxis": {
            "backgroundcolor": "#E5ECF6",
            "gridcolor": "white",
            "gridwidth": 2,
            "linecolor": "white",
            "showbackground": true,
            "ticks": "",
            "zerolinecolor": "white"
           },
           "zaxis": {
            "backgroundcolor": "#E5ECF6",
            "gridcolor": "white",
            "gridwidth": 2,
            "linecolor": "white",
            "showbackground": true,
            "ticks": "",
            "zerolinecolor": "white"
           }
          },
          "shapedefaults": {
           "line": {
            "color": "#2a3f5f"
           }
          },
          "ternary": {
           "aaxis": {
            "gridcolor": "white",
            "linecolor": "white",
            "ticks": ""
           },
           "baxis": {
            "gridcolor": "white",
            "linecolor": "white",
            "ticks": ""
           },
           "bgcolor": "#E5ECF6",
           "caxis": {
            "gridcolor": "white",
            "linecolor": "white",
            "ticks": ""
           }
          },
          "title": {
           "x": 0.05
          },
          "xaxis": {
           "automargin": true,
           "gridcolor": "white",
           "linecolor": "white",
           "ticks": "",
           "title": {
            "standoff": 15
           },
           "zerolinecolor": "white",
           "zerolinewidth": 2
          },
          "yaxis": {
           "automargin": true,
           "gridcolor": "white",
           "linecolor": "white",
           "ticks": "",
           "title": {
            "standoff": 15
           },
           "zerolinecolor": "white",
           "zerolinewidth": 2
          }
         }
        },
        "title": {
         "text": "Total Available Beds and Homeless Count by State (2022)",
         "x": 0.5
        },
        "xaxis": {
         "autorange": true,
         "range": [
          -0.5,
          50.5
         ],
         "title": {
          "text": "State"
         },
         "type": "category"
        },
        "yaxis": {
         "autorange": true,
         "range": [
          0,
          212300
         ],
         "title": {
          "text": "Count"
         },
         "type": "linear"
        }
       }
      },
      "image/png": "[encoded data removed]",
      "text/html": [
       "<div>                            <div id=\"36ea948f-f192-40b9-bfda-e7850c1ea3fb\" class=\"plotly-graph-div\" style=\"height:525px; width:100%;\"></div>            <script type=\"text/javascript\">                require([\"plotly\"], function(Plotly) {                    window.PLOTLYENV=window.PLOTLYENV || {};                                    if (document.getElementById(\"36ea948f-f192-40b9-bfda-e7850c1ea3fb\")) {                    Plotly.newPlot(                        \"36ea948f-f192-40b9-bfda-e7850c1ea3fb\",                        [{\"marker\":{\"color\":\"indianred\"},\"name\":\"Total Beds\",\"x\":[\"AK\",\"AL\",\"AR\",\"AZ\",\"CA\",\"CO\",\"CT\",\"DC\",\"DE\",\"FL\",\"GA\",\"HI\",\"IA\",\"ID\",\"IL\",\"IN\",\"KS\",\"KY\",\"LA\",\"MA\",\"MD\",\"ME\",\"MI\",\"MN\",\"MO\",\"MS\",\"MT\",\"NC\",\"ND\",\"NE\",\"NH\",\"NJ\",\"NM\",\"NV\",\"NY\",\"OH\",\"OK\",\"OR\",\"PA\",\"RI\",\"SC\",\"SD\",\"TN\",\"TX\",\"UT\",\"VA\",\"VT\",\"WA\",\"WI\",\"WV\",\"WY\"],\"y\":[4992,5876,3554,18661,201685,22015,12543,36145,3745,49562,19935,8109,5978,3588,30730,14704,4789,10583,15754,39186,18908,8206,23856,29663,15761,2601,3563,20218,1647,5548,4075,21239,6759,9153,138484,35570,6712,22210,34965,4387,7054,2346,13795,53646,8147,16745,4800,45280,13316,3833,1366],\"type\":\"bar\"},{\"marker\":{\"color\":\"lightsalmon\"},\"name\":\"Homeless Count\",\"x\":[\"AK\",\"AL\",\"AR\",\"AZ\",\"CA\",\"CO\",\"CT\",\"DC\",\"DE\",\"FL\",\"GA\",\"HI\",\"IA\",\"ID\",\"IL\",\"IN\",\"KS\",\"KY\",\"LA\",\"MA\",\"MD\",\"ME\",\"MI\",\"MN\",\"MO\",\"MS\",\"MT\",\"NC\",\"ND\",\"NE\",\"NH\",\"NJ\",\"NM\",\"NV\",\"NY\",\"OH\",\"OK\",\"OR\",\"PA\",\"RI\",\"SC\",\"SD\",\"TN\",\"TX\",\"UT\",\"VA\",\"VT\",\"WA\",\"WI\",\"WV\",\"WY\"],\"y\":[3375,4973,2029,16346,163091,16796,11231,22461,3174,40865,15629,6492,4658,2643,24104,10963,3699,8860,13651,32629,15828,7180,21050,23674,12581,2202,2588,16660,1165,4408,3062,18721,5499,8229,123980,31238,5512,18993,30313,3746,5649,1939,11281,41498,7250,14926,4211,36462,11375,2879,1032],\"type\":\"bar\"}],                        {\"template\":{\"data\":{\"histogram2dcontour\":[{\"type\":\"histogram2dcontour\",\"colorbar\":{\"outlinewidth\":0,\"ticks\":\"\"},\"colorscale\":[[0.0,\"#0d0887\"],[0.1111111111111111,\"#46039f\"],[0.2222222222222222,\"#7201a8\"],[0.3333333333333333,\"#9c179e\"],[0.4444444444444444,\"#bd3786\"],[0.5555555555555556,\"#d8576b\"],[0.6666666666666666,\"#ed7953\"],[0.7777777777777778,\"#fb9f3a\"],[0.8888888888888888,\"#fdca26\"],[1.0,\"#f0f921\"]]}],\"choropleth\":[{\"type\":\"choropleth\",\"colorbar\":{\"outlinewidth\":0,\"ticks\":\"\"}}],\"histogram2d\":[{\"type\":\"histogram2d\",\"colorbar\":{\"outlinewidth\":0,\"ticks\":\"\"},\"colorscale\":[[0.0,\"#0d0887\"],[0.1111111111111111,\"#46039f\"],[0.2222222222222222,\"#7201a8\"],[0.3333333333333333,\"#9c179e\"],[0.4444444444444444,\"#bd3786\"],[0.5555555555555556,\"#d8576b\"],[0.6666666666666666,\"#ed7953\"],[0.7777777777777778,\"#fb9f3a\"],[0.8888888888888888,\"#fdca26\"],[1.0,\"#f0f921\"]]}],\"heatmap\":[{\"type\":\"heatmap\",\"colorbar\":{\"outlinewidth\":0,\"ticks\":\"\"},\"colorscale\":[[0.0,\"#0d0887\"],[0.1111111111111111,\"#46039f\"],[0.2222222222222222,\"#7201a8\"],[0.3333333333333333,\"#9c179e\"],[0.4444444444444444,\"#bd3786\"],[0.5555555555555556,\"#d8576b\"],[0.6666666666666666,\"#ed7953\"],[0.7777777777777778,\"#fb9f3a\"],[0.8888888888888888,\"#fdca26\"],[1.0,\"#f0f921\"]]}],\"heatmapgl\":[{\"type\":\"heatmapgl\",\"colorbar\":{\"outlinewidth\":0,\"ticks\":\"\"},\"colorscale\":[[0.0,\"#0d0887\"],[0.1111111111111111,\"#46039f\"],[0.2222222222222222,\"#7201a8\"],[0.3333333333333333,\"#9c179e\"],[0.4444444444444444,\"#bd3786\"],[0.5555555555555556,\"#d8576b\"],[0.6666666666666666,\"#ed7953\"],[0.7777777777777778,\"#fb9f3a\"],[0.8888888888888888,\"#fdca26\"],[1.0,\"#f0f921\"]]}],\"contourcarpet\":[{\"type\":\"contourcarpet\",\"colorbar\":{\"outlinewidth\":0,\"ticks\":\"\"}}],\"contour\":[{\"type\":\"contour\",\"colorbar\":{\"outlinewidth\":0,\"ticks\":\"\"},\"colorscale\":[[0.0,\"#0d0887\"],[0.1111111111111111,\"#46039f\"],[0.2222222222222222,\"#7201a8\"],[0.3333333333333333,\"#9c179e\"],[0.4444444444444444,\"#bd3786\"],[0.5555555555555556,\"#d8576b\"],[0.6666666666666666,\"#ed7953\"],[0.7777777777777778,\"#fb9f3a\"],[0.8888888888888888,\"#fdca26\"],[1.0,\"#f0f921\"]]}],\"surface\":[{\"type\":\"surface\",\"colorbar\":{\"outlinewidth\":0,\"ticks\":\"\"},\"colorscale\":[[0.0,\"#0d0887\"],[0.1111111111111111,\"#46039f\"],[0.2222222222222222,\"#7201a8\"],[0.3333333333333333,\"#9c179e\"],[0.4444444444444444,\"#bd3786\"],[0.5555555555555556,\"#d8576b\"],[0.6666666666666666,\"#ed7953\"],[0.7777777777777778,\"#fb9f3a\"],[0.8888888888888888,\"#fdca26\"],[1.0,\"#f0f921\"]]}],\"mesh3d\":[{\"type\":\"mesh3d\",\"colorbar\":{\"outlinewidth\":0,\"ticks\":\"\"}}],\"scatter\":[{\"fillpattern\":{\"fillmode\":\"overlay\",\"size\":10,\"solidity\":0.2},\"type\":\"scatter\"}],\"parcoords\":[{\"type\":\"parcoords\",\"line\":{\"colorbar\":{\"outlinewidth\":0,\"ticks\":\"\"}}}],\"scatterpolargl\":[{\"type\":\"scatterpolargl\",\"marker\":{\"colorbar\":{\"outlinewidth\":0,\"ticks\":\"\"}}}],\"bar\":[{\"error_x\":{\"color\":\"#2a3f5f\"},\"error_y\":{\"color\":\"#2a3f5f\"},\"marker\":{\"line\":{\"color\":\"#E5ECF6\",\"width\":0.5},\"pattern\":{\"fillmode\":\"overlay\",\"size\":10,\"solidity\":0.2}},\"type\":\"bar\"}],\"scattergeo\":[{\"type\":\"scattergeo\",\"marker\":{\"colorbar\":{\"outlinewidth\":0,\"ticks\":\"\"}}}],\"scatterpolar\":[{\"type\":\"scatterpolar\",\"marker\":{\"colorbar\":{\"outlinewidth\":0,\"ticks\":\"\"}}}],\"histogram\":[{\"marker\":{\"pattern\":{\"fillmode\":\"overlay\",\"size\":10,\"solidity\":0.2}},\"type\":\"histogram\"}],\"scattergl\":[{\"type\":\"scattergl\",\"marker\":{\"colorbar\":{\"outlinewidth\":0,\"ticks\":\"\"}}}],\"scatter3d\":[{\"type\":\"scatter3d\",\"line\":{\"colorbar\":{\"outlinewidth\":0,\"ticks\":\"\"}},\"marker\":{\"colorbar\":{\"outlinewidth\":0,\"ticks\":\"\"}}}],\"scattermapbox\":[{\"type\":\"scattermapbox\",\"marker\":{\"colorbar\":{\"outlinewidth\":0,\"ticks\":\"\"}}}],\"scatterternary\":[{\"type\":\"scatterternary\",\"marker\":{\"colorbar\":{\"outlinewidth\":0,\"ticks\":\"\"}}}],\"scattercarpet\":[{\"type\":\"scattercarpet\",\"marker\":{\"colorbar\":{\"outlinewidth\":0,\"ticks\":\"\"}}}],\"carpet\":[{\"aaxis\":{\"endlinecolor\":\"#2a3f5f\",\"gridcolor\":\"white\",\"linecolor\":\"white\",\"minorgridcolor\":\"white\",\"startlinecolor\":\"#2a3f5f\"},\"baxis\":{\"endlinecolor\":\"#2a3f5f\",\"gridcolor\":\"white\",\"linecolor\":\"white\",\"minorgridcolor\":\"white\",\"startlinecolor\":\"#2a3f5f\"},\"type\":\"carpet\"}],\"table\":[{\"cells\":{\"fill\":{\"color\":\"#EBF0F8\"},\"line\":{\"color\":\"white\"}},\"header\":{\"fill\":{\"color\":\"#C8D4E3\"},\"line\":{\"color\":\"white\"}},\"type\":\"table\"}],\"barpolar\":[{\"marker\":{\"line\":{\"color\":\"#E5ECF6\",\"width\":0.5},\"pattern\":{\"fillmode\":\"overlay\",\"size\":10,\"solidity\":0.2}},\"type\":\"barpolar\"}],\"pie\":[{\"automargin\":true,\"type\":\"pie\"}]},\"layout\":{\"autotypenumbers\":\"strict\",\"colorway\":[\"#636efa\",\"#EF553B\",\"#00cc96\",\"#ab63fa\",\"#FFA15A\",\"#19d3f3\",\"#FF6692\",\"#B6E880\",\"#FF97FF\",\"#FECB52\"],\"font\":{\"color\":\"#2a3f5f\"},\"hovermode\":\"closest\",\"hoverlabel\":{\"align\":\"left\"},\"paper_bgcolor\":\"white\",\"plot_bgcolor\":\"#E5ECF6\",\"polar\":{\"bgcolor\":\"#E5ECF6\",\"angularaxis\":{\"gridcolor\":\"white\",\"linecolor\":\"white\",\"ticks\":\"\"},\"radialaxis\":{\"gridcolor\":\"white\",\"linecolor\":\"white\",\"ticks\":\"\"}},\"ternary\":{\"bgcolor\":\"#E5ECF6\",\"aaxis\":{\"gridcolor\":\"white\",\"linecolor\":\"white\",\"ticks\":\"\"},\"baxis\":{\"gridcolor\":\"white\",\"linecolor\":\"white\",\"ticks\":\"\"},\"caxis\":{\"gridcolor\":\"white\",\"linecolor\":\"white\",\"ticks\":\"\"}},\"coloraxis\":{\"colorbar\":{\"outlinewidth\":0,\"ticks\":\"\"}},\"colorscale\":{\"sequential\":[[0.0,\"#0d0887\"],[0.1111111111111111,\"#46039f\"],[0.2222222222222222,\"#7201a8\"],[0.3333333333333333,\"#9c179e\"],[0.4444444444444444,\"#bd3786\"],[0.5555555555555556,\"#d8576b\"],[0.6666666666666666,\"#ed7953\"],[0.7777777777777778,\"#fb9f3a\"],[0.8888888888888888,\"#fdca26\"],[1.0,\"#f0f921\"]],\"sequentialminus\":[[0.0,\"#0d0887\"],[0.1111111111111111,\"#46039f\"],[0.2222222222222222,\"#7201a8\"],[0.3333333333333333,\"#9c179e\"],[0.4444444444444444,\"#bd3786\"],[0.5555555555555556,\"#d8576b\"],[0.6666666666666666,\"#ed7953\"],[0.7777777777777778,\"#fb9f3a\"],[0.8888888888888888,\"#fdca26\"],[1.0,\"#f0f921\"]],\"diverging\":[[0,\"#8e0152\"],[0.1,\"#c51b7d\"],[0.2,\"#de77ae\"],[0.3,\"#f1b6da\"],[0.4,\"#fde0ef\"],[0.5,\"#f7f7f7\"],[0.6,\"#e6f5d0\"],[0.7,\"#b8e186\"],[0.8,\"#7fbc41\"],[0.9,\"#4d9221\"],[1,\"#276419\"]]},\"xaxis\":{\"gridcolor\":\"white\",\"linecolor\":\"white\",\"ticks\":\"\",\"title\":{\"standoff\":15},\"zerolinecolor\":\"white\",\"automargin\":true,\"zerolinewidth\":2},\"yaxis\":{\"gridcolor\":\"white\",\"linecolor\":\"white\",\"ticks\":\"\",\"title\":{\"standoff\":15},\"zerolinecolor\":\"white\",\"automargin\":true,\"zerolinewidth\":2},\"scene\":{\"xaxis\":{\"backgroundcolor\":\"#E5ECF6\",\"gridcolor\":\"white\",\"linecolor\":\"white\",\"showbackground\":true,\"ticks\":\"\",\"zerolinecolor\":\"white\",\"gridwidth\":2},\"yaxis\":{\"backgroundcolor\":\"#E5ECF6\",\"gridcolor\":\"white\",\"linecolor\":\"white\",\"showbackground\":true,\"ticks\":\"\",\"zerolinecolor\":\"white\",\"gridwidth\":2},\"zaxis\":{\"backgroundcolor\":\"#E5ECF6\",\"gridcolor\":\"white\",\"linecolor\":\"white\",\"showbackground\":true,\"ticks\":\"\",\"zerolinecolor\":\"white\",\"gridwidth\":2}},\"shapedefaults\":{\"line\":{\"color\":\"#2a3f5f\"}},\"annotationdefaults\":{\"arrowcolor\":\"#2a3f5f\",\"arrowhead\":0,\"arrowwidth\":1},\"geo\":{\"bgcolor\":\"white\",\"landcolor\":\"#E5ECF6\",\"subunitcolor\":\"white\",\"showland\":true,\"showlakes\":true,\"lakecolor\":\"white\"},\"title\":{\"x\":0.05},\"mapbox\":{\"style\":\"light\"}}},\"title\":{\"text\":\"Total Available Beds and Homeless Count by State (2022)\",\"x\":0.5},\"barmode\":\"group\",\"xaxis\":{\"title\":{\"text\":\"State\"}},\"yaxis\":{\"title\":{\"text\":\"Count\"}},\"legend\":{\"title\":{\"text\":\"Category\"}}},                        {\"responsive\": true}                    ).then(function(){\n",
       "                            \n",
       "var gd = document.getElementById('36ea948f-f192-40b9-bfda-e7850c1ea3fb');\n",
       "var x = new MutationObserver(function (mutations, observer) {{\n",
       "        var display = window.getComputedStyle(gd).display;\n",
       "        if (!display || display === 'none') {{\n",
       "            console.log([gd, 'removed!']);\n",
       "            Plotly.purge(gd);\n",
       "            observer.disconnect();\n",
       "        }}\n",
       "}});\n",
       "\n",
       "// Listen for the removal of the full notebook cells\n",
       "var notebookContainer = gd.closest('#notebook-container');\n",
       "if (notebookContainer) {{\n",
       "    x.observe(notebookContainer, {childList: true});\n",
       "}}\n",
       "\n",
       "// Listen for the clearing of the current output cell\n",
       "var outputEl = gd.closest('.output');\n",
       "if (outputEl) {{\n",
       "    x.observe(outputEl, {childList: true});\n",
       "}}\n",
       "\n",
       "                        })                };                });            </script>        </div>"
      ]
     },
     "metadata": {},
     "output_type": "display_data"
    }
   ],
   "source": [
    "import plotly.graph_objects as go\n",
    "\n",
    "fig = go.Figure()\n",
    "\n",
    "fig.add_trace(go.Bar(\n",
    "    x=total_beds_pit_table['CocState'],\n",
    "    y=total_beds_pit_table['Total Beds'],\n",
    "    name='Total Beds',\n",
    "    marker_color='indianred'\n",
    "))\n",
    "\n",
    "fig.add_trace(go.Bar(\n",
    "    x=total_beds_pit_table['CocState'],\n",
    "    y=total_beds_pit_table['PIT Count'],\n",
    "    name='Homeless Count',\n",
    "    marker_color='lightsalmon'\n",
    "))\n",
    "\n",
    "fig.update_layout(\n",
    "    barmode='group',\n",
    "    title=\"Total Available Beds and Homeless Count by State (2022)\",\n",
    "    xaxis_title=\"State\",\n",
    "    yaxis_title=\"Count\",\n",
    "    legend_title=\"Category\",\n",
    "    title_x=0.5\n",
    ")\n",
    "\n",
    "fig.show()\n"
   ]
  },
  {
   "cell_type": "markdown",
   "id": "657124b0-b16d-4f8c-9b45-b258f03b790e",
   "metadata": {},
   "source": [
    "### 2022 Percentage of Homelessness by State"
   ]
  },
  {
   "cell_type": "code",
   "execution_count": 132,
   "id": "a554f7c3-95d7-4934-870e-5edcee8188e8",
   "metadata": {},
   "outputs": [
    {
     "data": {
      "text/html": [
       "<div>\n",
       "<style scoped>\n",
       "    .dataframe tbody tr th:only-of-type {\n",
       "        vertical-align: middle;\n",
       "    }\n",
       "\n",
       "    .dataframe tbody tr th {\n",
       "        vertical-align: top;\n",
       "    }\n",
       "\n",
       "    .dataframe thead th {\n",
       "        text-align: right;\n",
       "    }\n",
       "</style>\n",
       "<table border=\"1\" class=\"dataframe\">\n",
       "  <thead>\n",
       "    <tr style=\"text-align: right;\">\n",
       "      <th></th>\n",
       "      <th>CocState</th>\n",
       "      <th>PIT Count</th>\n",
       "      <th>Total Population</th>\n",
       "      <th>Homeless_Percentage</th>\n",
       "    </tr>\n",
       "  </thead>\n",
       "  <tbody>\n",
       "    <tr>\n",
       "      <th>7</th>\n",
       "      <td>DC</td>\n",
       "      <td>22461.0</td>\n",
       "      <td>671803.0</td>\n",
       "      <td>3.34</td>\n",
       "    </tr>\n",
       "    <tr>\n",
       "      <th>46</th>\n",
       "      <td>VT</td>\n",
       "      <td>4211.0</td>\n",
       "      <td>647064.0</td>\n",
       "      <td>0.65</td>\n",
       "    </tr>\n",
       "    <tr>\n",
       "      <th>34</th>\n",
       "      <td>NY</td>\n",
       "      <td>123980.0</td>\n",
       "      <td>19677151.0</td>\n",
       "      <td>0.63</td>\n",
       "    </tr>\n",
       "    <tr>\n",
       "      <th>21</th>\n",
       "      <td>ME</td>\n",
       "      <td>7180.0</td>\n",
       "      <td>1385340.0</td>\n",
       "      <td>0.52</td>\n",
       "    </tr>\n",
       "    <tr>\n",
       "      <th>47</th>\n",
       "      <td>WA</td>\n",
       "      <td>36462.0</td>\n",
       "      <td>7785786.0</td>\n",
       "      <td>0.47</td>\n",
       "    </tr>\n",
       "    <tr>\n",
       "      <th>19</th>\n",
       "      <td>MA</td>\n",
       "      <td>32629.0</td>\n",
       "      <td>6981974.0</td>\n",
       "      <td>0.47</td>\n",
       "    </tr>\n",
       "    <tr>\n",
       "      <th>0</th>\n",
       "      <td>AK</td>\n",
       "      <td>3375.0</td>\n",
       "      <td>733583.0</td>\n",
       "      <td>0.46</td>\n",
       "    </tr>\n",
       "    <tr>\n",
       "      <th>11</th>\n",
       "      <td>HI</td>\n",
       "      <td>6492.0</td>\n",
       "      <td>1440196.0</td>\n",
       "      <td>0.45</td>\n",
       "    </tr>\n",
       "    <tr>\n",
       "      <th>37</th>\n",
       "      <td>OR</td>\n",
       "      <td>18993.0</td>\n",
       "      <td>4240137.0</td>\n",
       "      <td>0.45</td>\n",
       "    </tr>\n",
       "    <tr>\n",
       "      <th>4</th>\n",
       "      <td>CA</td>\n",
       "      <td>163091.0</td>\n",
       "      <td>39029342.0</td>\n",
       "      <td>0.42</td>\n",
       "    </tr>\n",
       "    <tr>\n",
       "      <th>23</th>\n",
       "      <td>MN</td>\n",
       "      <td>23674.0</td>\n",
       "      <td>5717184.0</td>\n",
       "      <td>0.41</td>\n",
       "    </tr>\n",
       "    <tr>\n",
       "      <th>39</th>\n",
       "      <td>RI</td>\n",
       "      <td>3746.0</td>\n",
       "      <td>1093734.0</td>\n",
       "      <td>0.34</td>\n",
       "    </tr>\n",
       "    <tr>\n",
       "      <th>6</th>\n",
       "      <td>CT</td>\n",
       "      <td>11231.0</td>\n",
       "      <td>3626205.0</td>\n",
       "      <td>0.31</td>\n",
       "    </tr>\n",
       "    <tr>\n",
       "      <th>8</th>\n",
       "      <td>DE</td>\n",
       "      <td>3174.0</td>\n",
       "      <td>1018396.0</td>\n",
       "      <td>0.31</td>\n",
       "    </tr>\n",
       "    <tr>\n",
       "      <th>18</th>\n",
       "      <td>LA</td>\n",
       "      <td>13651.0</td>\n",
       "      <td>4590241.0</td>\n",
       "      <td>0.30</td>\n",
       "    </tr>\n",
       "    <tr>\n",
       "      <th>5</th>\n",
       "      <td>CO</td>\n",
       "      <td>16796.0</td>\n",
       "      <td>5839926.0</td>\n",
       "      <td>0.29</td>\n",
       "    </tr>\n",
       "    <tr>\n",
       "      <th>35</th>\n",
       "      <td>OH</td>\n",
       "      <td>31238.0</td>\n",
       "      <td>11756058.0</td>\n",
       "      <td>0.27</td>\n",
       "    </tr>\n",
       "    <tr>\n",
       "      <th>20</th>\n",
       "      <td>MD</td>\n",
       "      <td>15828.0</td>\n",
       "      <td>6164660.0</td>\n",
       "      <td>0.26</td>\n",
       "    </tr>\n",
       "    <tr>\n",
       "      <th>32</th>\n",
       "      <td>NM</td>\n",
       "      <td>5499.0</td>\n",
       "      <td>2113344.0</td>\n",
       "      <td>0.26</td>\n",
       "    </tr>\n",
       "    <tr>\n",
       "      <th>33</th>\n",
       "      <td>NV</td>\n",
       "      <td>8229.0</td>\n",
       "      <td>3177772.0</td>\n",
       "      <td>0.26</td>\n",
       "    </tr>\n",
       "    <tr>\n",
       "      <th>26</th>\n",
       "      <td>MT</td>\n",
       "      <td>2588.0</td>\n",
       "      <td>1122867.0</td>\n",
       "      <td>0.23</td>\n",
       "    </tr>\n",
       "    <tr>\n",
       "      <th>38</th>\n",
       "      <td>PA</td>\n",
       "      <td>30313.0</td>\n",
       "      <td>12972008.0</td>\n",
       "      <td>0.23</td>\n",
       "    </tr>\n",
       "    <tr>\n",
       "      <th>3</th>\n",
       "      <td>AZ</td>\n",
       "      <td>16346.0</td>\n",
       "      <td>7359197.0</td>\n",
       "      <td>0.22</td>\n",
       "    </tr>\n",
       "    <tr>\n",
       "      <th>29</th>\n",
       "      <td>NE</td>\n",
       "      <td>4408.0</td>\n",
       "      <td>1967923.0</td>\n",
       "      <td>0.22</td>\n",
       "    </tr>\n",
       "    <tr>\n",
       "      <th>30</th>\n",
       "      <td>NH</td>\n",
       "      <td>3062.0</td>\n",
       "      <td>1395231.0</td>\n",
       "      <td>0.22</td>\n",
       "    </tr>\n",
       "    <tr>\n",
       "      <th>22</th>\n",
       "      <td>MI</td>\n",
       "      <td>21050.0</td>\n",
       "      <td>10034113.0</td>\n",
       "      <td>0.21</td>\n",
       "    </tr>\n",
       "    <tr>\n",
       "      <th>41</th>\n",
       "      <td>SD</td>\n",
       "      <td>1939.0</td>\n",
       "      <td>909824.0</td>\n",
       "      <td>0.21</td>\n",
       "    </tr>\n",
       "    <tr>\n",
       "      <th>44</th>\n",
       "      <td>UT</td>\n",
       "      <td>7250.0</td>\n",
       "      <td>3380800.0</td>\n",
       "      <td>0.21</td>\n",
       "    </tr>\n",
       "    <tr>\n",
       "      <th>17</th>\n",
       "      <td>KY</td>\n",
       "      <td>8860.0</td>\n",
       "      <td>4512310.0</td>\n",
       "      <td>0.20</td>\n",
       "    </tr>\n",
       "    <tr>\n",
       "      <th>24</th>\n",
       "      <td>MO</td>\n",
       "      <td>12581.0</td>\n",
       "      <td>6177957.0</td>\n",
       "      <td>0.20</td>\n",
       "    </tr>\n",
       "    <tr>\n",
       "      <th>31</th>\n",
       "      <td>NJ</td>\n",
       "      <td>18721.0</td>\n",
       "      <td>9261699.0</td>\n",
       "      <td>0.20</td>\n",
       "    </tr>\n",
       "    <tr>\n",
       "      <th>14</th>\n",
       "      <td>IL</td>\n",
       "      <td>24104.0</td>\n",
       "      <td>12582032.0</td>\n",
       "      <td>0.19</td>\n",
       "    </tr>\n",
       "    <tr>\n",
       "      <th>48</th>\n",
       "      <td>WI</td>\n",
       "      <td>11375.0</td>\n",
       "      <td>5892539.0</td>\n",
       "      <td>0.19</td>\n",
       "    </tr>\n",
       "    <tr>\n",
       "      <th>50</th>\n",
       "      <td>WY</td>\n",
       "      <td>1032.0</td>\n",
       "      <td>581381.0</td>\n",
       "      <td>0.18</td>\n",
       "    </tr>\n",
       "    <tr>\n",
       "      <th>9</th>\n",
       "      <td>FL</td>\n",
       "      <td>40865.0</td>\n",
       "      <td>22244823.0</td>\n",
       "      <td>0.18</td>\n",
       "    </tr>\n",
       "    <tr>\n",
       "      <th>45</th>\n",
       "      <td>VA</td>\n",
       "      <td>14926.0</td>\n",
       "      <td>8683619.0</td>\n",
       "      <td>0.17</td>\n",
       "    </tr>\n",
       "    <tr>\n",
       "      <th>42</th>\n",
       "      <td>TN</td>\n",
       "      <td>11281.0</td>\n",
       "      <td>7051339.0</td>\n",
       "      <td>0.16</td>\n",
       "    </tr>\n",
       "    <tr>\n",
       "      <th>27</th>\n",
       "      <td>NC</td>\n",
       "      <td>16660.0</td>\n",
       "      <td>10698973.0</td>\n",
       "      <td>0.16</td>\n",
       "    </tr>\n",
       "    <tr>\n",
       "      <th>49</th>\n",
       "      <td>WV</td>\n",
       "      <td>2879.0</td>\n",
       "      <td>1775156.0</td>\n",
       "      <td>0.16</td>\n",
       "    </tr>\n",
       "    <tr>\n",
       "      <th>15</th>\n",
       "      <td>IN</td>\n",
       "      <td>10963.0</td>\n",
       "      <td>6833037.0</td>\n",
       "      <td>0.16</td>\n",
       "    </tr>\n",
       "    <tr>\n",
       "      <th>12</th>\n",
       "      <td>IA</td>\n",
       "      <td>4658.0</td>\n",
       "      <td>3200517.0</td>\n",
       "      <td>0.15</td>\n",
       "    </tr>\n",
       "    <tr>\n",
       "      <th>28</th>\n",
       "      <td>ND</td>\n",
       "      <td>1165.0</td>\n",
       "      <td>779261.0</td>\n",
       "      <td>0.15</td>\n",
       "    </tr>\n",
       "    <tr>\n",
       "      <th>13</th>\n",
       "      <td>ID</td>\n",
       "      <td>2643.0</td>\n",
       "      <td>1939033.0</td>\n",
       "      <td>0.14</td>\n",
       "    </tr>\n",
       "    <tr>\n",
       "      <th>43</th>\n",
       "      <td>TX</td>\n",
       "      <td>41498.0</td>\n",
       "      <td>30029572.0</td>\n",
       "      <td>0.14</td>\n",
       "    </tr>\n",
       "    <tr>\n",
       "      <th>10</th>\n",
       "      <td>GA</td>\n",
       "      <td>15629.0</td>\n",
       "      <td>10912876.0</td>\n",
       "      <td>0.14</td>\n",
       "    </tr>\n",
       "    <tr>\n",
       "      <th>36</th>\n",
       "      <td>OK</td>\n",
       "      <td>5512.0</td>\n",
       "      <td>4019800.0</td>\n",
       "      <td>0.14</td>\n",
       "    </tr>\n",
       "    <tr>\n",
       "      <th>16</th>\n",
       "      <td>KS</td>\n",
       "      <td>3699.0</td>\n",
       "      <td>2937150.0</td>\n",
       "      <td>0.13</td>\n",
       "    </tr>\n",
       "    <tr>\n",
       "      <th>40</th>\n",
       "      <td>SC</td>\n",
       "      <td>5649.0</td>\n",
       "      <td>5282634.0</td>\n",
       "      <td>0.11</td>\n",
       "    </tr>\n",
       "    <tr>\n",
       "      <th>1</th>\n",
       "      <td>AL</td>\n",
       "      <td>4973.0</td>\n",
       "      <td>5074296.0</td>\n",
       "      <td>0.10</td>\n",
       "    </tr>\n",
       "    <tr>\n",
       "      <th>2</th>\n",
       "      <td>AR</td>\n",
       "      <td>2029.0</td>\n",
       "      <td>3045637.0</td>\n",
       "      <td>0.07</td>\n",
       "    </tr>\n",
       "    <tr>\n",
       "      <th>25</th>\n",
       "      <td>MS</td>\n",
       "      <td>2202.0</td>\n",
       "      <td>2940057.0</td>\n",
       "      <td>0.07</td>\n",
       "    </tr>\n",
       "  </tbody>\n",
       "</table>\n",
       "</div>"
      ],
      "text/plain": [
       "   CocState  PIT Count  Total Population  Homeless_Percentage\n",
       "7        DC    22461.0          671803.0                 3.34\n",
       "46       VT     4211.0          647064.0                 0.65\n",
       "34       NY   123980.0        19677151.0                 0.63\n",
       "21       ME     7180.0         1385340.0                 0.52\n",
       "47       WA    36462.0         7785786.0                 0.47\n",
       "19       MA    32629.0         6981974.0                 0.47\n",
       "0        AK     3375.0          733583.0                 0.46\n",
       "11       HI     6492.0         1440196.0                 0.45\n",
       "37       OR    18993.0         4240137.0                 0.45\n",
       "4        CA   163091.0        39029342.0                 0.42\n",
       "23       MN    23674.0         5717184.0                 0.41\n",
       "39       RI     3746.0         1093734.0                 0.34\n",
       "6        CT    11231.0         3626205.0                 0.31\n",
       "8        DE     3174.0         1018396.0                 0.31\n",
       "18       LA    13651.0         4590241.0                 0.30\n",
       "5        CO    16796.0         5839926.0                 0.29\n",
       "35       OH    31238.0        11756058.0                 0.27\n",
       "20       MD    15828.0         6164660.0                 0.26\n",
       "32       NM     5499.0         2113344.0                 0.26\n",
       "33       NV     8229.0         3177772.0                 0.26\n",
       "26       MT     2588.0         1122867.0                 0.23\n",
       "38       PA    30313.0        12972008.0                 0.23\n",
       "3        AZ    16346.0         7359197.0                 0.22\n",
       "29       NE     4408.0         1967923.0                 0.22\n",
       "30       NH     3062.0         1395231.0                 0.22\n",
       "22       MI    21050.0        10034113.0                 0.21\n",
       "41       SD     1939.0          909824.0                 0.21\n",
       "44       UT     7250.0         3380800.0                 0.21\n",
       "17       KY     8860.0         4512310.0                 0.20\n",
       "24       MO    12581.0         6177957.0                 0.20\n",
       "31       NJ    18721.0         9261699.0                 0.20\n",
       "14       IL    24104.0        12582032.0                 0.19\n",
       "48       WI    11375.0         5892539.0                 0.19\n",
       "50       WY     1032.0          581381.0                 0.18\n",
       "9        FL    40865.0        22244823.0                 0.18\n",
       "45       VA    14926.0         8683619.0                 0.17\n",
       "42       TN    11281.0         7051339.0                 0.16\n",
       "27       NC    16660.0        10698973.0                 0.16\n",
       "49       WV     2879.0         1775156.0                 0.16\n",
       "15       IN    10963.0         6833037.0                 0.16\n",
       "12       IA     4658.0         3200517.0                 0.15\n",
       "28       ND     1165.0          779261.0                 0.15\n",
       "13       ID     2643.0         1939033.0                 0.14\n",
       "43       TX    41498.0        30029572.0                 0.14\n",
       "10       GA    15629.0        10912876.0                 0.14\n",
       "36       OK     5512.0         4019800.0                 0.14\n",
       "16       KS     3699.0         2937150.0                 0.13\n",
       "40       SC     5649.0         5282634.0                 0.11\n",
       "1        AL     4973.0         5074296.0                 0.10\n",
       "2        AR     2029.0         3045637.0                 0.07\n",
       "25       MS     2202.0         2940057.0                 0.07"
      ]
     },
     "execution_count": 132,
     "metadata": {},
     "output_type": "execute_result"
    }
   ],
   "source": [
    "# Aggregate the data for the year 2022\n",
    "hic_2022 = merged_df[merged_df['year'] == 2022]\n",
    "\n",
    "grouped_hic_2022 = (hic_2022.groupby('CocState')\n",
    "                    .agg({'PIT Count': 'sum', 'Total Population': 'max'})\n",
    "                    .reset_index()\n",
    "                    .assign(Homeless_Percentage=lambda x: (x['PIT Count'] / x['Total Population']) * 100).round(2)\n",
    "                    .sort_values(by='Homeless_Percentage', ascending=False))\n",
    "\n",
    "grouped_hic_2022\n"
   ]
  },
  {
   "cell_type": "code",
   "execution_count": null,
   "id": "31574dbf-19f8-458a-a809-670073aaedae",
   "metadata": {
    "tags": []
   },
   "outputs": [],
   "source": [
    "# Focusing on last years numbers, each states total population compared to the homeless population shows that Florida had a homeless population of .18% with a total count\n",
    "# of homeless individuals at 40,865."
   ]
  },
  {
   "cell_type": "markdown",
   "id": "71a82df7-8929-4a97-b91f-2817f06f7c20",
   "metadata": {},
   "source": [
    "### Correlation between population and Homeless Count"
   ]
  },
  {
   "cell_type": "code",
   "execution_count": 163,
   "id": "e1b5dcbd-06aa-4d74-920e-f8e0af6616d4",
   "metadata": {},
   "outputs": [
    {
     "name": "stdout",
     "output_type": "stream",
     "text": [
      "                  Total Population  PIT Count\n",
      "Total Population          1.000000   0.837332\n",
      "PIT Count                 0.837332   1.000000\n"
     ]
    }
   ],
   "source": [
    "correlation = grouped_hic_2022[['Total Population', 'PIT Count']].corr()\n",
    "print(correlation)\n"
   ]
  },
  {
   "cell_type": "code",
   "execution_count": null,
   "id": "3964fe4a-e750-457f-b0c2-2b3d9f4606ec",
   "metadata": {},
   "outputs": [],
   "source": [
    "# The correlation coefficient between the total population and the PIT Count is 0.837332. This value indicates a strong positive correlation between the two variables. \n",
    "# This means that as the total population size increases, the PIT Count (number of homeless individuals) also tends to increase. \n",
    "# It is important to note that correlation does not imply causation, and there may be other factors affecting the relationship between population size and homelessness. \n",
    "# However, this finding suggests that larger populations are generally associated with higher levels of homelessness."
   ]
  },
  {
   "cell_type": "markdown",
   "id": "d9ac4846-8f07-4ac5-99ff-744123d0577e",
   "metadata": {},
   "source": [
    "![green-divider](https://user-images.githubusercontent.com/7065401/52071924-c003ad80-2562-11e9-8297-1c6595f8a7ff.png)"
   ]
  },
  {
   "cell_type": "markdown",
   "id": "f6bc5f27-e1a6-42ba-b1f7-250edbc5b3aa",
   "metadata": {},
   "source": [
    "### Project types per state for 2018-2022"
   ]
  },
  {
   "cell_type": "code",
   "execution_count": 164,
   "id": "4a972651-dbb5-49ef-b802-8610c3c69334",
   "metadata": {},
   "outputs": [
    {
     "name": "stdout",
     "output_type": "stream",
     "text": [
      "     CocState                          CoC Project Type  Count\n",
      "0          AK  Alaska Balance of State CoC           ES    156\n",
      "1          AK  Alaska Balance of State CoC          OPH      1\n",
      "2          AK  Alaska Balance of State CoC          PSH     77\n",
      "3          AK  Alaska Balance of State CoC          RRH     56\n",
      "4          AK  Alaska Balance of State CoC           TH     82\n",
      "...       ...                          ...          ...    ...\n",
      "1973       WV   Wheeling, Weirton Area CoC           TH     21\n",
      "1974       WY        Wyoming Statewide CoC           ES    155\n",
      "1975       WY        Wyoming Statewide CoC          PSH     37\n",
      "1976       WY        Wyoming Statewide CoC          RRH     48\n",
      "1977       WY        Wyoming Statewide CoC           TH     61\n",
      "\n",
      "[1978 rows x 4 columns]\n"
     ]
    }
   ],
   "source": [
    "project_type_distribution = merged_df.groupby(['CocState', 'CoC', 'Project Type']).size().reset_index(name='Count')\n",
    "print(project_type_distribution)\n"
   ]
  },
  {
   "cell_type": "code",
   "execution_count": 165,
   "id": "372abe7a-61aa-4a67-b4c1-bc0f44620c4b",
   "metadata": {},
   "outputs": [
    {
     "data": {
      "image/png": "[encoded data removed]",
      "text/plain": [
       "<Figure size 1500x800 with 1 Axes>"
      ]
     },
     "metadata": {},
     "output_type": "display_data"
    }
   ],
   "source": [
    "plt.figure(figsize=(15, 8))\n",
    "sns.countplot(data=merged_df, x='CocState', hue='Project Type')\n",
    "plt.xlabel('CoC State')\n",
    "plt.ylabel('Count')\n",
    "plt.title('Distribution of Project Types by CoC State')\n",
    "plt.legend(title='Project Type', loc='upper right')\n",
    "plt.xticks(rotation=90)\n",
    "plt.show()"
   ]
  },
  {
   "cell_type": "code",
   "execution_count": null,
   "id": "1755c9e2-17ce-479c-a9ac-a3d4eae4adc1",
   "metadata": {},
   "outputs": [],
   "source": [
    "# From 2018 - 2022 (For all states) the Project Type that was the most used was Permanent Supportive Housing (41,270) followed by Emergency Shelter(39,565)."
   ]
  },
  {
   "cell_type": "markdown",
   "id": "f3bc655b-2483-4b07-ac5c-ffbf59d8a7f2",
   "metadata": {},
   "source": [
    "### Which project type was the most used for each state in the years 2018-2022?"
   ]
  },
  {
   "cell_type": "code",
   "execution_count": 7,
   "id": "081bcd65-d6f8-41d0-8830-4c9fe38cdd8c",
   "metadata": {},
   "outputs": [
    {
     "data": {
      "text/html": [
       "<div>\n",
       "<style scoped>\n",
       "    .dataframe tbody tr th:only-of-type {\n",
       "        vertical-align: middle;\n",
       "    }\n",
       "\n",
       "    .dataframe tbody tr th {\n",
       "        vertical-align: top;\n",
       "    }\n",
       "\n",
       "    .dataframe thead th {\n",
       "        text-align: right;\n",
       "    }\n",
       "</style>\n",
       "<table border=\"1\" class=\"dataframe\">\n",
       "  <thead>\n",
       "    <tr style=\"text-align: right;\">\n",
       "      <th></th>\n",
       "      <th>CocState</th>\n",
       "      <th>year</th>\n",
       "      <th>Project Type</th>\n",
       "      <th>count</th>\n",
       "    </tr>\n",
       "  </thead>\n",
       "  <tbody>\n",
       "    <tr>\n",
       "      <th>0</th>\n",
       "      <td>AK</td>\n",
       "      <td>2018</td>\n",
       "      <td>ES</td>\n",
       "      <td>45</td>\n",
       "    </tr>\n",
       "    <tr>\n",
       "      <th>5</th>\n",
       "      <td>AK</td>\n",
       "      <td>2019</td>\n",
       "      <td>ES</td>\n",
       "      <td>38</td>\n",
       "    </tr>\n",
       "    <tr>\n",
       "      <th>10</th>\n",
       "      <td>AK</td>\n",
       "      <td>2020</td>\n",
       "      <td>ES</td>\n",
       "      <td>45</td>\n",
       "    </tr>\n",
       "    <tr>\n",
       "      <th>15</th>\n",
       "      <td>AK</td>\n",
       "      <td>2021</td>\n",
       "      <td>ES</td>\n",
       "      <td>42</td>\n",
       "    </tr>\n",
       "    <tr>\n",
       "      <th>20</th>\n",
       "      <td>AK</td>\n",
       "      <td>2022</td>\n",
       "      <td>ES</td>\n",
       "      <td>65</td>\n",
       "    </tr>\n",
       "    <tr>\n",
       "      <th>...</th>\n",
       "      <td>...</td>\n",
       "      <td>...</td>\n",
       "      <td>...</td>\n",
       "      <td>...</td>\n",
       "    </tr>\n",
       "    <tr>\n",
       "      <th>1392</th>\n",
       "      <td>WY</td>\n",
       "      <td>2018</td>\n",
       "      <td>ES</td>\n",
       "      <td>20</td>\n",
       "    </tr>\n",
       "    <tr>\n",
       "      <th>1396</th>\n",
       "      <td>WY</td>\n",
       "      <td>2019</td>\n",
       "      <td>ES</td>\n",
       "      <td>22</td>\n",
       "    </tr>\n",
       "    <tr>\n",
       "      <th>1400</th>\n",
       "      <td>WY</td>\n",
       "      <td>2020</td>\n",
       "      <td>ES</td>\n",
       "      <td>32</td>\n",
       "    </tr>\n",
       "    <tr>\n",
       "      <th>1404</th>\n",
       "      <td>WY</td>\n",
       "      <td>2021</td>\n",
       "      <td>ES</td>\n",
       "      <td>39</td>\n",
       "    </tr>\n",
       "    <tr>\n",
       "      <th>1408</th>\n",
       "      <td>WY</td>\n",
       "      <td>2022</td>\n",
       "      <td>ES</td>\n",
       "      <td>42</td>\n",
       "    </tr>\n",
       "  </tbody>\n",
       "</table>\n",
       "<p>255 rows × 4 columns</p>\n",
       "</div>"
      ],
      "text/plain": [
       "     CocState  year Project Type  count\n",
       "0          AK  2018           ES     45\n",
       "5          AK  2019           ES     38\n",
       "10         AK  2020           ES     45\n",
       "15         AK  2021           ES     42\n",
       "20         AK  2022           ES     65\n",
       "...       ...   ...          ...    ...\n",
       "1392       WY  2018           ES     20\n",
       "1396       WY  2019           ES     22\n",
       "1400       WY  2020           ES     32\n",
       "1404       WY  2021           ES     39\n",
       "1408       WY  2022           ES     42\n",
       "\n",
       "[255 rows x 4 columns]"
      ]
     },
     "execution_count": 7,
     "metadata": {},
     "output_type": "execute_result"
    }
   ],
   "source": [
    "highest_count_project_types = (\n",
    "    merged_df.groupby(['CocState', 'year', 'Project Type'])\n",
    "    .size()\n",
    "    .reset_index(name='count')\n",
    "    .sort_values(['CocState', 'year', 'count'], ascending=[True, True, False])\n",
    ")\n",
    "\n",
    "highest_count_project_types = highest_count_project_types.drop_duplicates(subset=['CocState', 'year'])\n",
    "\n",
    "highest_count_project_types\n"
   ]
  },
  {
   "cell_type": "markdown",
   "id": "313e5e67-03bb-42b8-a8e5-e2d831fb3e2e",
   "metadata": {},
   "source": [
    "![green-divider](https://user-images.githubusercontent.com/7065401/52071924-c003ad80-2562-11e9-8297-1c6595f8a7ff.png)"
   ]
  },
  {
   "cell_type": "markdown",
   "id": "d636bdce-fb2f-481a-a84b-458f4880ebaa",
   "metadata": {
    "tags": []
   },
   "source": [
    "### How each Florida county grouping compares for the State of Florida 2018-2022"
   ]
  },
  {
   "cell_type": "code",
   "execution_count": 162,
   "id": "fcaa3e89-742e-4e7c-a41e-c3ade432b8a8",
   "metadata": {},
   "outputs": [
    {
     "data": {
      "text/html": [
       "<div>\n",
       "<style scoped>\n",
       "    .dataframe tbody tr th:only-of-type {\n",
       "        vertical-align: middle;\n",
       "    }\n",
       "\n",
       "    .dataframe tbody tr th {\n",
       "        vertical-align: top;\n",
       "    }\n",
       "\n",
       "    .dataframe thead th {\n",
       "        text-align: right;\n",
       "    }\n",
       "</style>\n",
       "<table border=\"1\" class=\"dataframe\">\n",
       "  <thead>\n",
       "    <tr style=\"text-align: right;\">\n",
       "      <th></th>\n",
       "      <th>CoC</th>\n",
       "      <th>year</th>\n",
       "      <th>Geo Code</th>\n",
       "      <th>PIT Count</th>\n",
       "      <th>Total Beds</th>\n",
       "    </tr>\n",
       "  </thead>\n",
       "  <tbody>\n",
       "    <tr>\n",
       "      <th>0</th>\n",
       "      <td>Citrus, Hernando, Lake, Sumter Counties CoC</td>\n",
       "      <td>2018</td>\n",
       "      <td>129017.0</td>\n",
       "      <td>669.0</td>\n",
       "      <td>800</td>\n",
       "    </tr>\n",
       "    <tr>\n",
       "      <th>1</th>\n",
       "      <td>Citrus, Hernando, Lake, Sumter Counties CoC</td>\n",
       "      <td>2019</td>\n",
       "      <td>129017.0</td>\n",
       "      <td>572.0</td>\n",
       "      <td>608</td>\n",
       "    </tr>\n",
       "    <tr>\n",
       "      <th>2</th>\n",
       "      <td>Citrus, Hernando, Lake, Sumter Counties CoC</td>\n",
       "      <td>2020</td>\n",
       "      <td>129017.0</td>\n",
       "      <td>523.0</td>\n",
       "      <td>614</td>\n",
       "    </tr>\n",
       "    <tr>\n",
       "      <th>3</th>\n",
       "      <td>Citrus, Hernando, Lake, Sumter Counties CoC</td>\n",
       "      <td>2021</td>\n",
       "      <td>129017.0</td>\n",
       "      <td>537.0</td>\n",
       "      <td>656</td>\n",
       "    </tr>\n",
       "    <tr>\n",
       "      <th>4</th>\n",
       "      <td>Citrus, Hernando, Lake, Sumter Counties CoC</td>\n",
       "      <td>2022</td>\n",
       "      <td>129017.0</td>\n",
       "      <td>685.0</td>\n",
       "      <td>772</td>\n",
       "    </tr>\n",
       "    <tr>\n",
       "      <th>...</th>\n",
       "      <td>...</td>\n",
       "      <td>...</td>\n",
       "      <td>...</td>\n",
       "      <td>...</td>\n",
       "      <td>...</td>\n",
       "    </tr>\n",
       "    <tr>\n",
       "      <th>130</th>\n",
       "      <td>West Palm Beach/Palm Beach County CoC</td>\n",
       "      <td>2018</td>\n",
       "      <td>129099.0</td>\n",
       "      <td>2097.0</td>\n",
       "      <td>2318</td>\n",
       "    </tr>\n",
       "    <tr>\n",
       "      <th>131</th>\n",
       "      <td>West Palm Beach/Palm Beach County CoC</td>\n",
       "      <td>2019</td>\n",
       "      <td>129099.0</td>\n",
       "      <td>1930.0</td>\n",
       "      <td>2194</td>\n",
       "    </tr>\n",
       "    <tr>\n",
       "      <th>132</th>\n",
       "      <td>West Palm Beach/Palm Beach County CoC</td>\n",
       "      <td>2020</td>\n",
       "      <td>129099.0</td>\n",
       "      <td>2147.0</td>\n",
       "      <td>2370</td>\n",
       "    </tr>\n",
       "    <tr>\n",
       "      <th>133</th>\n",
       "      <td>West Palm Beach/Palm Beach County CoC</td>\n",
       "      <td>2021</td>\n",
       "      <td>129099.0</td>\n",
       "      <td>2208.0</td>\n",
       "      <td>2689</td>\n",
       "    </tr>\n",
       "    <tr>\n",
       "      <th>134</th>\n",
       "      <td>West Palm Beach/Palm Beach County CoC</td>\n",
       "      <td>2022</td>\n",
       "      <td>129099.0</td>\n",
       "      <td>2068.0</td>\n",
       "      <td>2528</td>\n",
       "    </tr>\n",
       "  </tbody>\n",
       "</table>\n",
       "<p>135 rows × 5 columns</p>\n",
       "</div>"
      ],
      "text/plain": [
       "                                             CoC  year  Geo Code  PIT Count  \\\n",
       "0    Citrus, Hernando, Lake, Sumter Counties CoC  2018  129017.0      669.0   \n",
       "1    Citrus, Hernando, Lake, Sumter Counties CoC  2019  129017.0      572.0   \n",
       "2    Citrus, Hernando, Lake, Sumter Counties CoC  2020  129017.0      523.0   \n",
       "3    Citrus, Hernando, Lake, Sumter Counties CoC  2021  129017.0      537.0   \n",
       "4    Citrus, Hernando, Lake, Sumter Counties CoC  2022  129017.0      685.0   \n",
       "..                                           ...   ...       ...        ...   \n",
       "130        West Palm Beach/Palm Beach County CoC  2018  129099.0     2097.0   \n",
       "131        West Palm Beach/Palm Beach County CoC  2019  129099.0     1930.0   \n",
       "132        West Palm Beach/Palm Beach County CoC  2020  129099.0     2147.0   \n",
       "133        West Palm Beach/Palm Beach County CoC  2021  129099.0     2208.0   \n",
       "134        West Palm Beach/Palm Beach County CoC  2022  129099.0     2068.0   \n",
       "\n",
       "     Total Beds  \n",
       "0           800  \n",
       "1           608  \n",
       "2           614  \n",
       "3           656  \n",
       "4           772  \n",
       "..          ...  \n",
       "130        2318  \n",
       "131        2194  \n",
       "132        2370  \n",
       "133        2689  \n",
       "134        2528  \n",
       "\n",
       "[135 rows x 5 columns]"
      ]
     },
     "execution_count": 162,
     "metadata": {},
     "output_type": "execute_result"
    }
   ],
   "source": [
    "# Filter the data for CocState 'FL'\n",
    "fl_data = merged_df[merged_df['CocState'] == 'FL']\n",
    "\n",
    "# Group by 'CoC', 'year', and aggregate the 'Geo Code' and 'PIT Count' columns\n",
    "fl_grouped = fl_data.groupby(['CoC', 'year']).agg({'Geo Code': 'first', 'PIT Count': 'sum', 'Total Beds': 'sum'}).reset_index()\n",
    "\n",
    "# Display the table\n",
    "fl_grouped\n"
   ]
  },
  {
   "cell_type": "markdown",
   "id": "d3d93af5-6591-4435-accc-d7696b57166a",
   "metadata": {},
   "source": [
    "### Ranking the County groupings by number of homeless for the year 2018"
   ]
  },
  {
   "cell_type": "code",
   "execution_count": 150,
   "id": "2914368f-9c45-4b19-8cc8-94bb7180233e",
   "metadata": {},
   "outputs": [
    {
     "data": {
      "text/html": [
       "<div>\n",
       "<style scoped>\n",
       "    .dataframe tbody tr th:only-of-type {\n",
       "        vertical-align: middle;\n",
       "    }\n",
       "\n",
       "    .dataframe tbody tr th {\n",
       "        vertical-align: top;\n",
       "    }\n",
       "\n",
       "    .dataframe thead th {\n",
       "        text-align: right;\n",
       "    }\n",
       "</style>\n",
       "<table border=\"1\" class=\"dataframe\">\n",
       "  <thead>\n",
       "    <tr style=\"text-align: right;\">\n",
       "      <th></th>\n",
       "      <th>CoC</th>\n",
       "      <th>year</th>\n",
       "      <th>PIT Count</th>\n",
       "      <th>Total Beds</th>\n",
       "    </tr>\n",
       "  </thead>\n",
       "  <tbody>\n",
       "    <tr>\n",
       "      <th>11</th>\n",
       "      <td>Miami-Dade County CoC</td>\n",
       "      <td>2018</td>\n",
       "      <td>8163</td>\n",
       "      <td>8657</td>\n",
       "    </tr>\n",
       "    <tr>\n",
       "      <th>15</th>\n",
       "      <td>Orlando/Orange, Osceola, Seminole Counties CoC</td>\n",
       "      <td>2018</td>\n",
       "      <td>4161</td>\n",
       "      <td>4784</td>\n",
       "    </tr>\n",
       "    <tr>\n",
       "      <th>5</th>\n",
       "      <td>Ft Lauderdale/Broward County CoC</td>\n",
       "      <td>2018</td>\n",
       "      <td>4088</td>\n",
       "      <td>4919</td>\n",
       "    </tr>\n",
       "    <tr>\n",
       "      <th>23</th>\n",
       "      <td>St. Petersburg, Clearwater, Largo/Pinellas Cou...</td>\n",
       "      <td>2018</td>\n",
       "      <td>3735</td>\n",
       "      <td>4170</td>\n",
       "    </tr>\n",
       "    <tr>\n",
       "      <th>9</th>\n",
       "      <td>Jacksonville-Duval, Clay Counties CoC</td>\n",
       "      <td>2018</td>\n",
       "      <td>3419</td>\n",
       "      <td>3677</td>\n",
       "    </tr>\n",
       "    <tr>\n",
       "      <th>25</th>\n",
       "      <td>Tampa/Hillsborough County CoC</td>\n",
       "      <td>2018</td>\n",
       "      <td>3307</td>\n",
       "      <td>3609</td>\n",
       "    </tr>\n",
       "    <tr>\n",
       "      <th>26</th>\n",
       "      <td>West Palm Beach/Palm Beach County CoC</td>\n",
       "      <td>2018</td>\n",
       "      <td>2097</td>\n",
       "      <td>2318</td>\n",
       "    </tr>\n",
       "    <tr>\n",
       "      <th>24</th>\n",
       "      <td>Tallahassee/Leon County CoC</td>\n",
       "      <td>2018</td>\n",
       "      <td>1539</td>\n",
       "      <td>1515</td>\n",
       "    </tr>\n",
       "    <tr>\n",
       "      <th>7</th>\n",
       "      <td>Gainesville/Alachua, Putnam Counties CoC</td>\n",
       "      <td>2018</td>\n",
       "      <td>1325</td>\n",
       "      <td>1494</td>\n",
       "    </tr>\n",
       "    <tr>\n",
       "      <th>6</th>\n",
       "      <td>Ft Myers, Cape Coral/Lee County CoC</td>\n",
       "      <td>2018</td>\n",
       "      <td>1224</td>\n",
       "      <td>1251</td>\n",
       "    </tr>\n",
       "    <tr>\n",
       "      <th>21</th>\n",
       "      <td>Sarasota, Bradenton/Manatee, Sarasota Counties...</td>\n",
       "      <td>2018</td>\n",
       "      <td>1199</td>\n",
       "      <td>1574</td>\n",
       "    </tr>\n",
       "    <tr>\n",
       "      <th>16</th>\n",
       "      <td>Palm Bay, Melbourne/Brevard County CoC</td>\n",
       "      <td>2018</td>\n",
       "      <td>1019</td>\n",
       "      <td>1248</td>\n",
       "    </tr>\n",
       "    <tr>\n",
       "      <th>3</th>\n",
       "      <td>Fort Pierce/St. Lucie, Indian River, Martin Co...</td>\n",
       "      <td>2018</td>\n",
       "      <td>1011</td>\n",
       "      <td>1053</td>\n",
       "    </tr>\n",
       "    <tr>\n",
       "      <th>12</th>\n",
       "      <td>Monroe County CoC</td>\n",
       "      <td>2018</td>\n",
       "      <td>931</td>\n",
       "      <td>1055</td>\n",
       "    </tr>\n",
       "    <tr>\n",
       "      <th>19</th>\n",
       "      <td>Pensacola/Escambia, Santa Rosa Counties CoC</td>\n",
       "      <td>2018</td>\n",
       "      <td>924</td>\n",
       "      <td>1247</td>\n",
       "    </tr>\n",
       "    <tr>\n",
       "      <th>2</th>\n",
       "      <td>Deltona, Daytona Beach/Volusia, Flagler Counti...</td>\n",
       "      <td>2018</td>\n",
       "      <td>816</td>\n",
       "      <td>966</td>\n",
       "    </tr>\n",
       "    <tr>\n",
       "      <th>10</th>\n",
       "      <td>Lakeland, Winterhaven/Polk County CoC</td>\n",
       "      <td>2018</td>\n",
       "      <td>736</td>\n",
       "      <td>923</td>\n",
       "    </tr>\n",
       "    <tr>\n",
       "      <th>0</th>\n",
       "      <td>Citrus, Hernando, Lake, Sumter Counties CoC</td>\n",
       "      <td>2018</td>\n",
       "      <td>669</td>\n",
       "      <td>800</td>\n",
       "    </tr>\n",
       "    <tr>\n",
       "      <th>18</th>\n",
       "      <td>Pasco County CoC</td>\n",
       "      <td>2018</td>\n",
       "      <td>618</td>\n",
       "      <td>701</td>\n",
       "    </tr>\n",
       "    <tr>\n",
       "      <th>13</th>\n",
       "      <td>Naples/Collier County CoC</td>\n",
       "      <td>2018</td>\n",
       "      <td>544</td>\n",
       "      <td>544</td>\n",
       "    </tr>\n",
       "    <tr>\n",
       "      <th>14</th>\n",
       "      <td>Ocala/Marion County CoC</td>\n",
       "      <td>2018</td>\n",
       "      <td>448</td>\n",
       "      <td>526</td>\n",
       "    </tr>\n",
       "    <tr>\n",
       "      <th>4</th>\n",
       "      <td>Fort Walton Beach/Okaloosa, Walton Counties CoC</td>\n",
       "      <td>2018</td>\n",
       "      <td>307</td>\n",
       "      <td>409</td>\n",
       "    </tr>\n",
       "    <tr>\n",
       "      <th>8</th>\n",
       "      <td>Hendry, Hardee, Highlands Counties CoC</td>\n",
       "      <td>2018</td>\n",
       "      <td>294</td>\n",
       "      <td>291</td>\n",
       "    </tr>\n",
       "    <tr>\n",
       "      <th>1</th>\n",
       "      <td>Columbia, Hamilton, Lafayette, Suwannee Counti...</td>\n",
       "      <td>2018</td>\n",
       "      <td>250</td>\n",
       "      <td>298</td>\n",
       "    </tr>\n",
       "    <tr>\n",
       "      <th>22</th>\n",
       "      <td>St. Johns County CoC</td>\n",
       "      <td>2018</td>\n",
       "      <td>223</td>\n",
       "      <td>240</td>\n",
       "    </tr>\n",
       "    <tr>\n",
       "      <th>20</th>\n",
       "      <td>Punta Gorda/Charlotte County CoC</td>\n",
       "      <td>2018</td>\n",
       "      <td>205</td>\n",
       "      <td>246</td>\n",
       "    </tr>\n",
       "    <tr>\n",
       "      <th>17</th>\n",
       "      <td>Panama City/Bay, Jackson Counties CoC</td>\n",
       "      <td>2018</td>\n",
       "      <td>198</td>\n",
       "      <td>241</td>\n",
       "    </tr>\n",
       "  </tbody>\n",
       "</table>\n",
       "</div>"
      ],
      "text/plain": [
       "                                                  CoC  year  PIT Count  \\\n",
       "11                              Miami-Dade County CoC  2018       8163   \n",
       "15     Orlando/Orange, Osceola, Seminole Counties CoC  2018       4161   \n",
       "5                    Ft Lauderdale/Broward County CoC  2018       4088   \n",
       "23  St. Petersburg, Clearwater, Largo/Pinellas Cou...  2018       3735   \n",
       "9               Jacksonville-Duval, Clay Counties CoC  2018       3419   \n",
       "25                      Tampa/Hillsborough County CoC  2018       3307   \n",
       "26              West Palm Beach/Palm Beach County CoC  2018       2097   \n",
       "24                        Tallahassee/Leon County CoC  2018       1539   \n",
       "7            Gainesville/Alachua, Putnam Counties CoC  2018       1325   \n",
       "6                 Ft Myers, Cape Coral/Lee County CoC  2018       1224   \n",
       "21  Sarasota, Bradenton/Manatee, Sarasota Counties...  2018       1199   \n",
       "16             Palm Bay, Melbourne/Brevard County CoC  2018       1019   \n",
       "3   Fort Pierce/St. Lucie, Indian River, Martin Co...  2018       1011   \n",
       "12                                  Monroe County CoC  2018        931   \n",
       "19        Pensacola/Escambia, Santa Rosa Counties CoC  2018        924   \n",
       "2   Deltona, Daytona Beach/Volusia, Flagler Counti...  2018        816   \n",
       "10              Lakeland, Winterhaven/Polk County CoC  2018        736   \n",
       "0         Citrus, Hernando, Lake, Sumter Counties CoC  2018        669   \n",
       "18                                   Pasco County CoC  2018        618   \n",
       "13                          Naples/Collier County CoC  2018        544   \n",
       "14                            Ocala/Marion County CoC  2018        448   \n",
       "4     Fort Walton Beach/Okaloosa, Walton Counties CoC  2018        307   \n",
       "8              Hendry, Hardee, Highlands Counties CoC  2018        294   \n",
       "1   Columbia, Hamilton, Lafayette, Suwannee Counti...  2018        250   \n",
       "22                               St. Johns County CoC  2018        223   \n",
       "20                   Punta Gorda/Charlotte County CoC  2018        205   \n",
       "17              Panama City/Bay, Jackson Counties CoC  2018        198   \n",
       "\n",
       "    Total Beds  \n",
       "11        8657  \n",
       "15        4784  \n",
       "5         4919  \n",
       "23        4170  \n",
       "9         3677  \n",
       "25        3609  \n",
       "26        2318  \n",
       "24        1515  \n",
       "7         1494  \n",
       "6         1251  \n",
       "21        1574  \n",
       "16        1248  \n",
       "3         1053  \n",
       "12        1055  \n",
       "19        1247  \n",
       "2          966  \n",
       "10         923  \n",
       "0          800  \n",
       "18         701  \n",
       "13         544  \n",
       "14         526  \n",
       "4          409  \n",
       "8          291  \n",
       "1          298  \n",
       "22         240  \n",
       "20         246  \n",
       "17         241  "
      ]
     },
     "execution_count": 150,
     "metadata": {},
     "output_type": "execute_result"
    }
   ],
   "source": [
    "# Filter the data for CocState 'FL' and year 2018\n",
    "fl_2018_data = merged_df[(merged_df['CocState'] == 'FL') & (merged_df['year'] == 2018)]\n",
    "\n",
    "# Group by 'CoC' and aggregate the 'PIT Count' column\n",
    "fl_2018_grouped = fl_2018_data.groupby(['CoC', 'year']).agg({'PIT Count': 'sum', 'Total Beds': 'sum'}).reset_index()\n",
    "\n",
    "# Convert the 'PIT Count' column to an integer\n",
    "fl_2018_grouped['PIT Count'] = fl_2018_grouped['PIT Count'].astype(int)\n",
    "\n",
    "# Sort the grouped data by 'PIT Count' in descending order\n",
    "fl_2018_ranked = fl_2018_grouped.sort_values(by='PIT Count', ascending=False)\n",
    "\n",
    "# Display the ranked table\n",
    "fl_2018_ranked\n"
   ]
  },
  {
   "cell_type": "code",
   "execution_count": null,
   "id": "6bf7a57e-bfc9-4c49-ae47-c17aa1fbe25f",
   "metadata": {},
   "outputs": [],
   "source": []
  },
  {
   "cell_type": "code",
   "execution_count": 151,
   "id": "612bbbec-1b9f-4eba-80fe-ac8e8fdc32ae",
   "metadata": {},
   "outputs": [
    {
     "data": {
      "text/html": [
       "<div>\n",
       "<style scoped>\n",
       "    .dataframe tbody tr th:only-of-type {\n",
       "        vertical-align: middle;\n",
       "    }\n",
       "\n",
       "    .dataframe tbody tr th {\n",
       "        vertical-align: top;\n",
       "    }\n",
       "\n",
       "    .dataframe thead th {\n",
       "        text-align: right;\n",
       "    }\n",
       "</style>\n",
       "<table border=\"1\" class=\"dataframe\">\n",
       "  <thead>\n",
       "    <tr style=\"text-align: right;\">\n",
       "      <th></th>\n",
       "      <th>CoC</th>\n",
       "      <th>year</th>\n",
       "      <th>PIT Count</th>\n",
       "      <th>Total Beds</th>\n",
       "    </tr>\n",
       "  </thead>\n",
       "  <tbody>\n",
       "    <tr>\n",
       "      <th>11</th>\n",
       "      <td>Miami-Dade County CoC</td>\n",
       "      <td>2022</td>\n",
       "      <td>8025</td>\n",
       "      <td>9097</td>\n",
       "    </tr>\n",
       "    <tr>\n",
       "      <th>15</th>\n",
       "      <td>Orlando/Orange, Osceola, Seminole Counties CoC</td>\n",
       "      <td>2022</td>\n",
       "      <td>4576</td>\n",
       "      <td>5640</td>\n",
       "    </tr>\n",
       "    <tr>\n",
       "      <th>25</th>\n",
       "      <td>Tampa/Hillsborough County CoC</td>\n",
       "      <td>2022</td>\n",
       "      <td>3604</td>\n",
       "      <td>3849</td>\n",
       "    </tr>\n",
       "    <tr>\n",
       "      <th>23</th>\n",
       "      <td>St. Petersburg, Clearwater, Largo/Pinellas Cou...</td>\n",
       "      <td>2022</td>\n",
       "      <td>3341</td>\n",
       "      <td>4327</td>\n",
       "    </tr>\n",
       "    <tr>\n",
       "      <th>9</th>\n",
       "      <td>Jacksonville-Duval, Clay Counties CoC</td>\n",
       "      <td>2022</td>\n",
       "      <td>2257</td>\n",
       "      <td>2636</td>\n",
       "    </tr>\n",
       "    <tr>\n",
       "      <th>26</th>\n",
       "      <td>West Palm Beach/Palm Beach County CoC</td>\n",
       "      <td>2022</td>\n",
       "      <td>2068</td>\n",
       "      <td>2528</td>\n",
       "    </tr>\n",
       "    <tr>\n",
       "      <th>5</th>\n",
       "      <td>Ft Lauderdale/Broward County CoC</td>\n",
       "      <td>2022</td>\n",
       "      <td>1972</td>\n",
       "      <td>2598</td>\n",
       "    </tr>\n",
       "    <tr>\n",
       "      <th>16</th>\n",
       "      <td>Palm Bay, Melbourne/Brevard County CoC</td>\n",
       "      <td>2022</td>\n",
       "      <td>1826</td>\n",
       "      <td>1978</td>\n",
       "    </tr>\n",
       "    <tr>\n",
       "      <th>7</th>\n",
       "      <td>Gainesville/Alachua, Putnam Counties CoC</td>\n",
       "      <td>2022</td>\n",
       "      <td>1544</td>\n",
       "      <td>1790</td>\n",
       "    </tr>\n",
       "    <tr>\n",
       "      <th>2</th>\n",
       "      <td>Deltona, Daytona Beach/Volusia, Flagler Counti...</td>\n",
       "      <td>2022</td>\n",
       "      <td>1157</td>\n",
       "      <td>1431</td>\n",
       "    </tr>\n",
       "    <tr>\n",
       "      <th>21</th>\n",
       "      <td>Sarasota, Bradenton/Manatee, Sarasota Counties...</td>\n",
       "      <td>2022</td>\n",
       "      <td>1156</td>\n",
       "      <td>1893</td>\n",
       "    </tr>\n",
       "    <tr>\n",
       "      <th>6</th>\n",
       "      <td>Ft Myers, Cape Coral/Lee County CoC</td>\n",
       "      <td>2022</td>\n",
       "      <td>1033</td>\n",
       "      <td>1133</td>\n",
       "    </tr>\n",
       "    <tr>\n",
       "      <th>24</th>\n",
       "      <td>Tallahassee/Leon County CoC</td>\n",
       "      <td>2022</td>\n",
       "      <td>1026</td>\n",
       "      <td>1374</td>\n",
       "    </tr>\n",
       "    <tr>\n",
       "      <th>18</th>\n",
       "      <td>Pasco County CoC</td>\n",
       "      <td>2022</td>\n",
       "      <td>952</td>\n",
       "      <td>1604</td>\n",
       "    </tr>\n",
       "    <tr>\n",
       "      <th>10</th>\n",
       "      <td>Lakeland, Winterhaven/Polk County CoC</td>\n",
       "      <td>2022</td>\n",
       "      <td>850</td>\n",
       "      <td>1149</td>\n",
       "    </tr>\n",
       "    <tr>\n",
       "      <th>19</th>\n",
       "      <td>Pensacola/Escambia, Santa Rosa Counties CoC</td>\n",
       "      <td>2022</td>\n",
       "      <td>812</td>\n",
       "      <td>1096</td>\n",
       "    </tr>\n",
       "    <tr>\n",
       "      <th>3</th>\n",
       "      <td>Fort Pierce/St. Lucie, Indian River, Martin Co...</td>\n",
       "      <td>2022</td>\n",
       "      <td>773</td>\n",
       "      <td>909</td>\n",
       "    </tr>\n",
       "    <tr>\n",
       "      <th>0</th>\n",
       "      <td>Citrus, Hernando, Lake, Sumter Counties CoC</td>\n",
       "      <td>2022</td>\n",
       "      <td>685</td>\n",
       "      <td>772</td>\n",
       "    </tr>\n",
       "    <tr>\n",
       "      <th>13</th>\n",
       "      <td>Naples/Collier County CoC</td>\n",
       "      <td>2022</td>\n",
       "      <td>608</td>\n",
       "      <td>618</td>\n",
       "    </tr>\n",
       "    <tr>\n",
       "      <th>14</th>\n",
       "      <td>Ocala/Marion County CoC</td>\n",
       "      <td>2022</td>\n",
       "      <td>546</td>\n",
       "      <td>715</td>\n",
       "    </tr>\n",
       "    <tr>\n",
       "      <th>12</th>\n",
       "      <td>Monroe County CoC</td>\n",
       "      <td>2022</td>\n",
       "      <td>511</td>\n",
       "      <td>636</td>\n",
       "    </tr>\n",
       "    <tr>\n",
       "      <th>20</th>\n",
       "      <td>Punta Gorda/Charlotte County CoC</td>\n",
       "      <td>2022</td>\n",
       "      <td>404</td>\n",
       "      <td>412</td>\n",
       "    </tr>\n",
       "    <tr>\n",
       "      <th>1</th>\n",
       "      <td>Columbia, Hamilton, Lafayette, Suwannee Counti...</td>\n",
       "      <td>2022</td>\n",
       "      <td>351</td>\n",
       "      <td>447</td>\n",
       "    </tr>\n",
       "    <tr>\n",
       "      <th>4</th>\n",
       "      <td>Fort Walton Beach/Okaloosa, Walton Counties CoC</td>\n",
       "      <td>2022</td>\n",
       "      <td>341</td>\n",
       "      <td>369</td>\n",
       "    </tr>\n",
       "    <tr>\n",
       "      <th>22</th>\n",
       "      <td>St. Johns County CoC</td>\n",
       "      <td>2022</td>\n",
       "      <td>191</td>\n",
       "      <td>281</td>\n",
       "    </tr>\n",
       "    <tr>\n",
       "      <th>17</th>\n",
       "      <td>Panama City/Bay, Jackson Counties CoC</td>\n",
       "      <td>2022</td>\n",
       "      <td>137</td>\n",
       "      <td>161</td>\n",
       "    </tr>\n",
       "    <tr>\n",
       "      <th>8</th>\n",
       "      <td>Hendry, Hardee, Highlands Counties CoC</td>\n",
       "      <td>2022</td>\n",
       "      <td>119</td>\n",
       "      <td>119</td>\n",
       "    </tr>\n",
       "  </tbody>\n",
       "</table>\n",
       "</div>"
      ],
      "text/plain": [
       "                                                  CoC  year  PIT Count  \\\n",
       "11                              Miami-Dade County CoC  2022       8025   \n",
       "15     Orlando/Orange, Osceola, Seminole Counties CoC  2022       4576   \n",
       "25                      Tampa/Hillsborough County CoC  2022       3604   \n",
       "23  St. Petersburg, Clearwater, Largo/Pinellas Cou...  2022       3341   \n",
       "9               Jacksonville-Duval, Clay Counties CoC  2022       2257   \n",
       "26              West Palm Beach/Palm Beach County CoC  2022       2068   \n",
       "5                    Ft Lauderdale/Broward County CoC  2022       1972   \n",
       "16             Palm Bay, Melbourne/Brevard County CoC  2022       1826   \n",
       "7            Gainesville/Alachua, Putnam Counties CoC  2022       1544   \n",
       "2   Deltona, Daytona Beach/Volusia, Flagler Counti...  2022       1157   \n",
       "21  Sarasota, Bradenton/Manatee, Sarasota Counties...  2022       1156   \n",
       "6                 Ft Myers, Cape Coral/Lee County CoC  2022       1033   \n",
       "24                        Tallahassee/Leon County CoC  2022       1026   \n",
       "18                                   Pasco County CoC  2022        952   \n",
       "10              Lakeland, Winterhaven/Polk County CoC  2022        850   \n",
       "19        Pensacola/Escambia, Santa Rosa Counties CoC  2022        812   \n",
       "3   Fort Pierce/St. Lucie, Indian River, Martin Co...  2022        773   \n",
       "0         Citrus, Hernando, Lake, Sumter Counties CoC  2022        685   \n",
       "13                          Naples/Collier County CoC  2022        608   \n",
       "14                            Ocala/Marion County CoC  2022        546   \n",
       "12                                  Monroe County CoC  2022        511   \n",
       "20                   Punta Gorda/Charlotte County CoC  2022        404   \n",
       "1   Columbia, Hamilton, Lafayette, Suwannee Counti...  2022        351   \n",
       "4     Fort Walton Beach/Okaloosa, Walton Counties CoC  2022        341   \n",
       "22                               St. Johns County CoC  2022        191   \n",
       "17              Panama City/Bay, Jackson Counties CoC  2022        137   \n",
       "8              Hendry, Hardee, Highlands Counties CoC  2022        119   \n",
       "\n",
       "    Total Beds  \n",
       "11        9097  \n",
       "15        5640  \n",
       "25        3849  \n",
       "23        4327  \n",
       "9         2636  \n",
       "26        2528  \n",
       "5         2598  \n",
       "16        1978  \n",
       "7         1790  \n",
       "2         1431  \n",
       "21        1893  \n",
       "6         1133  \n",
       "24        1374  \n",
       "18        1604  \n",
       "10        1149  \n",
       "19        1096  \n",
       "3          909  \n",
       "0          772  \n",
       "13         618  \n",
       "14         715  \n",
       "12         636  \n",
       "20         412  \n",
       "1          447  \n",
       "4          369  \n",
       "22         281  \n",
       "17         161  \n",
       "8          119  "
      ]
     },
     "execution_count": 151,
     "metadata": {},
     "output_type": "execute_result"
    }
   ],
   "source": [
    "# Filter the data for CocState 'FL' and year 2018\n",
    "fl_2022_data = merged_df[(merged_df['CocState'] == 'FL') & (merged_df['year'] == 2022)]\n",
    "\n",
    "# Group by 'CoC' and aggregate the 'PIT Count' column\n",
    "fl_2022_grouped = fl_2022_data.groupby(['CoC', 'year']).agg({'PIT Count': 'sum', 'Total Beds': 'sum'}).reset_index()\n",
    "\n",
    "# Convert the 'PIT Count' column to an integer\n",
    "fl_2022_grouped['PIT Count'] = fl_2022_grouped['PIT Count'].astype(int)\n",
    "\n",
    "# Sort the grouped data by 'PIT Count' in descending order\n",
    "fl_2022_ranked = fl_2022_grouped.sort_values(by='PIT Count', ascending=False)\n",
    "\n",
    "# Display the ranked table\n",
    "fl_2022_ranked"
   ]
  },
  {
   "cell_type": "markdown",
   "id": "404e49f2-66d0-4b74-8342-3ea24565aefe",
   "metadata": {},
   "source": [
    "### Florida by year by County grouping"
   ]
  },
  {
   "cell_type": "code",
   "execution_count": 157,
   "id": "584c9d41-de82-4d06-b653-0494023a38ae",
   "metadata": {},
   "outputs": [
    {
     "data": {
      "image/png": "[encoded data removed]",
      "text/plain": [
       "<Figure size 1500x600 with 1 Axes>"
      ]
     },
     "metadata": {},
     "output_type": "display_data"
    }
   ],
   "source": [
    "# Filter the data for CocState 'FL' and years 2018 to 2022\n",
    "fl_data = merged_df[(merged_df['CocState'] == 'FL') & (merged_df['year'].between(2018, 2022))]\n",
    "\n",
    "# Group by 'CoC' and 'year', and aggregate the 'PIT Count' and 'Total Beds' columns\n",
    "fl_grouped = fl_data.groupby(['CoC', 'year']).agg({'PIT Count': 'sum', 'Total Beds': 'sum'}).reset_index()\n",
    "\n",
    "# Create a bar plot with multiple bars per group using Seaborn\n",
    "plt.figure(figsize=(15, 6))\n",
    "sns.barplot(data=fl_grouped, x='CoC', y='PIT Count', hue='year', palette='viridis')\n",
    "\n",
    "plt.xlabel('County Grouping')\n",
    "plt.ylabel('Homeless Count')\n",
    "plt.title('Homeless Count by County Grouping for Florida (2018-2022)')\n",
    "plt.xticks(rotation=90)\n",
    "plt.legend(title='Year')\n",
    "\n",
    "plt.show()\n"
   ]
  },
  {
   "cell_type": "markdown",
   "id": "5e5270aa-6d47-45e2-a3b2-75ec4e2d50ff",
   "metadata": {},
   "source": [
    "### 2022 County grouping comparing county population to homeless count percentage"
   ]
  },
  {
   "cell_type": "code",
   "execution_count": 161,
   "id": "0c27020c-a85e-4b29-ab8b-f5dd00a123a7",
   "metadata": {},
   "outputs": [
    {
     "data": {
      "text/html": [
       "<div>\n",
       "<style scoped>\n",
       "    .dataframe tbody tr th:only-of-type {\n",
       "        vertical-align: middle;\n",
       "    }\n",
       "\n",
       "    .dataframe tbody tr th {\n",
       "        vertical-align: top;\n",
       "    }\n",
       "\n",
       "    .dataframe thead th {\n",
       "        text-align: right;\n",
       "    }\n",
       "</style>\n",
       "<table border=\"1\" class=\"dataframe\">\n",
       "  <thead>\n",
       "    <tr style=\"text-align: right;\">\n",
       "      <th></th>\n",
       "      <th>CoC</th>\n",
       "      <th>PIT Count</th>\n",
       "      <th>Total Beds</th>\n",
       "      <th>County Population</th>\n",
       "      <th>Geo Code</th>\n",
       "      <th>Difference</th>\n",
       "      <th>Percentage</th>\n",
       "      <th>year</th>\n",
       "    </tr>\n",
       "  </thead>\n",
       "  <tbody>\n",
       "    <tr>\n",
       "      <th>0</th>\n",
       "      <td>Monroe County CoC</td>\n",
       "      <td>511</td>\n",
       "      <td>636</td>\n",
       "      <td>85808</td>\n",
       "      <td>129087.0</td>\n",
       "      <td>85297</td>\n",
       "      <td>0.60</td>\n",
       "      <td>2022</td>\n",
       "    </tr>\n",
       "    <tr>\n",
       "      <th>1</th>\n",
       "      <td>Gainesville/Alachua, Putnam Counties CoC</td>\n",
       "      <td>1544</td>\n",
       "      <td>1790</td>\n",
       "      <td>360816</td>\n",
       "      <td>121038.0</td>\n",
       "      <td>359272</td>\n",
       "      <td>0.43</td>\n",
       "      <td>2022</td>\n",
       "    </tr>\n",
       "    <tr>\n",
       "      <th>2</th>\n",
       "      <td>Tallahassee/Leon County CoC</td>\n",
       "      <td>1026</td>\n",
       "      <td>1374</td>\n",
       "      <td>297211</td>\n",
       "      <td>129073.0</td>\n",
       "      <td>296185</td>\n",
       "      <td>0.35</td>\n",
       "      <td>2022</td>\n",
       "    </tr>\n",
       "    <tr>\n",
       "      <th>3</th>\n",
       "      <td>St. Petersburg, Clearwater, Largo/Pinellas Cou...</td>\n",
       "      <td>3341</td>\n",
       "      <td>4327</td>\n",
       "      <td>971875</td>\n",
       "      <td>120492.0</td>\n",
       "      <td>968534</td>\n",
       "      <td>0.34</td>\n",
       "      <td>2022</td>\n",
       "    </tr>\n",
       "    <tr>\n",
       "      <th>4</th>\n",
       "      <td>Palm Bay, Melbourne/Brevard County CoC</td>\n",
       "      <td>1826</td>\n",
       "      <td>1978</td>\n",
       "      <td>625584</td>\n",
       "      <td>121926.0</td>\n",
       "      <td>623758</td>\n",
       "      <td>0.29</td>\n",
       "      <td>2022</td>\n",
       "    </tr>\n",
       "    <tr>\n",
       "      <th>5</th>\n",
       "      <td>Miami-Dade County CoC</td>\n",
       "      <td>8025</td>\n",
       "      <td>9097</td>\n",
       "      <td>2763366</td>\n",
       "      <td>121968.0</td>\n",
       "      <td>2755341</td>\n",
       "      <td>0.29</td>\n",
       "      <td>2022</td>\n",
       "    </tr>\n",
       "    <tr>\n",
       "      <th>6</th>\n",
       "      <td>Columbia, Hamilton, Lafayette, Suwannee Counti...</td>\n",
       "      <td>351</td>\n",
       "      <td>447</td>\n",
       "      <td>136197</td>\n",
       "      <td>129023.0</td>\n",
       "      <td>135846</td>\n",
       "      <td>0.26</td>\n",
       "      <td>2022</td>\n",
       "    </tr>\n",
       "    <tr>\n",
       "      <th>7</th>\n",
       "      <td>Tampa/Hillsborough County CoC</td>\n",
       "      <td>3604</td>\n",
       "      <td>3849</td>\n",
       "      <td>1528924</td>\n",
       "      <td>123012.0</td>\n",
       "      <td>1525320</td>\n",
       "      <td>0.24</td>\n",
       "      <td>2022</td>\n",
       "    </tr>\n",
       "    <tr>\n",
       "      <th>8</th>\n",
       "      <td>Punta Gorda/Charlotte County CoC</td>\n",
       "      <td>404</td>\n",
       "      <td>412</td>\n",
       "      <td>194908</td>\n",
       "      <td>129015.0</td>\n",
       "      <td>194504</td>\n",
       "      <td>0.21</td>\n",
       "      <td>2022</td>\n",
       "    </tr>\n",
       "    <tr>\n",
       "      <th>9</th>\n",
       "      <td>Orlando/Orange, Osceola, Seminole Counties CoC</td>\n",
       "      <td>4576</td>\n",
       "      <td>5640</td>\n",
       "      <td>2425038</td>\n",
       "      <td>129095.0</td>\n",
       "      <td>2420462</td>\n",
       "      <td>0.19</td>\n",
       "      <td>2022</td>\n",
       "    </tr>\n",
       "    <tr>\n",
       "      <th>10</th>\n",
       "      <td>Jacksonville-Duval, Clay Counties CoC</td>\n",
       "      <td>2257</td>\n",
       "      <td>2636</td>\n",
       "      <td>1261416</td>\n",
       "      <td>129031.0</td>\n",
       "      <td>1259159</td>\n",
       "      <td>0.18</td>\n",
       "      <td>2022</td>\n",
       "    </tr>\n",
       "    <tr>\n",
       "      <th>11</th>\n",
       "      <td>Deltona, Daytona Beach/Volusia, Flagler Counti...</td>\n",
       "      <td>1157</td>\n",
       "      <td>1431</td>\n",
       "      <td>692510</td>\n",
       "      <td>120690.0</td>\n",
       "      <td>691353</td>\n",
       "      <td>0.17</td>\n",
       "      <td>2022</td>\n",
       "    </tr>\n",
       "    <tr>\n",
       "      <th>12</th>\n",
       "      <td>Pasco County CoC</td>\n",
       "      <td>952</td>\n",
       "      <td>1604</td>\n",
       "      <td>591048</td>\n",
       "      <td>129101.0</td>\n",
       "      <td>590096</td>\n",
       "      <td>0.16</td>\n",
       "      <td>2022</td>\n",
       "    </tr>\n",
       "    <tr>\n",
       "      <th>13</th>\n",
       "      <td>Naples/Collier County CoC</td>\n",
       "      <td>608</td>\n",
       "      <td>618</td>\n",
       "      <td>392021</td>\n",
       "      <td>129021.0</td>\n",
       "      <td>391413</td>\n",
       "      <td>0.16</td>\n",
       "      <td>2022</td>\n",
       "    </tr>\n",
       "    <tr>\n",
       "      <th>14</th>\n",
       "      <td>Pensacola/Escambia, Santa Rosa Counties CoC</td>\n",
       "      <td>812</td>\n",
       "      <td>1096</td>\n",
       "      <td>528181</td>\n",
       "      <td>122466.0</td>\n",
       "      <td>527369</td>\n",
       "      <td>0.15</td>\n",
       "      <td>2022</td>\n",
       "    </tr>\n",
       "    <tr>\n",
       "      <th>15</th>\n",
       "      <td>Ocala/Marion County CoC</td>\n",
       "      <td>546</td>\n",
       "      <td>715</td>\n",
       "      <td>389291</td>\n",
       "      <td>122214.0</td>\n",
       "      <td>388745</td>\n",
       "      <td>0.14</td>\n",
       "      <td>2022</td>\n",
       "    </tr>\n",
       "    <tr>\n",
       "      <th>16</th>\n",
       "      <td>Sarasota, Bradenton/Manatee, Sarasota Counties...</td>\n",
       "      <td>1156</td>\n",
       "      <td>1893</td>\n",
       "      <td>873148</td>\n",
       "      <td>129115.0</td>\n",
       "      <td>871992</td>\n",
       "      <td>0.13</td>\n",
       "      <td>2022</td>\n",
       "    </tr>\n",
       "    <tr>\n",
       "      <th>17</th>\n",
       "      <td>West Palm Beach/Palm Beach County CoC</td>\n",
       "      <td>2068</td>\n",
       "      <td>2528</td>\n",
       "      <td>1543809</td>\n",
       "      <td>129099.0</td>\n",
       "      <td>1541741</td>\n",
       "      <td>0.13</td>\n",
       "      <td>2022</td>\n",
       "    </tr>\n",
       "    <tr>\n",
       "      <th>18</th>\n",
       "      <td>Ft Myers, Cape Coral/Lee County CoC</td>\n",
       "      <td>1033</td>\n",
       "      <td>1133</td>\n",
       "      <td>803443</td>\n",
       "      <td>129071.0</td>\n",
       "      <td>802410</td>\n",
       "      <td>0.13</td>\n",
       "      <td>2022</td>\n",
       "    </tr>\n",
       "    <tr>\n",
       "      <th>19</th>\n",
       "      <td>Lakeland, Winterhaven/Polk County CoC</td>\n",
       "      <td>850</td>\n",
       "      <td>1149</td>\n",
       "      <td>761931</td>\n",
       "      <td>121662.0</td>\n",
       "      <td>761081</td>\n",
       "      <td>0.11</td>\n",
       "      <td>2022</td>\n",
       "    </tr>\n",
       "    <tr>\n",
       "      <th>20</th>\n",
       "      <td>Fort Walton Beach/Okaloosa, Walton Counties CoC</td>\n",
       "      <td>341</td>\n",
       "      <td>369</td>\n",
       "      <td>302306</td>\n",
       "      <td>129091.0</td>\n",
       "      <td>301965</td>\n",
       "      <td>0.11</td>\n",
       "      <td>2022</td>\n",
       "    </tr>\n",
       "    <tr>\n",
       "      <th>21</th>\n",
       "      <td>Fort Pierce/St. Lucie, Indian River, Martin Co...</td>\n",
       "      <td>773</td>\n",
       "      <td>909</td>\n",
       "      <td>673038</td>\n",
       "      <td>129085.0</td>\n",
       "      <td>672265</td>\n",
       "      <td>0.11</td>\n",
       "      <td>2022</td>\n",
       "    </tr>\n",
       "    <tr>\n",
       "      <th>22</th>\n",
       "      <td>Ft Lauderdale/Broward County CoC</td>\n",
       "      <td>1972</td>\n",
       "      <td>2598</td>\n",
       "      <td>2003268</td>\n",
       "      <td>129011.0</td>\n",
       "      <td>2001296</td>\n",
       "      <td>0.10</td>\n",
       "      <td>2022</td>\n",
       "    </tr>\n",
       "    <tr>\n",
       "      <th>23</th>\n",
       "      <td>Citrus, Hernando, Lake, Sumter Counties CoC</td>\n",
       "      <td>685</td>\n",
       "      <td>772</td>\n",
       "      <td>909340</td>\n",
       "      <td>129017.0</td>\n",
       "      <td>908655</td>\n",
       "      <td>0.08</td>\n",
       "      <td>2022</td>\n",
       "    </tr>\n",
       "    <tr>\n",
       "      <th>24</th>\n",
       "      <td>Hendry, Hardee, Highlands Counties CoC</td>\n",
       "      <td>119</td>\n",
       "      <td>119</td>\n",
       "      <td>166340</td>\n",
       "      <td>129093.0</td>\n",
       "      <td>166221</td>\n",
       "      <td>0.07</td>\n",
       "      <td>2022</td>\n",
       "    </tr>\n",
       "    <tr>\n",
       "      <th>25</th>\n",
       "      <td>Panama City/Bay, Jackson Counties CoC</td>\n",
       "      <td>137</td>\n",
       "      <td>161</td>\n",
       "      <td>223714</td>\n",
       "      <td>122406.0</td>\n",
       "      <td>223577</td>\n",
       "      <td>0.06</td>\n",
       "      <td>2022</td>\n",
       "    </tr>\n",
       "    <tr>\n",
       "      <th>26</th>\n",
       "      <td>St. Johns County CoC</td>\n",
       "      <td>191</td>\n",
       "      <td>281</td>\n",
       "      <td>298442</td>\n",
       "      <td>129109.0</td>\n",
       "      <td>298251</td>\n",
       "      <td>0.06</td>\n",
       "      <td>2022</td>\n",
       "    </tr>\n",
       "  </tbody>\n",
       "</table>\n",
       "</div>"
      ],
      "text/plain": [
       "                                                  CoC  PIT Count  Total Beds  \\\n",
       "0                                   Monroe County CoC        511         636   \n",
       "1            Gainesville/Alachua, Putnam Counties CoC       1544        1790   \n",
       "2                         Tallahassee/Leon County CoC       1026        1374   \n",
       "3   St. Petersburg, Clearwater, Largo/Pinellas Cou...       3341        4327   \n",
       "4              Palm Bay, Melbourne/Brevard County CoC       1826        1978   \n",
       "5                               Miami-Dade County CoC       8025        9097   \n",
       "6   Columbia, Hamilton, Lafayette, Suwannee Counti...        351         447   \n",
       "7                       Tampa/Hillsborough County CoC       3604        3849   \n",
       "8                    Punta Gorda/Charlotte County CoC        404         412   \n",
       "9      Orlando/Orange, Osceola, Seminole Counties CoC       4576        5640   \n",
       "10              Jacksonville-Duval, Clay Counties CoC       2257        2636   \n",
       "11  Deltona, Daytona Beach/Volusia, Flagler Counti...       1157        1431   \n",
       "12                                   Pasco County CoC        952        1604   \n",
       "13                          Naples/Collier County CoC        608         618   \n",
       "14        Pensacola/Escambia, Santa Rosa Counties CoC        812        1096   \n",
       "15                            Ocala/Marion County CoC        546         715   \n",
       "16  Sarasota, Bradenton/Manatee, Sarasota Counties...       1156        1893   \n",
       "17              West Palm Beach/Palm Beach County CoC       2068        2528   \n",
       "18                Ft Myers, Cape Coral/Lee County CoC       1033        1133   \n",
       "19              Lakeland, Winterhaven/Polk County CoC        850        1149   \n",
       "20    Fort Walton Beach/Okaloosa, Walton Counties CoC        341         369   \n",
       "21  Fort Pierce/St. Lucie, Indian River, Martin Co...        773         909   \n",
       "22                   Ft Lauderdale/Broward County CoC       1972        2598   \n",
       "23        Citrus, Hernando, Lake, Sumter Counties CoC        685         772   \n",
       "24             Hendry, Hardee, Highlands Counties CoC        119         119   \n",
       "25              Panama City/Bay, Jackson Counties CoC        137         161   \n",
       "26                               St. Johns County CoC        191         281   \n",
       "\n",
       "    County Population  Geo Code  Difference  Percentage  year  \n",
       "0               85808  129087.0       85297        0.60  2022  \n",
       "1              360816  121038.0      359272        0.43  2022  \n",
       "2              297211  129073.0      296185        0.35  2022  \n",
       "3              971875  120492.0      968534        0.34  2022  \n",
       "4              625584  121926.0      623758        0.29  2022  \n",
       "5             2763366  121968.0     2755341        0.29  2022  \n",
       "6              136197  129023.0      135846        0.26  2022  \n",
       "7             1528924  123012.0     1525320        0.24  2022  \n",
       "8              194908  129015.0      194504        0.21  2022  \n",
       "9             2425038  129095.0     2420462        0.19  2022  \n",
       "10            1261416  129031.0     1259159        0.18  2022  \n",
       "11             692510  120690.0      691353        0.17  2022  \n",
       "12             591048  129101.0      590096        0.16  2022  \n",
       "13             392021  129021.0      391413        0.16  2022  \n",
       "14             528181  122466.0      527369        0.15  2022  \n",
       "15             389291  122214.0      388745        0.14  2022  \n",
       "16             873148  129115.0      871992        0.13  2022  \n",
       "17            1543809  129099.0     1541741        0.13  2022  \n",
       "18             803443  129071.0      802410        0.13  2022  \n",
       "19             761931  121662.0      761081        0.11  2022  \n",
       "20             302306  129091.0      301965        0.11  2022  \n",
       "21             673038  129085.0      672265        0.11  2022  \n",
       "22            2003268  129011.0     2001296        0.10  2022  \n",
       "23             909340  129017.0      908655        0.08  2022  \n",
       "24             166340  129093.0      166221        0.07  2022  \n",
       "25             223714  122406.0      223577        0.06  2022  \n",
       "26             298442  129109.0      298251        0.06  2022  "
      ]
     },
     "execution_count": 161,
     "metadata": {},
     "output_type": "execute_result"
    }
   ],
   "source": [
    "# Filter the data for CocState 'FL' and year 2022\n",
    "fl_2022_data = merged_df[(merged_df['CocState'] == 'FL') & (merged_df['year'] == 2022)]\n",
    "\n",
    "# Group by 'CoC' and aggregate the 'PIT Count', 'County Population', and 'Geo Code' columns\n",
    "fl_2022_grouped = fl_2022_data.groupby('CoC').agg({'PIT Count': 'sum', 'Total Beds': 'sum', 'County Population': 'max', 'Geo Code': 'first'}).reset_index()\n",
    "\n",
    "# Calculate the difference and percentage columns\n",
    "fl_2022_grouped['Difference'] = fl_2022_grouped['County Population'] - fl_2022_grouped['PIT Count']\n",
    "fl_2022_grouped['Percentage'] = (fl_2022_grouped['PIT Count'] / fl_2022_grouped['County Population']) * 100\n",
    "\n",
    "# Round the Percentage column to 2 decimal places and convert the other columns to integers\n",
    "fl_2022_grouped['Percentage'] = fl_2022_grouped['Percentage'].round(2)\n",
    "fl_2022_grouped['PIT Count'] = fl_2022_grouped['PIT Count'].astype(int)\n",
    "fl_2022_grouped['County Population'] = fl_2022_grouped['County Population'].astype(int)\n",
    "fl_2022_grouped['Difference'] = fl_2022_grouped['Difference'].astype(int)\n",
    "\n",
    "# Add the 'year' column\n",
    "fl_2022_grouped['year'] = 2022\n",
    "\n",
    "fl_2022_grouped_sorted = fl_2022_grouped.sort_values(by='Percentage', ascending=False).reset_index(drop=True)\n",
    "\n",
    "fl_2022_grouped_sorted\n",
    "\n"
   ]
  },
  {
   "cell_type": "code",
   "execution_count": null,
   "id": "e458b4b8-e72f-4644-988b-04624a0d1da6",
   "metadata": {},
   "outputs": [],
   "source": [
    "# Out of all of the county groupings for the state of Florida for last year (2022) Monroe County had the highest percentage of homeless compared to their \n",
    "# total population. The Sarasota Counties ranked below the median with .13% homeless population."
   ]
  }
 ],
 "metadata": {
  "kernelspec": {
   "display_name": "Python 3 (ipykernel)",
   "language": "python",
   "name": "python3"
  },
  "language_info": {
   "codemirror_mode": {
    "name": "ipython",
    "version": 3
   },
   "file_extension": ".py",
   "mimetype": "text/x-python",
   "name": "python",
   "nbconvert_exporter": "python",
   "pygments_lexer": "ipython3",
   "version": "3.9.13"
  }
 },
 "nbformat": 4,
 "nbformat_minor": 5
}
